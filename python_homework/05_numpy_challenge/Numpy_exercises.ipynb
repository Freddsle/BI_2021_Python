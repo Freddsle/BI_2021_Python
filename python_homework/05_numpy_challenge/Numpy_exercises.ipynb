{
 "cells": [
  {
   "cell_type": "markdown",
   "id": "5dae4476",
   "metadata": {},
   "source": [
    "Tasks 1, 3, 6, 7, 8, 9, 45 and 58."
   ]
  },
  {
   "cell_type": "markdown",
   "id": "d2290fa3",
   "metadata": {},
   "source": [
    "# 1\n",
    "Import the numpy package under the name np"
   ]
  },
  {
   "cell_type": "code",
   "execution_count": 1,
   "id": "6f3b6a69",
   "metadata": {},
   "outputs": [],
   "source": [
    "import numpy as np"
   ]
  },
  {
   "cell_type": "markdown",
   "id": "4bd27304",
   "metadata": {},
   "source": [
    "# 3\n",
    "Create a null vector of size 10"
   ]
  },
  {
   "cell_type": "code",
   "execution_count": 5,
   "id": "01ab7613",
   "metadata": {},
   "outputs": [
    {
     "data": {
      "text/plain": [
       "array([0., 0., 0., 0., 0., 0., 0., 0., 0., 0.])"
      ]
     },
     "execution_count": 5,
     "metadata": {},
     "output_type": "execute_result"
    }
   ],
   "source": [
    "null_vector = np.zeros(10)\n",
    "null_vector"
   ]
  },
  {
   "cell_type": "markdown",
   "id": "461b09d5",
   "metadata": {},
   "source": [
    "# 6\n",
    "Create a null vector of size 10 but the fifth value which is 1"
   ]
  },
  {
   "cell_type": "code",
   "execution_count": 6,
   "id": "c48b4108",
   "metadata": {},
   "outputs": [
    {
     "data": {
      "text/plain": [
       "array([0., 0., 0., 0., 1., 0., 0., 0., 0., 0.])"
      ]
     },
     "execution_count": 6,
     "metadata": {},
     "output_type": "execute_result"
    }
   ],
   "source": [
    "null_vector = np.zeros(10)\n",
    "null_vector[4] = 1\n",
    "null_vector"
   ]
  },
  {
   "cell_type": "markdown",
   "id": "6181f482",
   "metadata": {},
   "source": [
    "# 7\n",
    "Create a vector with values ranging from 10 to 49"
   ]
  },
  {
   "cell_type": "code",
   "execution_count": 10,
   "id": "0b019ac6",
   "metadata": {},
   "outputs": [
    {
     "data": {
      "text/plain": [
       "array([10, 11, 12, 13, 14, 15, 16, 17, 18, 19, 20, 21, 22, 23, 24, 25, 26,\n",
       "       27, 28, 29, 30, 31, 32, 33, 34, 35, 36, 37, 38, 39, 40, 41, 42, 43,\n",
       "       44, 45, 46, 47, 48, 49])"
      ]
     },
     "execution_count": 10,
     "metadata": {},
     "output_type": "execute_result"
    }
   ],
   "source": [
    "f_10_to_49 = np.arange(10, 50, 1)\n",
    "f_10_to_49"
   ]
  },
  {
   "cell_type": "markdown",
   "id": "8c01f95b",
   "metadata": {},
   "source": [
    "# 8\n",
    "Reverse a vector (first element becomes last) "
   ]
  },
  {
   "cell_type": "code",
   "execution_count": 17,
   "id": "80dff64c",
   "metadata": {},
   "outputs": [
    {
     "data": {
      "text/plain": [
       "array([49, 48, 47, 46, 45, 44, 43, 42, 41, 40, 39, 38, 37, 36, 35, 34, 33,\n",
       "       32, 31, 30, 29, 28, 27, 26, 25, 24, 23, 22, 21, 20, 19, 18, 17, 16,\n",
       "       15, 14, 13, 12, 11, 10])"
      ]
     },
     "execution_count": 17,
     "metadata": {},
     "output_type": "execute_result"
    }
   ],
   "source": [
    "f_10_to_49 = f_10_to_49[::-1]\n",
    "f_10_to_49"
   ]
  },
  {
   "cell_type": "markdown",
   "id": "03585750",
   "metadata": {},
   "source": [
    "# 9\n",
    "Create a 3x3 matrix with values ranging from 0 to 8"
   ]
  },
  {
   "cell_type": "code",
   "execution_count": 30,
   "id": "24b85be7",
   "metadata": {},
   "outputs": [
    {
     "data": {
      "text/plain": [
       "array([[0, 1, 2],\n",
       "       [3, 4, 5],\n",
       "       [6, 7, 8]])"
      ]
     },
     "execution_count": 30,
     "metadata": {},
     "output_type": "execute_result"
    }
   ],
   "source": [
    "t_t_matrix = np.arange(0, 9)\n",
    "t_t_matrix = t_t_matrix.reshape(3,-1)\n",
    "t_t_matrix"
   ]
  },
  {
   "cell_type": "markdown",
   "id": "632373b4",
   "metadata": {},
   "source": [
    "# 45\n",
    "Create random vector of size 10 and replace the maximum value by 0"
   ]
  },
  {
   "cell_type": "code",
   "execution_count": 40,
   "id": "9c3a575f",
   "metadata": {},
   "outputs": [
    {
     "data": {
      "text/plain": [
       "array([0.87044393, 0.60140216, 0.58978743, 0.16365987, 0.2718822 ,\n",
       "       0.63919629, 0.        , 0.69105327, 0.57305271, 0.50452892])"
      ]
     },
     "execution_count": 40,
     "metadata": {},
     "output_type": "execute_result"
    }
   ],
   "source": [
    "random_vetor = np.random.random(10)\n",
    "random_vetor[random_vetor.argmax()] = 0\n",
    "random_vetor"
   ]
  },
  {
   "cell_type": "markdown",
   "id": "f5407536",
   "metadata": {},
   "source": [
    "# 58\n",
    "Subtract the mean of each row of a matrix"
   ]
  },
  {
   "cell_type": "code",
   "execution_count": 50,
   "id": "6cd199ab",
   "metadata": {},
   "outputs": [
    {
     "name": "stdout",
     "output_type": "stream",
     "text": [
      "[[0.04677761 0.20578927 0.89699505 0.29324967 0.23346866]\n",
      " [0.2505574  0.75762463 0.35754894 0.02245057 0.94406413]\n",
      " [0.39297004 0.49562672 0.4507219  0.87826842 0.49697559]\n",
      " [0.62455426 0.66502254 0.77514137 0.23029203 0.88972191]\n",
      " [0.91202267 0.03086835 0.61177047 0.36618553 0.12820195]\n",
      " [0.11545339 0.34729351 0.2414404  0.27485631 0.67810783]\n",
      " [0.30509614 0.00222195 0.88144391 0.2172466  0.90247072]\n",
      " [0.75262983 0.64385402 0.64736512 0.29916102 0.44452239]\n",
      " [0.61913806 0.21026564 0.41623847 0.64352182 0.9592607 ]\n",
      " [0.35992953 0.41397434 0.90499667 0.69715577 0.59072478]]\n",
      "[[-0.28847844 -0.12946678  0.561739   -0.04200638 -0.10178739]\n",
      " [-0.21589173  0.2911755  -0.1089002  -0.44399856  0.47761499]\n",
      " [-0.14994249 -0.04728582 -0.09219063  0.33535589 -0.04593695]\n",
      " [-0.01239216  0.02807612  0.13819494 -0.40665439  0.25277549]\n",
      " [ 0.50221288 -0.37894145  0.20196067 -0.04362426 -0.28160784]\n",
      " [-0.2159769   0.01586322 -0.08998989 -0.05657397  0.34667754]\n",
      " [-0.15659973 -0.45947392  0.41974805 -0.24444927  0.44077486]\n",
      " [ 0.19512335  0.08634755  0.08985864 -0.25834546 -0.11298408]\n",
      " [ 0.04945312 -0.35941929 -0.15344647  0.07383688  0.38957576]\n",
      " [-0.23342669 -0.17938188  0.31164045  0.10379955 -0.00263144]]\n"
     ]
    }
   ],
   "source": [
    "random_vector = np.random.rand(10, 5)\n",
    "print(random_vector)\n",
    "random_vector_2 = random_vector - random_vector.mean(axis=1, keepdims=True)\n",
    "print(random_vector_2)"
   ]
  }
 ],
 "metadata": {
  "kernelspec": {
   "display_name": "Python 3 (ipykernel)",
   "language": "python",
   "name": "python3"
  },
  "language_info": {
   "codemirror_mode": {
    "name": "ipython",
    "version": 3
   },
   "file_extension": ".py",
   "mimetype": "text/x-python",
   "name": "python",
   "nbconvert_exporter": "python",
   "pygments_lexer": "ipython3",
   "version": "3.8.12"
  }
 },
 "nbformat": 4,
 "nbformat_minor": 5
}
