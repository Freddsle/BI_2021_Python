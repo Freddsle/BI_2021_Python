{
 "cells": [
  {
   "cell_type": "markdown",
   "id": "e69a4866",
   "metadata": {},
   "source": [
    "написать класс для запросов\n",
    "\n",
    "Do not contact the server more often than once every 10 seconds.\\\n",
    "Do not poll for any single RID more often than once a minute.\\\n",
    "Use the URL parameter email and tool, so that the NCBI can contact you if there is a problem.\\\n",
    "Run scripts weekends or between 9 pm and 5 am Eastern time on weekdays if more than 50 searches will be submitted.\n",
    "\n",
    "\n",
    "If your queries are short (less than a few hundred bases) we suggest you merge them into one search of up to 1,000 bases\n"
   ]
  },
  {
   "cell_type": "markdown",
   "id": "885004b3",
   "metadata": {},
   "source": [
    "# Добавить\n",
    " ## поиск taxid по названию (выбирать по умолчанию один самый совпадающий?)\n",
    " https://ena-docs.readthedocs.io/en/latest/faq/taxonomy.html тут можно посмотреть удачный способ это сделать\n",
    " \n",
    " ## вещи которые мог менять древний апи бласта \n",
    " https://ncbi.github.io/blast-cloud/dev/api.html"
   ]
  },
  {
   "cell_type": "code",
   "execution_count": null,
   "id": "38889444",
   "metadata": {},
   "outputs": [],
   "source": []
  },
  {
   "cell_type": "code",
   "execution_count": null,
   "id": "bfc0ca72",
   "metadata": {},
   "outputs": [],
   "source": []
  },
  {
   "cell_type": "code",
   "execution_count": 151,
   "id": "dbc81e66",
   "metadata": {},
   "outputs": [],
   "source": [
    "import urllib\n",
    "import urllib3\n",
    "import requests\n",
    "import time\n",
    "import re\n",
    "\n",
    "from bs4 import BeautifulSoup\n",
    "from urllib.parse import urlparse, parse_qs\n",
    "\n",
    "import pandas as pd"
   ]
  },
  {
   "cell_type": "markdown",
   "id": "21a8aeb9",
   "metadata": {},
   "source": [
    "Пример использования:\n",
    "\n",
    "    - последовательность: \n",
    "        \"MVMFGNKVSYPYMDLSPKSHWIVYEGNLKFYDKQGRDTASIKDAASLSFDFFTWGRNPKVAMIETTEVSKLSVESFKSTCYGYIICSYT\",\n",
    "    - база данных: Whole_Genome_Shotgun_contigs,\n",
    "    - организм: Prevotella sp. oral taxon 472 str. F0295 (taxid:619693),\n",
    "    - tblastn."
   ]
  },
  {
   "cell_type": "code",
   "execution_count": 2,
   "id": "c9d1344c",
   "metadata": {},
   "outputs": [],
   "source": [
    "# поиск организма в базе данных WGS https://www.ncbi.nlm.nih.gov/Traces/wgs/"
   ]
  },
  {
   "cell_type": "code",
   "execution_count": 3,
   "id": "d55f0f2f",
   "metadata": {},
   "outputs": [],
   "source": [
    "WGS_PROJECTS_URL = 'https://www.ncbi.nlm.nih.gov/Traces/wgs/index.cgi?'"
   ]
  },
  {
   "cell_type": "code",
   "execution_count": 4,
   "id": "cadb9b14",
   "metadata": {},
   "outputs": [],
   "source": [
    "WGS_payload = {\n",
    "}"
   ]
  },
  {
   "cell_type": "markdown",
   "id": "ce5f5ea9",
   "metadata": {},
   "source": [
    "text:*Prevotellaceae* AND project_s:wgs AND (project_s:WGS) AND (project_s:WGS)"
   ]
  },
  {
   "cell_type": "code",
   "execution_count": 5,
   "id": "b51952dc",
   "metadata": {},
   "outputs": [],
   "source": [
    "# генерация уникального имени - https://docs.python.org/3/library/uuid.html\n",
    "import uuid\n",
    "\n",
    "# make a random UUID\n",
    "uuid.uuid4()\n",
    "\n",
    "# make a UUID from a string of hex digits (braces and hyphens ignored)\n",
    "x = uuid.UUID('{00010203-0405-0607-0809-0a0b0c0d0e0f}')"
   ]
  },
  {
   "cell_type": "code",
   "execution_count": null,
   "id": "de608b46",
   "metadata": {},
   "outputs": [],
   "source": []
  },
  {
   "cell_type": "markdown",
   "id": "6f359b2c",
   "metadata": {},
   "source": [
    "# рабочий простой вариант\n",
    "\n",
    "# запрос в ncbi"
   ]
  },
  {
   "cell_type": "code",
   "execution_count": 6,
   "id": "afc1f5cc",
   "metadata": {},
   "outputs": [],
   "source": [
    "fasta = \\\n",
    "\"\"\">line1\n",
    "MVMFGNKVSYPYMDLSPKSHWIVYEGNLKFYDKQGRDTASIKDAASLSFDFFTWGRNPKVAMIETTEVSKLSVESFKSTCYGYIICSYT\n",
    "\"\"\""
   ]
  },
  {
   "cell_type": "code",
   "execution_count": 391,
   "id": "24ea62cc",
   "metadata": {},
   "outputs": [],
   "source": [
    "fasta = \\\n",
    "\"\"\">sf\n",
    "MVMFGNKVSYPYMDLSPKSHWIVYEGNLKFYDKQGRDTASIK\n",
    "DAASLSFDFFTWGRNPKVAMIETTEVSKLSVESFKSTCYGYIICSYT\n",
    ">line2\n",
    "MVMFGNKVSYPYMDLSPKSHWIVYEGNLKFYDKQGRDTASIKDAASLSFDFFTWGRNPKVAMIETTE\n",
    ">line3\n",
    "RNPKVAMIETTEVSKLSVESFKSTCYGYIICSYT\n",
    ">line4\n",
    "FTWGRNPKVAMIETTEPYMDLRNPKVAMLSFDFFTWGRNPKVAMIETTE\n",
    ">line5\n",
    "ETTEVSKLSVESFKSTCYGYIICSYTYMDLRNPKVAMLSFDFFTWGRNPKVAMIETTIICSYTYMDL\n",
    "RNPEIKDAASLSFDFFTWGRNPKVAMIETTEVSKLSVESFKSTCYGYIICSYT\n",
    "\"\"\""
   ]
  },
  {
   "cell_type": "code",
   "execution_count": 392,
   "id": "a718c9d8",
   "metadata": {},
   "outputs": [
    {
     "data": {
      "text/plain": [
       "5"
      ]
     },
     "execution_count": 392,
     "metadata": {},
     "output_type": "execute_result"
    }
   ],
   "source": [
    "len(fasta.strip('>').split('>'))"
   ]
  },
  {
   "cell_type": "code",
   "execution_count": 411,
   "id": "3fd4dc3d",
   "metadata": {},
   "outputs": [],
   "source": [
    "database = 'Whole_Genome_Shotgun_contigs'\n",
    "taxon = '619693'\n"
   ]
  },
  {
   "cell_type": "code",
   "execution_count": 412,
   "id": "246ba24d",
   "metadata": {},
   "outputs": [],
   "source": [
    "BLAST_URL = \"https://blast.ncbi.nlm.nih.gov/Blast.cgi\""
   ]
  },
  {
   "cell_type": "code",
   "execution_count": 475,
   "id": "6a3ad580",
   "metadata": {},
   "outputs": [],
   "source": [
    "payload = {\n",
    "    'QUERY': fasta,\n",
    "    'db': 'protein',\n",
    "    'QUERYFILE': '',  # use for binary files\n",
    "    'GENETIC_CODE': 1,\n",
    "    'JOB_TITLE': 'fasta',\n",
    "    'ADV_VIEW': 'true',\n",
    "    'stype': 'nucleotide',\n",
    "    #'SUBJECTFILE': '', # use for binary files\n",
    "    'DATABASE': 'Whole_Genome_Shotgun_contigs',\n",
    "    'DB_GROUP': 'wgsOrg',\n",
    "    #'EQ_MENU': 'Prevotella sp. oral taxon 472 str. F0295 (taxid:619693)',  # работает если передавать полное название из выпадающего списка\n",
    "    'EQ_MENU': '619693',    # работает и просто при передаче самого айдишника\n",
    "    #'EQ_MENU': 'Prevotella sp. oral taxon 472 str. F0295',    # а так не работает\n",
    "    #'NUM_ORG': 1,\n",
    "    'MAX_NUM_SEQ': 100,\n",
    "    'EXPECT': 0.05,\n",
    "    'WORD_SIZE': 6,\n",
    "    'HSP_RANGE_MAX': 0,\n",
    "    'MATRIX_NAME': 'BLOSUM62',\n",
    "    'MATCH_SCORES': [1, -2],\n",
    "    'GAPCOSTS': '11 1',\n",
    "    'COMPOSITION_BASED_STATISTICS': 2,\n",
    "    'FILTER': 'L',\n",
    "    'REPEATS': 566037,\n",
    "    #'TEMPLATE_LENGTH': 0,\n",
    "    #'TEMPLATE_TYPE': 0,\n",
    "    #'PSSM': '(binary)',\n",
    "    #'SHOW_OVERVIEW': 'true',\n",
    "    #'SHOW_LINKOUT': 'true',\n",
    "    'GET_SEQUENCE': 'true',\n",
    "    'FORMAT_OBJECT': 'Alignment',\n",
    "    'FORMAT_TYPE': 'HTML',\n",
    "    'ALIGNMENT_VIEW': 'Pairwise',\n",
    "    #'MASK_CHAR': 2,\n",
    "    #'MASK_COLOR': 1,\n",
    "    #'DESCRIPTIONS': 100,\n",
    "    #'ALIGNMENTS': 100,\n",
    "    #'LINE_LENGTH': 60,\n",
    "    #'NEW_VIEW': 'true',\n",
    "    'NCBI_GI': 'false',\n",
    "    'SHOW_CDS_FEATURE': 'false',\n",
    "    #'NUM_OVERVIEW': 100,\n",
    "    #'FORMAT_NUM_ORG': 1,\n",
    "    'CONFIG_DESCR': '2,3,4,5,8,9,10,11,12,13,14',\n",
    "    'CLIENT': 'web',\n",
    "    'SERVICE': 'plain',\n",
    "    'CMD': 'request',\n",
    "    'PAGE': 'Translations',\n",
    "    'PROGRAM': 'tblastn',\n",
    "    'UNGAPPED_ALIGNMENT': 'no',\n",
    "    'BLAST_PROGRAMS': 'tblastn',\n",
    "    'DB_DISPLAY_NAME': 'wgs',\n",
    "    'ORG_DBS': 'orgDbsOnly_wgs',\n",
    "    'SHOW_ORGANISMS': 'on',\n",
    "    'SELECTED_PROG_TYPE': 'tblastn',\n",
    "    'SAVED_SEARCH': 'true',\n",
    "    'NUM_DIFFS': 1,\n",
    "    'NUM_OPTS_DIFFS': 0,\n",
    "    'PAGE_TYPE': 'BlastSearch',\n",
    "    \n",
    "}"
   ]
  },
  {
   "cell_type": "code",
   "execution_count": 490,
   "id": "9c23d02e",
   "metadata": {},
   "outputs": [
    {
     "data": {
      "text/plain": [
       "200"
      ]
     },
     "execution_count": 490,
     "metadata": {},
     "output_type": "execute_result"
    }
   ],
   "source": [
    "prev_time = time.time()\n",
    "\n",
    "resp = requests.post(BLAST_URL, data=payload)\n",
    "\n",
    "soup = BeautifulSoup(resp.content)\n",
    "resp.status_code"
   ]
  },
  {
   "cell_type": "code",
   "execution_count": 491,
   "id": "bdbae6ce",
   "metadata": {},
   "outputs": [
    {
     "data": {
      "text/plain": [
       "'2MFBPU3N013'"
      ]
     },
     "execution_count": 491,
     "metadata": {},
     "output_type": "execute_result"
    }
   ],
   "source": [
    "# Extract RID\n",
    "RID = soup.find('input', {'name': 'RID'}).get('value')\n",
    "RID"
   ]
  },
  {
   "cell_type": "markdown",
   "id": "c5d03adc",
   "metadata": {},
   "source": [
    "## Запрашиваем результат по риду, пока не получим его"
   ]
  },
  {
   "cell_type": "code",
   "execution_count": 492,
   "id": "75bbd9a1",
   "metadata": {},
   "outputs": [],
   "source": [
    "payload = {\n",
    "    'CMD': 'Get',\n",
    "    'RID': RID,\n",
    "    'FORMAT_TYPE': 'HTML'   \n",
    "}"
   ]
  },
  {
   "cell_type": "code",
   "execution_count": 493,
   "id": "b8dec77d",
   "metadata": {
    "scrolled": true
   },
   "outputs": [
    {
     "name": "stdout",
     "output_type": "stream",
     "text": [
      "status code: 200, DONE.\n"
     ]
    }
   ],
   "source": [
    "# stop when it takes more than 15 minutes.\n",
    "\n",
    "delay = 10\n",
    "wait = 10\n",
    "\n",
    "i = 0\n",
    "\n",
    "while True:\n",
    "    \n",
    "    current_time = time.time()\n",
    "    wait = prev_time + delay - current_time\n",
    "    \n",
    "    if wait > 0:\n",
    "        time.sleep(wait)\n",
    "        prev_time = current_time + wait\n",
    "        \n",
    "    if i * delay >= 900:\n",
    "        print(f'Oops! Try to check your resalts later (or restart). RID: {RID}.')\n",
    "    \n",
    "    else:\n",
    "        prev_time = current_time\n",
    "    \n",
    "    \n",
    "    try:\n",
    "        resp = requests.post(BLAST_URL, data=payload)\n",
    "        soup = BeautifulSoup(resp.content)\n",
    "    \n",
    "    except (ValueError, \n",
    "            urllib3.exceptions.InvalidChunkLength, \n",
    "            urllib3.exceptions.ProtocolError, \n",
    "            requests.exceptions.ChunkedEncodingError):\n",
    "        print('Please wait. Searching.')\n",
    "        i += 1\n",
    "        continue\n",
    "    \n",
    "    else:\n",
    "        if not soup.find('table', {'id': 'statInfo'}):\n",
    "            print(f'status code: {resp.status_code}, DONE.')\n",
    "            break\n",
    "    "
   ]
  },
  {
   "cell_type": "code",
   "execution_count": 494,
   "id": "f242275c",
   "metadata": {},
   "outputs": [
    {
     "data": {
      "text/plain": [
       "'WGS_VDB://ACZS01'"
      ]
     },
     "execution_count": 494,
     "metadata": {},
     "output_type": "execute_result"
    }
   ],
   "source": [
    "database = re.match('.*\\((.*)\\)', soup.find(id=\"dbName\").text).group(1)\n",
    "database"
   ]
  },
  {
   "cell_type": "code",
   "execution_count": 495,
   "id": "8ce7bf22",
   "metadata": {},
   "outputs": [
    {
     "data": {
      "text/plain": [
       "['gb|ACZS01000003|',\n",
       " 'gb|ACZS01000174|',\n",
       " 'gb|ACZS01000173|',\n",
       " 'gb|ACZS01000087|']"
      ]
     },
     "execution_count": 495,
     "metadata": {},
     "output_type": "execute_result"
    }
   ],
   "source": [
    "seq_list = []\n",
    "\n",
    "for line in soup.find_all('form', attrs={\"id\": \"formBlastDescr\"})[0].find_all('input', attrs={'type': 'checkbox'}):\n",
    "    seq_list.append('gb|' + re.sub('Select seq ', '', line.next_sibling.text).split('.')[0] +'|')\n",
    "    \n",
    "seq_list"
   ]
  },
  {
   "cell_type": "code",
   "execution_count": 496,
   "id": "f5742278",
   "metadata": {},
   "outputs": [],
   "source": [
    "def get_algnmt(RID, seq_list):\n",
    "    \n",
    "    FASTA_URL = 'https://www.ncbi.nlm.nih.gov/blast/SEQDUMP_SRA/seqdump.cgi'\n",
    "    align_seq_list = ','.join(seq_list)\n",
    "    \n",
    "    params = {\n",
    "        'CMD': 'Get',\n",
    "        'RID': RID,\n",
    "        #'DESCRIPTIONS': 0,\n",
    "        #'NUM_OVERVIEW': 0,\n",
    "        'GET_SEQUENCE': 'on',\n",
    "        'DYNAMIC_FORMAT': 'on',\n",
    "        'ALIGN_SEQ_LIST': align_seq_list,\n",
    "        #'HSP_SORT': 0,\n",
    "        'SEQ_LIST_START': 1,\n",
    "        'QUERY_INDEX': 0,\n",
    "        'ADV_VIEW': 'on',\n",
    "        'SHOW_LINKOUT': 'on',\n",
    "        #'MASK_CHAR': 2,\n",
    "        #'MASK_COLOR': 1,\n",
    "        'ALIGNMENT_VIEW': 'Pairwise',\n",
    "        'LINE_LENGTH': 60,\n",
    "        'BOBJSRVC': 'sra'\n",
    "        }\n",
    "    \n",
    "    resp = requests.get('https://blast.ncbi.nlm.nih.gov/t2g.cgi',params=params)\n",
    "    \n",
    "    return resp"
   ]
  },
  {
   "cell_type": "code",
   "execution_count": 497,
   "id": "408174a4",
   "metadata": {},
   "outputs": [
    {
     "data": {
      "text/plain": [
       "200"
      ]
     },
     "execution_count": 497,
     "metadata": {},
     "output_type": "execute_result"
    }
   ],
   "source": [
    "filename = \"page2.html\"\n",
    "\n",
    "resp = get_algnmt(RID, seq_list)\n",
    "resp.status_code"
   ]
  },
  {
   "cell_type": "code",
   "execution_count": 498,
   "id": "1398959f",
   "metadata": {},
   "outputs": [],
   "source": [
    "soup_2 = BeautifulSoup(resp.content)"
   ]
  },
  {
   "cell_type": "markdown",
   "id": "0bfc2a72",
   "metadata": {},
   "source": [
    "## Приводим результаты в читаемый вид"
   ]
  },
  {
   "cell_type": "code",
   "execution_count": 499,
   "id": "7a76efe8",
   "metadata": {},
   "outputs": [],
   "source": [
    "class Alignment():\n",
    "    \n",
    "    def __init__(self,\n",
    "                 subj_name, subj_id, subj_len, subj_range,\n",
    "                 score, e_value, identity, \n",
    "                 query_seq, subj_seq):\n",
    "        '''\n",
    "        Создает объект класса Alignment со следующими атрибутами:\n",
    "        self.score\n",
    "        self.subj_range    # tuple\n",
    "        self.subj_name\n",
    "        self.subj_id\n",
    "        self.subj_len\n",
    "        self.e_value\n",
    "        self.identity\n",
    "        self.query_seq\n",
    "        self.subj_seq\n",
    "        '''\n",
    "        \n",
    "        self.score = score\n",
    "        self.subj_range  = subj_range   # tuple\n",
    "        self.subj_name = subj_name\n",
    "        self.subj_id = subj_id\n",
    "        self.subj_len = subj_len\n",
    "        self.e_value = e_value\n",
    "        self.identity = identity\n",
    "        self.query_seq = query_seq\n",
    "        self.subj_seq = subj_seq\n",
    "        \n",
    "        \n",
    "    def __str__(self):\n",
    "        return ': '.join([self.subj_id, self.score])\n"
   ]
  },
  {
   "cell_type": "code",
   "execution_count": 500,
   "id": "99b3b8c5",
   "metadata": {
    "scrolled": true
   },
   "outputs": [
    {
     "name": "stdout",
     "output_type": "stream",
     "text": [
      "ACZS01000003.1: 187 bits(474)\n",
      "89/89(100%)\n",
      "ACZS01000003.1: 34.7 bits(78)\n",
      "18/41(44%)\n",
      "ACZS01000174.1: 77.8 bits(190)\n",
      "39/86(45%)\n",
      "ACZS01000173.1: 75.5 bits(184)\n",
      "40/87(46%)\n",
      "ACZS01000173.1: 73.6 bits(179)\n",
      "37/82(45%)\n",
      "ACZS01000087.1: 47.4 bits(111)\n",
      "21/34(62%)\n"
     ]
    }
   ],
   "source": [
    "four = soup_2.find_all('div', {'class': 'oneSeqAln'})\n",
    "\n",
    "alignments_list = []\n",
    "\n",
    "for element in four:\n",
    "    \n",
    "    id_name = element.find('div', {'class': 'dlfRow'})\n",
    "    \n",
    "    subj_name = id_name.text.strip().split('\\n')[0]    \n",
    "    subj_len = int(element.find(\"label\", text=\"Length: \").next_sibling.text)\n",
    "    subj_id = id_name.find('a').text\n",
    "    \n",
    "    alignments = element.find_all('div', {'class': 'alnAll'})\n",
    "    \n",
    "    for align in alignments:\n",
    "        \n",
    "        table_params = align.find_all('table', {'class' : \"alnParams\"})\n",
    "        nember_al = len(table_params)\n",
    "        urls = align.find_all('a', {'class' : \"\"}, href=True)\n",
    "        \n",
    "        sequences = align.find_all('pre')\n",
    "        \n",
    "        for i in range(nember_al):\n",
    "            parsed_url = urlparse(urls[i]['href'])\n",
    "            \n",
    "            scores_list = pd.read_html(str(table_params[i]))\n",
    "            df_scores = scores_list[0]\n",
    "            \n",
    "            score = df_scores['Score'][0]\n",
    "            identity = df_scores['Identities'][0]\n",
    "            e_value =  df_scores['Expect'][0]\n",
    "            \n",
    "            # more\n",
    "            method = df_scores['Method'][0]\n",
    "            positives = df_scores['Positives'][0]\n",
    "            gaps = df_scores['Gaps'][0]\n",
    "            frame = df_scores['Frame'][0]\n",
    "            \n",
    "            value_from = int(parse_qs(parsed_url.query)['from'][0])\n",
    "            value_to = int(parse_qs(parsed_url.query)['to'][0])\n",
    "            subj_range = tuple([value_from, value_to])\n",
    "            \n",
    "            query_seq = []\n",
    "            subj_seq = []\n",
    "            \n",
    "            al = sequences[i].text.strip().split('\\n')\n",
    "            \n",
    "            for j, line in enumerate(al):\n",
    "                line = line.split()\n",
    "                if 'Query' in line:\n",
    "                    query_seq.append(line[2])\n",
    "                    \n",
    "                elif 'Sbjct' in line:\n",
    "                    subj_seq.append(line[2])\n",
    "            \n",
    "            query_seq = ''.join(query_seq)\n",
    "            subj_seq = ''.join(subj_seq)\n",
    "            \n",
    "            \n",
    "            alignments_list.append(Alignment(subj_name=subj_name,\n",
    "                                             subj_id=subj_id,\n",
    "                                             subj_len=subj_len,\n",
    "                                             subj_range=subj_range,\n",
    "                                             score=score,\n",
    "                                             e_value=e_value,\n",
    "                                             identity=identity,\n",
    "                                             query_seq=query_seq,\n",
    "                                             subj_seq=subj_seq))\n",
    "        \n",
    "for el in alignments_list:\n",
    "    print(el)\n",
    "    print(el.identity)"
   ]
  },
  {
   "cell_type": "code",
   "execution_count": null,
   "id": "27905d85",
   "metadata": {},
   "outputs": [],
   "source": []
  },
  {
   "cell_type": "code",
   "execution_count": null,
   "id": "28d8fde0",
   "metadata": {},
   "outputs": [],
   "source": []
  },
  {
   "cell_type": "code",
   "execution_count": null,
   "id": "9b1476ce",
   "metadata": {},
   "outputs": [],
   "source": []
  },
  {
   "cell_type": "code",
   "execution_count": null,
   "id": "4979536b",
   "metadata": {},
   "outputs": [],
   "source": []
  },
  {
   "cell_type": "code",
   "execution_count": null,
   "id": "f37bc2b0",
   "metadata": {},
   "outputs": [],
   "source": []
  },
  {
   "cell_type": "code",
   "execution_count": null,
   "id": "64a619ab",
   "metadata": {},
   "outputs": [],
   "source": []
  },
  {
   "cell_type": "code",
   "execution_count": 378,
   "id": "9813f3e8",
   "metadata": {},
   "outputs": [],
   "source": [
    "def save_content(resp, filename):\n",
    "    with open(filename, \"wb\") as file:\n",
    "        file.write(resp.content)\n",
    "        \n",
    "save_content(resp, \"page.html\")"
   ]
  },
  {
   "cell_type": "code",
   "execution_count": 305,
   "id": "cbe50769",
   "metadata": {},
   "outputs": [
    {
     "data": {
      "text/plain": [
       "['Prevotella sp. oral taxon 472 str. F0295 contig00003, whole genome shotgun sequence',\n",
       " 'Prevotella sp. oral taxon 472 str. F0295 contig00239, whole genome shotgun sequence',\n",
       " 'Prevotella sp. oral taxon 472 str. F0295 contig00238, whole genome shotgun sequence',\n",
       " 'Prevotella sp. oral taxon 472 str. F0295 contig00095, whole genome shotgun sequence']"
      ]
     },
     "execution_count": 305,
     "metadata": {},
     "output_type": "execute_result"
    }
   ],
   "source": [
    "# get subj_name\n",
    "\n",
    "subj_name_list = []\n",
    "\n",
    "first = soup.find_all('form', attrs={\"id\": \"formBlastDescr\"})[0].find_all('div', attrs={'id': 'scrollBody'})\n",
    "\n",
    "\n",
    "for element in first[0].find_all('a', attrs={\"class\": \"deflnDesc\"}):\n",
    "    subj_name_list.append(element.text)\n",
    "    \n",
    "subj_name_list"
   ]
  },
  {
   "cell_type": "code",
   "execution_count": 306,
   "id": "fa7e11b8",
   "metadata": {},
   "outputs": [
    {
     "data": {
      "text/plain": [
       "['ACZS01000003.1', 'ACZS01000174.1', 'ACZS01000173.1', 'ACZS01000087.1']"
      ]
     },
     "execution_count": 306,
     "metadata": {},
     "output_type": "execute_result"
    }
   ],
   "source": [
    "# get subj_id:\n",
    "\n",
    "subj_id_list = []\n",
    "\n",
    "for line in first[0].find_all('td', attrs={\"class\": \"c12\"}):\n",
    "    subj_id_list.append(line.text.strip())\n",
    "    \n",
    "subj_id_list"
   ]
  },
  {
   "cell_type": "code",
   "execution_count": 307,
   "id": "8824d9d6",
   "metadata": {},
   "outputs": [
    {
     "data": {
      "text/plain": [
       "['1e-57', '2e-19', '2e-18', '1e-08']"
      ]
     },
     "execution_count": 307,
     "metadata": {},
     "output_type": "execute_result"
    }
   ],
   "source": [
    "# e_value\n",
    "\n",
    "e_value_list = []\n",
    "\n",
    "for element in first[0].find_all('td', attrs={\"class\": \"c9\"}):\n",
    "    e_value_list.append(element.text)\n",
    "    \n",
    "e_value_list"
   ]
  },
  {
   "cell_type": "code",
   "execution_count": 308,
   "id": "446093f2",
   "metadata": {},
   "outputs": [
    {
     "data": {
      "text/plain": [
       "['100.00%', '45.35%', '45.98%', '61.76%']"
      ]
     },
     "execution_count": 308,
     "metadata": {},
     "output_type": "execute_result"
    }
   ],
   "source": [
    "# e_value - в текстовом формате!\n",
    "\n",
    "identity_list = []\n",
    "\n",
    "for element in first[0].find_all('td', attrs={\"class\": \"c10\"}):\n",
    "    identity_list.append(element.text)\n",
    "    \n",
    "identity_list"
   ]
  },
  {
   "cell_type": "code",
   "execution_count": 309,
   "id": "58464e5e",
   "metadata": {},
   "outputs": [
    {
     "data": {
      "text/plain": [
       "['10342', '2654', '1451', '1187']"
      ]
     },
     "execution_count": 309,
     "metadata": {},
     "output_type": "execute_result"
    }
   ],
   "source": [
    "# subj_len\n",
    "\n",
    "subj_len_list = []\n",
    "\n",
    "for element in first[0].find_all('td', attrs={\"class\": \"c11\"}):\n",
    "    subj_len_list.append(element.text)\n",
    "    \n",
    "subj_len_list"
   ]
  },
  {
   "cell_type": "code",
   "execution_count": 310,
   "id": "6cd0c174",
   "metadata": {},
   "outputs": [
    {
     "data": {
      "text/plain": [
       "['', '187', '', '77.8', '', '75.5', '', '47.4']"
      ]
     },
     "execution_count": 310,
     "metadata": {},
     "output_type": "execute_result"
    }
   ],
   "source": [
    "# subj_len\n",
    "\n",
    "score_list = []\n",
    "\n",
    "for element in first[0].find_all('td', attrs={\"class\": \"c6\"}):\n",
    "    score_list.append(element.text)\n",
    "    \n",
    "score_list"
   ]
  },
  {
   "cell_type": "markdown",
   "id": "49fe22a0",
   "metadata": {},
   "source": [
    "#### Другой путь"
   ]
  },
  {
   "cell_type": "code",
   "execution_count": 311,
   "id": "468f0fd7",
   "metadata": {},
   "outputs": [
    {
     "data": {
      "text/plain": [
       "[('4187', '4453'),\n",
       " ('3495', '3617'),\n",
       " ('286', '543'),\n",
       " ('98', '346'),\n",
       " ('1021', '1266'),\n",
       " ('903', '1004')]"
      ]
     },
     "execution_count": 311,
     "metadata": {},
     "output_type": "execute_result"
    }
   ],
   "source": [
    "# get subj_range\n",
    "\n",
    "subj_range_list = []\n",
    "\n",
    "second = soup_2.find_all('div', {'class': 'alnAll'})\n",
    "\n",
    "for element in second:\n",
    "    for i in element.find_all('span', {'class': 'alnRn'}):\n",
    "        numbers = re.match(r'[0-9]+ to [0-9]+', i.text.split(': ')[1]).group(0).split(' to ')\n",
    "        subj_range_list.append(tuple(numbers))\n",
    "        \n",
    "subj_range_list"
   ]
  },
  {
   "cell_type": "code",
   "execution_count": 312,
   "id": "8de5ce36",
   "metadata": {},
   "outputs": [
    {
     "data": {
      "text/plain": [
       "4"
      ]
     },
     "execution_count": 312,
     "metadata": {},
     "output_type": "execute_result"
    }
   ],
   "source": [
    "len(second)"
   ]
  },
  {
   "cell_type": "code",
   "execution_count": 313,
   "id": "a20cc81d",
   "metadata": {},
   "outputs": [],
   "source": [
    "# get subj_name, subj_id, subj_len\n",
    "\n",
    "subj_name_list = []\n",
    "subj_id_list = []\n",
    "subj_len_list = []\n",
    "\n",
    "trird = soup_2.find_all('div', {'class': 'dlfRow'})\n",
    "\n",
    "for element in trird:\n",
    "    string_split = element.text.strip().split('\\n')\n",
    "    \n",
    "    subj_name_list.append(string_split[0])\n",
    "    \n",
    "    for label in element.find_all(\"label\", text=\"Sequence ID: \"):\n",
    "        subj_id_list.append(label.next_sibling.text)\n",
    "    \n",
    "    for label in element.find_all(\"label\", text=\"Length: \"):\n",
    "        subj_len_list.append(label.next_sibling.text)\n",
    "        \n"
   ]
  }
 ],
 "metadata": {
  "kernelspec": {
   "display_name": "Python 3 (ipykernel)",
   "language": "python",
   "name": "python3"
  },
  "language_info": {
   "codemirror_mode": {
    "name": "ipython",
    "version": 3
   },
   "file_extension": ".py",
   "mimetype": "text/x-python",
   "name": "python",
   "nbconvert_exporter": "python",
   "pygments_lexer": "ipython3",
   "version": "3.10.2"
  }
 },
 "nbformat": 4,
 "nbformat_minor": 5
}
