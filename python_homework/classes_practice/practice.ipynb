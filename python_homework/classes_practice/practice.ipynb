{
 "cells": [
  {
   "cell_type": "code",
   "execution_count": 10,
   "id": "9a959df9",
   "metadata": {},
   "outputs": [],
   "source": [
    "# pip install biopython"
   ]
  },
  {
   "cell_type": "code",
   "execution_count": 136,
   "id": "09dbf01c",
   "metadata": {},
   "outputs": [],
   "source": [
    "import datetime\n",
    "from Bio.Seq import Seq, back_transcribe"
   ]
  },
  {
   "cell_type": "markdown",
   "id": "7d3a46be",
   "metadata": {},
   "source": [
    "# 1. Class that describes hamsters.\n",
    "\n",
    "Python class for hamsters.\\\n",
    "For creation \"hamster\" object it is nedeed to know its name and age (in months).\\\n",
    "Optionally, one can specify the type of hamster (for example, Syrian or Chinese). Default \"Not defined\"."
   ]
  },
  {
   "cell_type": "code",
   "execution_count": 137,
   "id": "a4a5cc9c",
   "metadata": {},
   "outputs": [],
   "source": [
    "\n",
    "class Hamster:\n",
    "    '''\n",
    "    Python class for hamsters.\n",
    "    '''\n",
    "\n",
    "    def __init__(self, name, age, hamster_type='Not defined'):\n",
    "        '''\n",
    "        For creation \"hamster\" object it is nedeed to know its name and age (in months).\n",
    "        Optionally, one can specify the type of hamster (for example, Syrian or Chinese). Default \"Not defined\".\n",
    "        '''\n",
    "        self.name = name\n",
    "        self.hamster_type = hamster_type\n",
    "        self.age = age\n",
    "        \n",
    "        if self.age <= 4:\n",
    "            self.stage = 'young'            \n",
    "            \n",
    "        elif self.age >= 12:\n",
    "            self.stage = 'old'\n",
    "        \n",
    "        else:\n",
    "            self.stage = 'adult'\n",
    "        \n",
    "\n",
    "    def life_stage(self):\n",
    "        '''\n",
    "        Method returns the age of a hamster: young, adult or old.\n",
    "        '''        \n",
    "        return f\"{self.name} is an {self.stage} hamster. It's {self.age} months.\"\n",
    "\n",
    "\n",
    "    def is_active(self):\n",
    "        '''\n",
    "        Checks if the hamster is probably asleep now. The system time is used. Return the string with state.\n",
    "        '''\n",
    "        time_now = datetime.datetime.now().hour\n",
    "        \n",
    "        if time_now > 7 and time_now < 20:\n",
    "            return f'{self.name} is probably sleeping now.'\n",
    "            \n",
    "        else:\n",
    "            return f'{self.name} is probably active now and wants treats.'\n",
    "\n",
    "\n",
    "    def properties(self):\n",
    "        '''\n",
    "        Return string with the basic parameters of the hamster.\n",
    "        '''\n",
    "        if self.hamster_type == 'Not defined':            \n",
    "            return f\"The hamster\\'s name is {self.name}. It\\'s {self.stage} hamster, {self.age} months.\"\n",
    "        else:\n",
    "            return f\"The hamster\\'s name is {self.name}. It\\'s {self.stage} {self.hamster_type} hamster, {self.age} months.\""
   ]
  },
  {
   "cell_type": "code",
   "execution_count": 138,
   "id": "1a599d8c",
   "metadata": {},
   "outputs": [
    {
     "name": "stdout",
     "output_type": "stream",
     "text": [
      "Bun is probably active now and wants treats.\n",
      "The hamster's name is Bun. It's old Djungarian hamster hamster, 18 months.\n",
      "Bun is an old hamster. It's 18 months.\n"
     ]
    }
   ],
   "source": [
    "Bun = Hamster('Bun', 18, 'Djungarian hamster')\n",
    "print(Bun.is_active())\n",
    "print(Bun.properties())\n",
    "print(Bun.life_stage())"
   ]
  },
  {
   "cell_type": "markdown",
   "id": "7445d8f6",
   "metadata": {},
   "source": [
    "# 2. Class that describes RNA sequence data\n",
    "\n",
    "Последовательности РНК - строки, поэтому класс наследован от str."
   ]
  },
  {
   "cell_type": "code",
   "execution_count": 154,
   "id": "8ac73f8b",
   "metadata": {},
   "outputs": [],
   "source": [
    "class RNASequence():\n",
    "    '''\n",
    "    Class for operations with RNA sequences. Parent class - str.\n",
    "    '''\n",
    "    \n",
    "    def __init__(self, rna_sequence):\n",
    "        self.rna_sequence = rna_sequence\n",
    "        \n",
    "    def RNA_translation(self):\n",
    "        '''\n",
    "        Translation - returns a string corresponding to the protein from the RNA,\n",
    "        according to the standard code, using Biopython.\n",
    "        '''\n",
    "        self.protein = Bio.Seq.translate(self.rna_sequence)\n",
    "        return self.protein\n",
    "        \n",
    "    def RNA_to_DNA(self):\n",
    "        '''\n",
    "        Reverse transcription method - returns a string corresponding to the DNA from RNA.\n",
    "        '''\n",
    "        self.template_dna = Bio.Seq.back_transcribe(self.rna_sequence)\n",
    "        return self.template_dna"
   ]
  },
  {
   "cell_type": "code",
   "execution_count": 158,
   "id": "c0d69196",
   "metadata": {},
   "outputs": [
    {
     "name": "stdout",
     "output_type": "stream",
     "text": [
      "MAIVMGR*KGAR*\n",
      "ATGGCCATTGTAATGGGCCGCTGAAAGGGTGCCCGATAG\n",
      "M\n",
      "ATGC\n"
     ]
    }
   ],
   "source": [
    "rna_seq = RNASequence('AUGGCCAUUGUAAUGGGCCGCUGAAAGGGUGCCCGAUAG')\n",
    "print(rna_seq.RNA_translation())\n",
    "print(rna_seq.RNA_to_DNA())\n",
    "\n",
    "\n",
    "rna_seq_2 = RNASequence('AUGC')\n",
    "print(rna_seq_2.RNA_translation())\n",
    "print(rna_seq_2.RNA_to_DNA())"
   ]
  },
  {
   "cell_type": "code",
   "execution_count": null,
   "id": "305471f3",
   "metadata": {},
   "outputs": [],
   "source": []
  },
  {
   "cell_type": "code",
   "execution_count": null,
   "id": "b65d15ad",
   "metadata": {},
   "outputs": [],
   "source": []
  }
 ],
 "metadata": {
  "kernelspec": {
   "display_name": "Python 3 (ipykernel)",
   "language": "python",
   "name": "python3"
  },
  "language_info": {
   "codemirror_mode": {
    "name": "ipython",
    "version": 3
   },
   "file_extension": ".py",
   "mimetype": "text/x-python",
   "name": "python",
   "nbconvert_exporter": "python",
   "pygments_lexer": "ipython3",
   "version": "3.8.10"
  }
 },
 "nbformat": 4,
 "nbformat_minor": 5
}
