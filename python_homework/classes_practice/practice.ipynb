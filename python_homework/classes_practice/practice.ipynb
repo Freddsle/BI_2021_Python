{
 "cells": [
  {
   "cell_type": "code",
   "execution_count": 29,
   "id": "b16cdcbc",
   "metadata": {},
   "outputs": [],
   "source": [
    "import datetime"
   ]
  },
  {
   "cell_type": "markdown",
   "id": "a7d5e4e1",
   "metadata": {},
   "source": [
    "# 1. Class that describes hamsters.\n",
    "\n",
    "Python class for hamsters.\\\n",
    "For creation \"hamster\" object it is nedeed to know its name and age (in months).\\\n",
    "Optionally, one can specify the type of hamster (for example, Syrian or Chinese). Default \"Not defined\"."
   ]
  },
  {
   "cell_type": "code",
   "execution_count": 80,
   "id": "cf0d36c3",
   "metadata": {},
   "outputs": [],
   "source": [
    "class Hamster:\n",
    "    '''\n",
    "    Python class for hamsters.\n",
    "    '''\n",
    "\n",
    "    def __init__(self, name, age, hamster_type='Not defined'):\n",
    "        '''\n",
    "        For creation \"hamster\" object it is nedeed to know its name and age (in months).\n",
    "        Optionally, one can specify the type of hamster (for example, Syrian or Chinese). Default \"Not defined\".\n",
    "        '''\n",
    "        self.name = name\n",
    "        self.hamster_type = hamster_type\n",
    "        self.age = age\n",
    "        \n",
    "        if self.age <= 4:\n",
    "            self.stage = 'young'            \n",
    "            \n",
    "        elif self.age >= 12:\n",
    "            self.stage = 'old'\n",
    "        \n",
    "        else:\n",
    "            self.stage = 'adult'\n",
    "        \n",
    "\n",
    "    def life_stage(self):\n",
    "        '''\n",
    "        Method for printing the age of a hamster: young, adult or old.\n",
    "        '''        \n",
    "        print(f'{self.name} is an {self.stage} hamster. It\\'s {self.age} months.')\n",
    "\n",
    "\n",
    "    def is_active(self):\n",
    "        '''\n",
    "        Checks if the hamster is probably asleep now. The system time is used.\n",
    "        '''\n",
    "        time_now = datetime.datetime.now().hour\n",
    "        \n",
    "        if time_now > 7 and time_now < 20:\n",
    "            print(f'{self.name} is probably sleeping now.')\n",
    "            \n",
    "        else:\n",
    "            print(f'{self.name} is probably active now and wants treats.')\n",
    "\n",
    "\n",
    "    def properties(self):\n",
    "        '''\n",
    "        Displays the basic parameters of the hamster.\n",
    "        '''\n",
    "        print(f'The hamster\\'s name is {self.name}.')\n",
    "\n",
    "        if self.hamster_type == 'Not defined':            \n",
    "            print(f'It\\'s {self.stage} hamster, {self.age} months.')\n",
    "        else:\n",
    "            print(f'It\\'s {self.stage} {self.hamster_type} hamster, {self.age} months.')\n"
   ]
  },
  {
   "cell_type": "code",
   "execution_count": 81,
   "id": "5ee7a6e3",
   "metadata": {},
   "outputs": [
    {
     "name": "stdout",
     "output_type": "stream",
     "text": [
      "Bun is probably sleeping now.\n",
      "The hamster's name is Bun.\n",
      "It's old Djungarian hamster hamster, 23 months.\n"
     ]
    }
   ],
   "source": [
    "Bun = Hamster('Bun', 23, 'Djungarian hamster')\n",
    "Bun.is_active()\n",
    "Bun.properties()"
   ]
  },
  {
   "cell_type": "markdown",
   "id": "590b8b03",
   "metadata": {},
   "source": [
    "# 2. Class that describes RNA sequence data\n",
    "\n",
    "Последовательности РНК - строки, поэтому класс наследован от str."
   ]
  },
  {
   "cell_type": "code",
   "execution_count": null,
   "id": "89a8a8ad",
   "metadata": {},
   "outputs": [],
   "source": [
    "class RNASequence:\n",
    "    '''\n",
    "    Class for operations with RNA sequences.\n",
    "    '''\n",
    "    \n",
    "    def __init__(self, sequence):\n",
    "        self.sequence = sequence\n",
    "        \n",
    "    def RNA_translation(self):\n",
    "        \n",
    "    "
   ]
  }
 ],
 "metadata": {
  "kernelspec": {
   "display_name": "Python 3 (ipykernel)",
   "language": "python",
   "name": "python3"
  },
  "language_info": {
   "codemirror_mode": {
    "name": "ipython",
    "version": 3
   },
   "file_extension": ".py",
   "mimetype": "text/x-python",
   "name": "python",
   "nbconvert_exporter": "python",
   "pygments_lexer": "ipython3",
   "version": "3.8.10"
  }
 },
 "nbformat": 4,
 "nbformat_minor": 5
}
