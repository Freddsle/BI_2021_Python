{
 "cells": [
  {
   "cell_type": "code",
   "execution_count": 161,
   "id": "9a959df9",
   "metadata": {},
   "outputs": [],
   "source": [
    "# pip install biopython"
   ]
  },
  {
   "cell_type": "code",
   "execution_count": 724,
   "id": "09dbf01c",
   "metadata": {},
   "outputs": [],
   "source": [
    "import datetime\n",
    "import os.path\n",
    "from Bio.Seq import Seq, back_transcribe\n",
    "from Bio import SeqIO"
   ]
  },
  {
   "cell_type": "markdown",
   "id": "7d3a46be",
   "metadata": {},
   "source": [
    "# 1. Class that describes hamsters.\n",
    "\n",
    "Python class for hamsters.\\\n",
    "For creation \"hamster\" object it is nedeed to know its name and age (in months).\\\n",
    "Optionally, one can specify the type of hamster (for example, Syrian or Chinese). Default \"Not defined\"."
   ]
  },
  {
   "cell_type": "code",
   "execution_count": 137,
   "id": "a4a5cc9c",
   "metadata": {},
   "outputs": [],
   "source": [
    "\n",
    "class Hamster:\n",
    "    '''\n",
    "    Python class for hamsters.\n",
    "    '''\n",
    "\n",
    "    def __init__(self, name, age, hamster_type='Not defined'):\n",
    "        '''\n",
    "        For creation \"hamster\" object it is nedeed to know its name and age (in months).\n",
    "        Optionally, one can specify the type of hamster (for example, Syrian or Chinese). Default \"Not defined\".\n",
    "        '''\n",
    "        self.name = name\n",
    "        self.hamster_type = hamster_type\n",
    "        self.age = age\n",
    "        \n",
    "        if self.age <= 4:\n",
    "            self.stage = 'young'            \n",
    "            \n",
    "        elif self.age >= 12:\n",
    "            self.stage = 'old'\n",
    "        \n",
    "        else:\n",
    "            self.stage = 'adult'\n",
    "        \n",
    "\n",
    "    def life_stage(self):\n",
    "        '''\n",
    "        Method returns the age of a hamster: young, adult or old.\n",
    "        '''        \n",
    "        return f\"{self.name} is an {self.stage} hamster. It's {self.age} months.\"\n",
    "\n",
    "\n",
    "    def is_active(self):\n",
    "        '''\n",
    "        Checks if the hamster is probably asleep now. The system time is used. Return the string with state.\n",
    "        '''\n",
    "        time_now = datetime.datetime.now().hour\n",
    "        \n",
    "        if time_now > 7 and time_now < 20:\n",
    "            return f'{self.name} is probably sleeping now.'\n",
    "            \n",
    "        else:\n",
    "            return f'{self.name} is probably active now and wants treats.'\n",
    "\n",
    "\n",
    "    def properties(self):\n",
    "        '''\n",
    "        Return string with the basic parameters of the hamster.\n",
    "        '''\n",
    "        if self.hamster_type == 'Not defined':            \n",
    "            return f\"The hamster\\'s name is {self.name}. It\\'s {self.stage} hamster, {self.age} months.\"\n",
    "        else:\n",
    "            return f\"The hamster\\'s name is {self.name}. It\\'s {self.stage} {self.hamster_type} hamster, {self.age} months.\""
   ]
  },
  {
   "cell_type": "code",
   "execution_count": 138,
   "id": "1a599d8c",
   "metadata": {},
   "outputs": [
    {
     "name": "stdout",
     "output_type": "stream",
     "text": [
      "Bun is probably active now and wants treats.\n",
      "The hamster's name is Bun. It's old Djungarian hamster hamster, 18 months.\n",
      "Bun is an old hamster. It's 18 months.\n"
     ]
    }
   ],
   "source": [
    "Bun = Hamster('Bun', 18, 'Djungarian hamster')\n",
    "print(Bun.is_active())\n",
    "print(Bun.properties())\n",
    "print(Bun.life_stage())"
   ]
  },
  {
   "cell_type": "markdown",
   "id": "7445d8f6",
   "metadata": {},
   "source": [
    "# 2. Class that describes RNA sequence data\n",
    "\n",
    "Class (rooted from str class) with two methods:\n",
    "- `RNA_translation` - Translation - returns a string corresponding to the protein from the RNA, according to the standard code, using Biopython.\n",
    "- `RNA_to_DNA` - Reverse transcription method - returns a string corresponding to the DNA from RNA, using Biopython"
   ]
  },
  {
   "cell_type": "code",
   "execution_count": 163,
   "id": "8ac73f8b",
   "metadata": {},
   "outputs": [],
   "source": [
    "class RNASequence(str):\n",
    "    '''\n",
    "    Class for operations with RNA sequences. Parent class - str.\n",
    "    '''\n",
    "    cls.acid_type = 'RNA'\n",
    "    \n",
    "    def __init__(self, rna_sequence):\n",
    "        self.rna_sequence = rna_sequence\n",
    "        \n",
    "    def RNA_translation(self):\n",
    "        '''\n",
    "        Translation - returns a string corresponding to the protein from the RNA,\n",
    "        according to the standard code, using Biopython.\n",
    "        '''\n",
    "        self.protein = Bio.Seq.translate(self.rna_sequence)\n",
    "        return self.protein\n",
    "        \n",
    "    def RNA_to_DNA(self):\n",
    "        '''\n",
    "        Reverse transcription method - returns a string corresponding to the DNA from RNA, using Biopython.\n",
    "        '''\n",
    "        self.template_dna = Bio.Seq.back_transcribe(self.rna_sequence)\n",
    "        return self.template_dna"
   ]
  },
  {
   "cell_type": "code",
   "execution_count": 164,
   "id": "c0d69196",
   "metadata": {},
   "outputs": [
    {
     "name": "stdout",
     "output_type": "stream",
     "text": [
      "MAIVMGR*KGAR*\n",
      "ATGGCCATTGTAATGGGCCGCTGAAAGGGTGCCCGATAG\n",
      "M\n",
      "ATGC\n"
     ]
    }
   ],
   "source": [
    "# test for RNASequence class\n",
    "\n",
    "rna_seq = RNASequence('AUGGCCAUUGUAAUGGGCCGCUGAAAGGGUGCCCGAUAG')\n",
    "print(rna_seq.RNA_translation())\n",
    "print(rna_seq.RNA_to_DNA())\n",
    "\n",
    "rna_seq_2 = RNASequence('AUGC')\n",
    "print(rna_seq_2.RNA_translation())\n",
    "print(rna_seq_2.RNA_to_DNA())"
   ]
  },
  {
   "cell_type": "markdown",
   "id": "ea1fb8a5",
   "metadata": {},
   "source": [
    "# 3. "
   ]
  },
  {
   "cell_type": "code",
   "execution_count": 659,
   "id": "305471f3",
   "metadata": {},
   "outputs": [],
   "source": [
    "class PositiveSet(set):\n",
    "    '''\n",
    "    Sets with only positive numbers.\n",
    "    Two methods supports: add and update (but not |=).\n",
    "    '''\n",
    "    \n",
    "    def __init__(self, old_numbers):\n",
    "        '''\n",
    "        Initializes PositiveSet, adding only positive numbers using the add method.\n",
    "        '''\n",
    "        for number in old_numbers:\n",
    "            self.add(number)\n",
    "    \n",
    "    def add(self, element):\n",
    "        '''\n",
    "        Check if number for adding is positive. \n",
    "        If so, it adds it to the PositiveSet using the regular set 'add' method.\n",
    "        '''\n",
    "        if element >= 0:\n",
    "            super().add(element)\n",
    "        \n",
    "    def update(self, *args):\n",
    "        '''\n",
    "        Update PositiveSet using positive values (PositiveSet 'add' method) from the given args.\n",
    "        '''\n",
    "        if len(args) == 1:\n",
    "            for element in args[0]:\n",
    "                self.add(element)\n",
    "        else:\n",
    "            for added_set in args[:-1]:\n",
    "                for element in added_set:\n",
    "                    self.add(element)\n",
    "    "
   ]
  },
  {
   "cell_type": "code",
   "execution_count": 660,
   "id": "b65d15ad",
   "metadata": {},
   "outputs": [
    {
     "name": "stdout",
     "output_type": "stream",
     "text": [
      "{1, 3, 4, 7, -6, -5, -2}\n",
      "PositiveSet({1, 3, 4, 7})\n",
      "PositiveSet({1, 3, 4, 7})\n"
     ]
    }
   ],
   "source": [
    "# test for PositiveSet.add() method\n",
    "ordinary_set = set([1, -2, 3, 4, -5, -6, 7])\n",
    "print(ordinary_set)\n",
    "\n",
    "new_set = PositiveSet(ordinary_set)\n",
    "print(new_set)\n",
    "\n",
    "new_set.add(-5)\n",
    "print(new_set)"
   ]
  },
  {
   "cell_type": "code",
   "execution_count": 661,
   "id": "c3fc1370",
   "metadata": {
    "scrolled": true
   },
   "outputs": [
    {
     "name": "stdout",
     "output_type": "stream",
     "text": [
      "PositiveSet({1, 3, 4, 7, 87})\n",
      "PositiveSet({1, 3, 4, 7, 10, 87})\n"
     ]
    }
   ],
   "source": [
    "# test for PositiveSet.update() method\n",
    "\n",
    "new_set.update([-4, 87])\n",
    "print(new_set)\n",
    "\n",
    "y = {14, -15}\n",
    "x = {10, -12}\n",
    "\n",
    "new_set.update(x, y)\n",
    "\n",
    "print(new_set)"
   ]
  },
  {
   "cell_type": "markdown",
   "id": "998c52fd",
   "metadata": {},
   "source": [
    "# 4. Создайте класс для сбора статистик по фастам.\n",
    "Входные параметры:\\\n",
    "Путь к фаста файлу\n",
    "\n",
    "Методы:\n",
    "\n",
    "1. Подсчёт числа последовательностей в фаста файле\n",
    "2. Построение гистограммы длин последовательностей\n",
    "3. Подсчёт GC состава\n",
    "4. Построение гистограммы частоты 4-меров (по оси x каждый из возможных 4-меров, а по y - их частота)\n",
    "5. Переопределение метода для вывода информации при принте (достаточно текста с указанием путя к файлу)\n",
    "6. Выполнение всех реализованных методов по подсчёту метрик\n",
    "7. Можно придумать дополнительные метрики и реализовать их (по 1 баллу за каждую)"
   ]
  },
  {
   "cell_type": "code",
   "execution_count": 733,
   "id": "802b08e8",
   "metadata": {},
   "outputs": [],
   "source": [
    "class FastaStats:\n",
    "    '''\n",
    "    Parse FASTA file with Biopython.\n",
    "    If you want print class instance it is a path to fasta file.\n",
    "    Only __str__ defined, not __repr__.\n",
    "    '''\n",
    "    \n",
    "    def __init__(self, fasta_path):        \n",
    "        self.fasta_path = fasta_path\n",
    "\n",
    "\n",
    "    def __str__(self):\n",
    "        return self.fasta_path\n",
    "\n",
    "        \n",
    "    def count_seq(self):\n",
    "        '''\n",
    "        Counts the number of sequences in input FASTA file.\n",
    "        '''\n",
    "        pass\n",
    "    \n",
    "    \n",
    "    def histo_lenght(self, save_img=False):\n",
    "        '''\n",
    "        Building a histogram of sequences lengths in input FASTA file.        \n",
    "        '''\n",
    "        pass\n",
    "    \n",
    "    \n",
    "    def percent_GC(self):\n",
    "        '''\n",
    "        Returns the GC percentage of all sequences in a FASTA file.\n",
    "        '''\n",
    "        self.all_GC = 0\n",
    "        self.all_lenght = 0\n",
    "\n",
    "        for seq_record in SeqIO.parse(self.fasta_path, \"fasta\"):\n",
    "            self.all_lenght += len(seq_record)\n",
    "            self.all_GC += seq_record.seq.upper().count('C')\n",
    "            self.all_GC += seq_record.seq.upper().count('G')\n",
    "            \n",
    "        return round(self.all_GC * 100 / self.all_lenght, 3)\n",
    "    \n",
    "    \n",
    "    def histo_4_mers(self, save_img=False):\n",
    "        pass\n",
    "        \n",
    "        \n",
    "    \n",
    "    def run_all_metrics(self, new_path=None):\n",
    "        '''\n",
    "        Run all implemented in the FastaStats class methods for calculating FASTA metrics.\n",
    "        Return report, the .csv file with \"Metric-Result\" table and .png histograms.\n",
    "        Save results in \"result_'FASTA'\" folder with FASTA file, if other not specified (new_path).\n",
    "        '''\n",
    "        \n",
    "        if new_path:\n",
    "            self.path_to_report = new_path\n",
    "            \n",
    "        else:\n",
    "            self.path_to_report = os.path.dirname(self.fasta_path)\n",
    "        \n",
    "        "
   ]
  },
  {
   "cell_type": "code",
   "execution_count": 734,
   "id": "739d8d4f",
   "metadata": {},
   "outputs": [],
   "source": [
    "example_fasta = FastaStats('./example.fasta')"
   ]
  },
  {
   "cell_type": "code",
   "execution_count": 735,
   "id": "80a5c282",
   "metadata": {},
   "outputs": [
    {
     "name": "stdout",
     "output_type": "stream",
     "text": [
      "./example.fasta\n"
     ]
    }
   ],
   "source": [
    "print(example_fasta)"
   ]
  },
  {
   "cell_type": "code",
   "execution_count": 736,
   "id": "ac222777",
   "metadata": {},
   "outputs": [
    {
     "data": {
      "text/plain": [
       "0.512"
      ]
     },
     "execution_count": 736,
     "metadata": {},
     "output_type": "execute_result"
    }
   ],
   "source": [
    "example_fasta.percent_GC()"
   ]
  },
  {
   "cell_type": "code",
   "execution_count": null,
   "id": "94059960",
   "metadata": {},
   "outputs": [],
   "source": []
  }
 ],
 "metadata": {
  "kernelspec": {
   "display_name": "Python 3 (ipykernel)",
   "language": "python",
   "name": "python3"
  },
  "language_info": {
   "codemirror_mode": {
    "name": "ipython",
    "version": 3
   },
   "file_extension": ".py",
   "mimetype": "text/x-python",
   "name": "python",
   "nbconvert_exporter": "python",
   "pygments_lexer": "ipython3",
   "version": "3.8.10"
  }
 },
 "nbformat": 4,
 "nbformat_minor": 5
}
