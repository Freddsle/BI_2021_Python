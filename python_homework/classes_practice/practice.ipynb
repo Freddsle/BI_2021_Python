{
 "cells": [
  {
   "cell_type": "code",
   "execution_count": 2,
   "id": "9a959df9",
   "metadata": {},
   "outputs": [
    {
     "name": "stdout",
     "output_type": "stream",
     "text": [
      "Collecting matplotlib\n",
      "  Downloading matplotlib-3.5.1-cp38-cp38-manylinux_2_5_x86_64.manylinux1_x86_64.whl (11.3 MB)\n",
      "\u001b[K     |████████████████████████████████| 11.3 MB 1.4 MB/s eta 0:00:01\n",
      "\u001b[?25hCollecting cycler>=0.10\n",
      "  Downloading cycler-0.11.0-py3-none-any.whl (6.4 kB)\n",
      "Requirement already satisfied: python-dateutil>=2.7 in /usr/lib/python3/dist-packages (from matplotlib) (2.7.3)\n",
      "Collecting fonttools>=4.22.0\n",
      "  Downloading fonttools-4.29.1-py3-none-any.whl (895 kB)\n",
      "\u001b[K     |████████████████████████████████| 895 kB 38.3 MB/s eta 0:00:01\n",
      "\u001b[?25hCollecting kiwisolver>=1.0.1\n",
      "  Downloading kiwisolver-1.3.2-cp38-cp38-manylinux_2_5_x86_64.manylinux1_x86_64.whl (1.2 MB)\n",
      "\u001b[K     |████████████████████████████████| 1.2 MB 7.9 MB/s eta 0:00:01\n",
      "\u001b[?25hRequirement already satisfied: pillow>=6.2.0 in /usr/lib/python3/dist-packages (from matplotlib) (7.0.0)\n",
      "Requirement already satisfied: pyparsing>=2.2.1 in /usr/local/lib/python3.8/dist-packages (from matplotlib) (3.0.6)\n",
      "Requirement already satisfied: numpy>=1.17 in /home/yuliya/.local/lib/python3.8/site-packages (from matplotlib) (1.21.5)\n",
      "Requirement already satisfied: packaging>=20.0 in /usr/local/lib/python3.8/dist-packages (from matplotlib) (21.3)\n",
      "Installing collected packages: cycler, fonttools, kiwisolver, matplotlib\n",
      "Successfully installed cycler-0.11.0 fonttools-4.29.1 kiwisolver-1.3.2 matplotlib-3.5.1\n",
      "Note: you may need to restart the kernel to use updated packages.\n"
     ]
    }
   ],
   "source": [
    "#pip install biopython\n",
    "#pip install matplotlib"
   ]
  },
  {
   "cell_type": "code",
   "execution_count": 1,
   "id": "09dbf01c",
   "metadata": {},
   "outputs": [],
   "source": [
    "import datetime\n",
    "import os.path\n",
    "\n",
    "import matplotlib.pyplot as plt\n",
    "\n",
    "from Bio.Seq import Seq, back_transcribe\n",
    "from Bio import SeqIO"
   ]
  },
  {
   "cell_type": "markdown",
   "id": "7d3a46be",
   "metadata": {},
   "source": [
    "# 1. Class that describes hamsters.\n",
    "\n",
    "Python class for hamsters.\\\n",
    "For creation \"hamster\" object it is nedeed to know its name and age (in months).\\\n",
    "Optionally, one can specify the type of hamster (for example, Syrian or Chinese). Default \"Not defined\"."
   ]
  },
  {
   "cell_type": "code",
   "execution_count": 137,
   "id": "a4a5cc9c",
   "metadata": {},
   "outputs": [],
   "source": [
    "\n",
    "class Hamster:\n",
    "    '''\n",
    "    Python class for hamsters.\n",
    "    '''\n",
    "\n",
    "    def __init__(self, name, age, hamster_type='Not defined'):\n",
    "        '''\n",
    "        For creation \"hamster\" object it is nedeed to know its name and age (in months).\n",
    "        Optionally, one can specify the type of hamster (for example, Syrian or Chinese). Default \"Not defined\".\n",
    "        '''\n",
    "        self.name = name\n",
    "        self.hamster_type = hamster_type\n",
    "        self.age = age\n",
    "        \n",
    "        if self.age <= 4:\n",
    "            self.stage = 'young'            \n",
    "            \n",
    "        elif self.age >= 12:\n",
    "            self.stage = 'old'\n",
    "        \n",
    "        else:\n",
    "            self.stage = 'adult'\n",
    "        \n",
    "\n",
    "    def life_stage(self):\n",
    "        '''\n",
    "        Method returns the age of a hamster: young, adult or old.\n",
    "        '''        \n",
    "        return f\"{self.name} is an {self.stage} hamster. It's {self.age} months.\"\n",
    "\n",
    "\n",
    "    def is_active(self):\n",
    "        '''\n",
    "        Checks if the hamster is probably asleep now. The system time is used. Return the string with state.\n",
    "        '''\n",
    "        time_now = datetime.datetime.now().hour\n",
    "        \n",
    "        if time_now > 7 and time_now < 20:\n",
    "            return f'{self.name} is probably sleeping now.'\n",
    "            \n",
    "        else:\n",
    "            return f'{self.name} is probably active now and wants treats.'\n",
    "\n",
    "\n",
    "    def properties(self):\n",
    "        '''\n",
    "        Return string with the basic parameters of the hamster.\n",
    "        '''\n",
    "        if self.hamster_type == 'Not defined':            \n",
    "            return f\"The hamster\\'s name is {self.name}. It\\'s {self.stage} hamster, {self.age} months.\"\n",
    "        else:\n",
    "            return f\"The hamster\\'s name is {self.name}. It\\'s {self.stage} {self.hamster_type} hamster, {self.age} months.\""
   ]
  },
  {
   "cell_type": "code",
   "execution_count": 138,
   "id": "1a599d8c",
   "metadata": {},
   "outputs": [
    {
     "name": "stdout",
     "output_type": "stream",
     "text": [
      "Bun is probably active now and wants treats.\n",
      "The hamster's name is Bun. It's old Djungarian hamster hamster, 18 months.\n",
      "Bun is an old hamster. It's 18 months.\n"
     ]
    }
   ],
   "source": [
    "Bun = Hamster('Bun', 18, 'Djungarian hamster')\n",
    "print(Bun.is_active())\n",
    "print(Bun.properties())\n",
    "print(Bun.life_stage())"
   ]
  },
  {
   "cell_type": "markdown",
   "id": "7445d8f6",
   "metadata": {},
   "source": [
    "# 2. Class that describes RNA sequence data\n",
    "\n",
    "Class (rooted from str class) with two methods:\n",
    "- `RNA_translation` - Translation - returns a string corresponding to the protein from the RNA, according to the standard code, using Biopython.\n",
    "- `RNA_to_DNA` - Reverse transcription method - returns a string corresponding to the DNA from RNA, using Biopython"
   ]
  },
  {
   "cell_type": "code",
   "execution_count": 163,
   "id": "8ac73f8b",
   "metadata": {},
   "outputs": [],
   "source": [
    "class RNASequence(str):\n",
    "    '''\n",
    "    Class for operations with RNA sequences. Parent class - str.\n",
    "    '''\n",
    "    cls.acid_type = 'RNA'\n",
    "    \n",
    "    def __init__(self, rna_sequence):\n",
    "        self.rna_sequence = rna_sequence\n",
    "        \n",
    "    def RNA_translation(self):\n",
    "        '''\n",
    "        Translation - returns a string corresponding to the protein from the RNA,\n",
    "        according to the standard code, using Biopython.\n",
    "        '''\n",
    "        self.protein = Bio.Seq.translate(self.rna_sequence)\n",
    "        return self.protein\n",
    "        \n",
    "    def RNA_to_DNA(self):\n",
    "        '''\n",
    "        Reverse transcription method - returns a string corresponding to the DNA from RNA, using Biopython.\n",
    "        '''\n",
    "        self.template_dna = Bio.Seq.back_transcribe(self.rna_sequence)\n",
    "        return self.template_dna"
   ]
  },
  {
   "cell_type": "code",
   "execution_count": 164,
   "id": "c0d69196",
   "metadata": {},
   "outputs": [
    {
     "name": "stdout",
     "output_type": "stream",
     "text": [
      "MAIVMGR*KGAR*\n",
      "ATGGCCATTGTAATGGGCCGCTGAAAGGGTGCCCGATAG\n",
      "M\n",
      "ATGC\n"
     ]
    }
   ],
   "source": [
    "# test for RNASequence class\n",
    "\n",
    "rna_seq = RNASequence('AUGGCCAUUGUAAUGGGCCGCUGAAAGGGUGCCCGAUAG')\n",
    "print(rna_seq.RNA_translation())\n",
    "print(rna_seq.RNA_to_DNA())\n",
    "\n",
    "rna_seq_2 = RNASequence('AUGC')\n",
    "print(rna_seq_2.RNA_translation())\n",
    "print(rna_seq_2.RNA_to_DNA())"
   ]
  },
  {
   "cell_type": "markdown",
   "id": "be81563d",
   "metadata": {},
   "source": [
    "# 3. "
   ]
  },
  {
   "cell_type": "code",
   "execution_count": 659,
   "id": "305471f3",
   "metadata": {},
   "outputs": [],
   "source": [
    "class PositiveSet(set):\n",
    "    '''\n",
    "    Sets with only positive numbers.\n",
    "    Two methods supports: add and update (but not |=).\n",
    "    '''\n",
    "    \n",
    "    def __init__(self, old_numbers):\n",
    "        '''\n",
    "        Initializes PositiveSet, adding only positive numbers using the add method.\n",
    "        '''\n",
    "        for number in old_numbers:\n",
    "            self.add(number)\n",
    "    \n",
    "    def add(self, element):\n",
    "        '''\n",
    "        Check if number for adding is positive. \n",
    "        If so, it adds it to the PositiveSet using the regular set 'add' method.\n",
    "        '''\n",
    "        if element >= 0:\n",
    "            super().add(element)\n",
    "        \n",
    "    def update(self, *args):\n",
    "        '''\n",
    "        Update PositiveSet using positive values (PositiveSet 'add' method) from the given args.\n",
    "        '''\n",
    "        if len(args) == 1:\n",
    "            for element in args[0]:\n",
    "                self.add(element)\n",
    "        else:\n",
    "            for added_set in args[:-1]:\n",
    "                for element in added_set:\n",
    "                    self.add(element)\n",
    "    "
   ]
  },
  {
   "cell_type": "code",
   "execution_count": 660,
   "id": "b65d15ad",
   "metadata": {},
   "outputs": [
    {
     "name": "stdout",
     "output_type": "stream",
     "text": [
      "{1, 3, 4, 7, -6, -5, -2}\n",
      "PositiveSet({1, 3, 4, 7})\n",
      "PositiveSet({1, 3, 4, 7})\n"
     ]
    }
   ],
   "source": [
    "# test for PositiveSet.add() method\n",
    "ordinary_set = set([1, -2, 3, 4, -5, -6, 7])\n",
    "print(ordinary_set)\n",
    "\n",
    "new_set = PositiveSet(ordinary_set)\n",
    "print(new_set)\n",
    "\n",
    "new_set.add(-5)\n",
    "print(new_set)"
   ]
  },
  {
   "cell_type": "code",
   "execution_count": 661,
   "id": "71ac4e95",
   "metadata": {
    "scrolled": true
   },
   "outputs": [
    {
     "name": "stdout",
     "output_type": "stream",
     "text": [
      "PositiveSet({1, 3, 4, 7, 87})\n",
      "PositiveSet({1, 3, 4, 7, 10, 87})\n"
     ]
    }
   ],
   "source": [
    "# test for PositiveSet.update() method\n",
    "\n",
    "new_set.update([-4, 87])\n",
    "print(new_set)\n",
    "\n",
    "y = {14, -15}\n",
    "x = {10, -12}\n",
    "\n",
    "new_set.update(x, y)\n",
    "\n",
    "print(new_set)"
   ]
  },
  {
   "cell_type": "markdown",
   "id": "cf4f427e",
   "metadata": {},
   "source": [
    "# 4. Создайте класс для сбора статистик по фастам.\n",
    "Входные параметры:\\\n",
    "Путь к фаста файлу\n",
    "\n",
    "Методы:\n",
    "\n",
    "1. Подсчёт числа последовательностей в фаста файле\n",
    "2. Построение гистограммы длин последовательностей\n",
    "3. Подсчёт GC состава\n",
    "4. Построение гистограммы частоты 4-меров (по оси x каждый из возможных 4-меров, а по y - их частота)\n",
    "5. Переопределение метода для вывода информации при принте (достаточно текста с указанием путя к файлу)\n",
    "6. Выполнение всех реализованных методов по подсчёту метрик\n",
    "7. Можно придумать дополнительные метрики и реализовать их (по 1 баллу за каждую)"
   ]
  },
  {
   "cell_type": "code",
   "execution_count": 127,
   "id": "e8d3bb0f",
   "metadata": {},
   "outputs": [],
   "source": [
    "class FastaStats:\n",
    "    '''\n",
    "    Parse FASTA file with Biopython.\n",
    "    If you want print class instance it is a path to fasta file.\n",
    "    Only __str__ defined, not __repr__.\n",
    "    '''\n",
    "    \n",
    "    def __init__(self, fasta_path):        \n",
    "        self.fasta_path = fasta_path\n",
    "\n",
    "\n",
    "    def __str__(self):\n",
    "        return self.fasta_path\n",
    "\n",
    "        \n",
    "    def count_seq(self):\n",
    "        '''\n",
    "        Counts the number of sequences in input FASTA file.\n",
    "        '''\n",
    "        self.seq_number = 0\n",
    "        \n",
    "        for seq_record in SeqIO.parse(self.fasta_path, \"fasta\"):\n",
    "            self.seq_number += 1\n",
    "            \n",
    "        return self.seq_number\n",
    "    \n",
    "    \n",
    "    def minmax_len(self):\n",
    "        '''\n",
    "        Return min and max lenght of sequences in input FASTA file.\n",
    "        '''\n",
    "        records = [len(seq_record) for seq_record in SeqIO.parse(self.fasta_path, \"fasta\")]\n",
    "        self.min_len = min(records)\n",
    "        self.max_len = max(records)\n",
    "        return self.min_len, self.max_len  \n",
    "\n",
    "\n",
    "    def histo_length(self, save_img_path=None):\n",
    "        '''\n",
    "        Building a histogram of sequences lengths in input FASTA file.        \n",
    "        '''\n",
    "        records = [len(seq_record) for seq_record in SeqIO.parse(self.fasta_path, \"fasta\")]\n",
    "        plt.figure(figsize=(10,5))\n",
    "        plt.style.use('seaborn-whitegrid')\n",
    "        plt.hist(x=records, \n",
    "                 color = \"skyblue\", ec=\"blue\", \n",
    "                 linewidth=0.5, \n",
    "                 bins=self.minmax_len()[1]-self.minmax_len()[0])\n",
    "        plt.suptitle(f'Histogram of sequences lengths', fontsize=18)\n",
    "        plt.title(f'file: \"{os.path.split(self.fasta_path)[1]}\"', fontsize=13)\n",
    "        plt.ylabel('Number of sequences', fontsize=13)\n",
    "        plt.xlabel('Sequences length', fontsize=13)\n",
    "        \n",
    "        if save_img_path:\n",
    "            plt.savefig(save_img_path, dpi=100, bbox_inches='tight')\n",
    "        else:\n",
    "            plt.show()\n",
    "        \n",
    "        plt.close()\n",
    "    \n",
    "    \n",
    "    def percent_GC(self):\n",
    "        '''\n",
    "        Returns the GC percentage of all sequences in a FASTA file.\n",
    "        '''\n",
    "        self.all_GC = 0\n",
    "        self.all_lenght = 0\n",
    "\n",
    "        for seq_record in SeqIO.parse(self.fasta_path, \"fasta\"):\n",
    "            self.all_lenght += len(seq_record)\n",
    "            self.all_GC += seq_record.seq.upper().count('C')\n",
    "            self.all_GC += seq_record.seq.upper().count('G')\n",
    "        \n",
    "        self.GC = round(self.all_GC * 100 / self.all_lenght, 2)\n",
    "        \n",
    "        return self.GC\n",
    "    \n",
    "    \n",
    "    def histo_4_mers(self, save_img=False):\n",
    "        pass\n",
    "        \n",
    "        \n",
    "    \n",
    "    def run_all_metrics(self, new_path=None):\n",
    "        '''\n",
    "        Run all implemented in the FastaStats class methods for calculating FASTA metrics.\n",
    "        Return report, the .csv file with \"Metric-Result\" table and .png histograms.\n",
    "        Save results in \"result_'FASTA'\" folder with FASTA file, if other not specified (new_path).\n",
    "        '''\n",
    "        \n",
    "        if new_path:\n",
    "            self.path_to_report = new_path\n",
    "            \n",
    "        else:\n",
    "            self.path_to_report = os.path.dirname(self.fasta_path)\n",
    "        \n",
    "        "
   ]
  },
  {
   "cell_type": "code",
   "execution_count": 128,
   "id": "75fd7c56",
   "metadata": {},
   "outputs": [],
   "source": [
    "example_fasta = FastaStats('./example.fasta')"
   ]
  },
  {
   "cell_type": "code",
   "execution_count": 129,
   "id": "f16b9e25",
   "metadata": {},
   "outputs": [
    {
     "name": "stdout",
     "output_type": "stream",
     "text": [
      "./example.fasta\n"
     ]
    },
    {
     "data": {
      "text/plain": [
       "51.17"
      ]
     },
     "execution_count": 129,
     "metadata": {},
     "output_type": "execute_result"
    }
   ],
   "source": [
    "print(example_fasta)\n",
    "example_fasta.percent_GC()"
   ]
  },
  {
   "cell_type": "code",
   "execution_count": 130,
   "id": "3c3f9607",
   "metadata": {},
   "outputs": [
    {
     "data": {
      "text/plain": [
       "94"
      ]
     },
     "execution_count": 130,
     "metadata": {},
     "output_type": "execute_result"
    }
   ],
   "source": [
    "example_fasta.count_seq()"
   ]
  },
  {
   "cell_type": "code",
   "execution_count": 131,
   "id": "034f337c",
   "metadata": {},
   "outputs": [
    {
     "data": {
      "text/plain": [
       "(572, 789)"
      ]
     },
     "execution_count": 131,
     "metadata": {},
     "output_type": "execute_result"
    }
   ],
   "source": [
    "example_fasta.minmax_len()"
   ]
  },
  {
   "cell_type": "code",
   "execution_count": 132,
   "id": "2459ea3e",
   "metadata": {},
   "outputs": [
    {
     "data": {
      "image/png": "[encoded data removed]",
      "text/plain": [
       "<Figure size 720x360 with 1 Axes>"
      ]
     },
     "metadata": {},
     "output_type": "display_data"
    }
   ],
   "source": [
    "example_fasta.histo_length()"
   ]
  },
  {
   "cell_type": "code",
   "execution_count": null,
   "id": "5c1c80d8",
   "metadata": {},
   "outputs": [],
   "source": []
  }
 ],
 "metadata": {
  "kernelspec": {
   "display_name": "Python 3 (ipykernel)",
   "language": "python",
   "name": "python3"
  },
  "language_info": {
   "codemirror_mode": {
    "name": "ipython",
    "version": 3
   },
   "file_extension": ".py",
   "mimetype": "text/x-python",
   "name": "python",
   "nbconvert_exporter": "python",
   "pygments_lexer": "ipython3",
   "version": "3.8.10"
  }
 },
 "nbformat": 4,
 "nbformat_minor": 5
}
