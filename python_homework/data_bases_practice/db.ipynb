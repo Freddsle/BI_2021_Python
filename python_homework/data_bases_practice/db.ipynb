{
 "cells": [
  {
   "cell_type": "code",
   "execution_count": 1,
   "id": "b5df5291",
   "metadata": {},
   "outputs": [],
   "source": [
    "import sqlite3\n",
    "import pandas as pd\n",
    "\n",
    "# sqlitebrowser\n",
    "\n",
    "# create diagram https://dbdiagram.io/d"
   ]
  },
  {
   "cell_type": "markdown",
   "id": "6cd0eb14",
   "metadata": {},
   "source": [
    "# Create sql from csv"
   ]
  },
  {
   "cell_type": "code",
   "execution_count": 2,
   "id": "7f90498d",
   "metadata": {},
   "outputs": [],
   "source": [
    "genstudio = pd.read_csv('./data/genstudio.csv', dtype={'Position':str})\n",
    "metadata = pd.read_csv('./data/metadata.csv')\n",
    "\n",
    "#print(genstudio.shape, metadata.shape)"
   ]
  },
  {
   "cell_type": "code",
   "execution_count": 14,
   "id": "9bbaeb6a",
   "metadata": {},
   "outputs": [],
   "source": [
    "col_names, types = genstudio.columns, genstudio.dtypes\n",
    "scheme_genstudio = ['row_id INTEGER PRIMARY KEY']\n",
    "new_names = ['row_id']\n",
    "\n",
    "\n",
    "for name, contain in zip(col_names[1:], types[1:]):\n",
    "    name = name.replace(\"-\", \"\").replace(\"  \", \" \").replace(\" \", \"_\")\n",
    "    new_names.append(name)\n",
    "\n",
    "    if 'int' in str(contain):\n",
    "        scheme_genstudio.append(' '.join([name, 'INTEGER']))\n",
    "    \n",
    "    elif 'float' in str(contain):\n",
    "        scheme_genstudio.append(' '.join([name, 'REAL']))\n",
    "    \n",
    "    else:\n",
    "        scheme_genstudio.append(' '.join([name, 'TEXT']))\n",
    "        \n",
    "scheme_genstudio = ', '.join(scheme_genstudio)\n",
    "genstudio.columns = new_names"
   ]
  },
  {
   "cell_type": "code",
   "execution_count": 16,
   "id": "fc8deac9",
   "metadata": {},
   "outputs": [],
   "source": [
    "col_names, types = metadata.columns, metadata.dtypes\n",
    "scheme_metadata = ['row_id INTEGER PRIMARY KEY']\n",
    "new_names = ['row_id']\n",
    "\n",
    "for name, contain in zip(col_names[1:], types[1:]):\n",
    "    name = name.replace(\"-\", \"\").replace(\"  \", \" \").replace(\" \", \"_\")\n",
    "    new_names.append(name)\n",
    "\n",
    "    if 'int' in str(contain):\n",
    "        scheme_metadata.append(' '.join([name, 'INTEGER']))\n",
    "    \n",
    "    if 'float' in str(contain):\n",
    "        scheme_metadata.append(' '.join([name, 'REAL']))\n",
    "    \n",
    "    else:\n",
    "        scheme_metadata.append(' '.join([name, 'TEXT']))\n",
    "        \n",
    "scheme_metadata = ', '.join(scheme_metadata)\n",
    "metadata.columns = new_names"
   ]
  },
  {
   "cell_type": "code",
   "execution_count": 78,
   "id": "df71bb08",
   "metadata": {},
   "outputs": [],
   "source": [
    "connection = sqlite3.connect('./data/bid_DB.db')\n",
    "#c_genstudio = conn_genstudio.cursor()\n",
    "\n",
    "connection.execute(f'''CREATE TABLE IF NOT EXISTS SNP_data (\n",
    "Sample_ID TEXT, \n",
    "SNP_Name TEXT, \n",
    "SNP TEXT, \n",
    "Position TEXT, \n",
    "Chr TEXT,\n",
    "sex TEXT)''')\n",
    "\n",
    "connection.commit()\n",
    "\n",
    "connection.execute(f'''CREATE TABLE IF NOT EXISTS metadata ({scheme_metadata},\n",
    "                       FOREIGN KEY (sex) REFERENCES SNP_data (sex))''')\n",
    "connection.commit()\n",
    "\n",
    "connection.execute(f'''CREATE TABLE IF NOT EXISTS genstudio ({scheme_genstudio},\n",
    "FOREIGN KEY (Sample_ID) REFERENCES metadata (dna_chip_id),\n",
    "FOREIGN KEY (Sample_ID) REFERENCES metadata (Sample_ID),\n",
    "FOREIGN KEY (SNP_Name) REFERENCES metadata (SNP_Name),\n",
    "FOREIGN KEY (SNP) REFERENCES metadata (SNP),\n",
    "FOREIGN KEY (Position) REFERENCES metadata (Position),\n",
    "FOREIGN KEY (Chr) REFERENCES metadata (Chr))''')\n",
    "\n",
    "connection.commit()"
   ]
  },
  {
   "cell_type": "code",
   "execution_count": 79,
   "id": "221c57cc",
   "metadata": {},
   "outputs": [],
   "source": [
    "genstudio.to_sql('genstudio', connection, if_exists='append', index=False)\n",
    "metadata.to_sql('metadata', connection, if_exists='append', index=False)\n",
    "\n",
    "connection.close()"
   ]
  },
  {
   "cell_type": "markdown",
   "id": "da2e50c6",
   "metadata": {},
   "source": [
    "# Selection"
   ]
  },
  {
   "cell_type": "code",
   "execution_count": 80,
   "id": "706d6e43",
   "metadata": {},
   "outputs": [],
   "source": [
    "connection = sqlite3.connect('./data/bid_DB.db')\n",
    "\n",
    "query = '''SELECT metadata.dna_chip_id, genstudio.SNP_Name, genstudio.SNP, genstudio.Position, genstudio.Chr, \n",
    "           metadata.sex\n",
    "           FROM genstudio, metadata\n",
    "           WHERE metadata.dna_chip_id = genstudio.Sample_ID\n",
    "'''\n",
    "\n",
    "res = connection.execute(query)\n",
    "\n",
    "print(len(res.fetchall()))\n",
    "\n",
    "connection.close()"
   ]
  },
  {
   "cell_type": "markdown",
   "id": "a83b389e",
   "metadata": {},
   "source": [
    "## Add selection to DB"
   ]
  },
  {
   "cell_type": "code",
   "execution_count": 82,
   "id": "3931281d",
   "metadata": {},
   "outputs": [],
   "source": [
    "connection = sqlite3.connect('./data/bid_DB.db')\n",
    "\n",
    "query = '''INSERT INTO SNP_data (Sample_ID, SNP_Name, SNP, Position, Chr, sex)\n",
    "SELECT genstudio.Sample_ID, genstudio.SNP_Name, genstudio.SNP, genstudio.Position, genstudio.Chr, \n",
    "metadata.sex \n",
    "FROM genstudio, metadata \n",
    "WHERE metadata.dna_chip_id = genstudio.Sample_ID'''\n",
    "\n",
    "connection.execute(query)\n",
    "connection.commit()\n",
    "connection.close()"
   ]
  },
  {
   "cell_type": "markdown",
   "id": "ce7af9fe",
   "metadata": {},
   "source": [
    "# Create and add from web"
   ]
  },
  {
   "cell_type": "code",
   "execution_count": null,
   "id": "5d33a944",
   "metadata": {},
   "outputs": [],
   "source": [
    "connection = sqlite3.connect('./data/SNP_human.db')\n",
    "\n",
    "connection.execute(f'''CREATE TABLE IF NOT EXISTS SNP_data (\n",
    "Sample_ID TEXT, \n",
    "SNP_Name TEXT, \n",
    "SNP TEXT, \n",
    "Position TEXT, \n",
    "Chr TEXT,\n",
    "sex TEXT)''')"
   ]
  },
  {
   "cell_type": "code",
   "execution_count": null,
   "id": "51940dc3",
   "metadata": {},
   "outputs": [],
   "source": []
  },
  {
   "cell_type": "code",
   "execution_count": null,
   "id": "7255a5b7",
   "metadata": {},
   "outputs": [],
   "source": []
  },
  {
   "cell_type": "code",
   "execution_count": null,
   "id": "74bb6efc",
   "metadata": {},
   "outputs": [],
   "source": []
  }
 ],
 "metadata": {
  "kernelspec": {
   "display_name": "Python 3 (ipykernel)",
   "language": "python",
   "name": "python3"
  },
  "language_info": {
   "codemirror_mode": {
    "name": "ipython",
    "version": 3
   },
   "file_extension": ".py",
   "mimetype": "text/x-python",
   "name": "python",
   "nbconvert_exporter": "python",
   "pygments_lexer": "ipython3",
   "version": "3.10.2"
  }
 },
 "nbformat": 4,
 "nbformat_minor": 5
}
