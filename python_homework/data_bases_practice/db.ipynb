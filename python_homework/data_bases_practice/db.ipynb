{
 "cells": [
  {
   "cell_type": "code",
   "execution_count": 2,
   "id": "b5df5291",
   "metadata": {},
   "outputs": [],
   "source": [
    "import sqlite3\n",
    "import pandas as pd\n",
    "import requests\n",
    "import time\n",
    "from bs4 import BeautifulSoup\n",
    "\n",
    "# sqlitebrowser\n",
    "\n",
    "# create diagram https://dbdiagram.io/d"
   ]
  },
  {
   "cell_type": "markdown",
   "id": "6cd0eb14",
   "metadata": {},
   "source": [
    "# Create sql from csv"
   ]
  },
  {
   "cell_type": "code",
   "execution_count": 81,
   "id": "7f90498d",
   "metadata": {},
   "outputs": [],
   "source": [
    "genstudio = pd.read_csv('./data/genstudio.csv', dtype={'Position':str})\n",
    "metadata = pd.read_csv('./data/metadata.csv')\n",
    "\n",
    "#print(genstudio.shape, metadata.shape)"
   ]
  },
  {
   "cell_type": "code",
   "execution_count": 82,
   "id": "9bbaeb6a",
   "metadata": {},
   "outputs": [],
   "source": [
    "def get_scheme_df(df):\n",
    "    '''\n",
    "    Create SQL scheme from DataFrame colnames.\n",
    "    Return SQL scheme and list with processed colnames.\n",
    "    '''\n",
    "    col_names, types = df.columns, df.dtypes\n",
    "    scheme_df = ['row_id INTEGER PRIMARY KEY']\n",
    "    new_names = ['row_id']\n",
    "\n",
    "\n",
    "    for name, contain in zip(col_names[1:], types[1:]):\n",
    "        name = name.replace(\"-\", \"\").replace(\"  \", \" \").replace(\" \", \"_\")\n",
    "        new_names.append(name)\n",
    "\n",
    "        if 'int' in str(contain):\n",
    "            scheme_df.append(' '.join([name, 'INTEGER']))\n",
    "        \n",
    "        elif 'float' in str(contain):\n",
    "            scheme_df.append(' '.join([name, 'REAL']))\n",
    "        \n",
    "        else:\n",
    "            scheme_df.append(' '.join([name, 'TEXT']))\n",
    "            \n",
    "    scheme_df = ', '.join(scheme_df)\n",
    "\n",
    "    return scheme_df, new_names"
   ]
  },
  {
   "cell_type": "code",
   "execution_count": 83,
   "id": "fc8deac9",
   "metadata": {},
   "outputs": [],
   "source": [
    "scheme_genstudio, new_names = get_scheme_df(genstudio)\n",
    "genstudio.columns = new_names\n",
    "\n",
    "scheme_metadata, new_names = get_scheme_df(metadata)\n",
    "metadata.columns = new_names"
   ]
  },
  {
   "cell_type": "code",
   "execution_count": 84,
   "id": "df71bb08",
   "metadata": {},
   "outputs": [],
   "source": [
    "def bid_DB(genstudio, metadata, scheme_genstudio, scheme_metadata, path='./data/bid_DB.db'):\n",
    "    \n",
    "    connection = sqlite3.connect(path)\n",
    "\n",
    "    connection.execute('''CREATE TABLE IF NOT EXISTS SNP_data (\n",
    "    Sample_ID TEXT, \n",
    "    SNP_Name TEXT, \n",
    "    SNP TEXT, \n",
    "    Position TEXT, \n",
    "    Chr TEXT,\n",
    "    sex TEXT)''')\n",
    "\n",
    "    connection.execute(f'''CREATE TABLE IF NOT EXISTS metadata ({scheme_metadata},\n",
    "                        FOREIGN KEY (sex) REFERENCES SNP_data (sex))''')\n",
    "\n",
    "    connection.execute(f'''CREATE TABLE IF NOT EXISTS genstudio ({scheme_genstudio},\n",
    "    FOREIGN KEY (Sample_ID) REFERENCES metadata (dna_chip_id),\n",
    "    FOREIGN KEY (Sample_ID) REFERENCES metadata (Sample_ID),\n",
    "    FOREIGN KEY (SNP_Name) REFERENCES metadata (SNP_Name),\n",
    "    FOREIGN KEY (SNP) REFERENCES metadata (SNP),\n",
    "    FOREIGN KEY (Position) REFERENCES metadata (Position),\n",
    "    FOREIGN KEY (Chr) REFERENCES metadata (Chr))''')\n",
    "\n",
    "    connection.commit()\n",
    "\n",
    "    genstudio.to_sql('genstudio', connection, if_exists='append', index=False)\n",
    "    metadata.to_sql('metadata', connection, if_exists='append', index=False)\n",
    "\n",
    "    connection.close()"
   ]
  },
  {
   "cell_type": "code",
   "execution_count": 85,
   "id": "221c57cc",
   "metadata": {},
   "outputs": [],
   "source": [
    "path='./data/bid_DB.db'\n",
    "bid_DB(genstudio, metadata, scheme_genstudio, scheme_metadata, path)"
   ]
  },
  {
   "cell_type": "markdown",
   "id": "d8f4d165",
   "metadata": {},
   "source": [
    "# Selection"
   ]
  },
  {
   "cell_type": "code",
   "execution_count": 95,
   "id": "b49655b4",
   "metadata": {},
   "outputs": [
    {
     "name": "stdout",
     "output_type": "stream",
     "text": [
      "855870\n"
     ]
    }
   ],
   "source": [
    "connection = sqlite3.connect('./data/bid_DB.db')\n",
    "\n",
    "query = '''SELECT Sample_ID, SNP, Chr\n",
    "           FROM genstudio\n",
    "           WHERE SNP = '[A/G]'\n",
    "'''\n",
    "\n",
    "res = connection.execute(query)\n",
    "\n",
    "print(len(res.fetchall()))\n",
    "\n",
    "connection.close()"
   ]
  },
  {
   "cell_type": "markdown",
   "id": "f06c90fe",
   "metadata": {},
   "source": [
    "## Add selection to DB"
   ]
  },
  {
   "cell_type": "code",
   "execution_count": 96,
   "id": "3931281d",
   "metadata": {},
   "outputs": [],
   "source": [
    "connection = sqlite3.connect('./data/bid_DB.db')\n",
    "\n",
    "query = '''INSERT INTO SNP_data (Sample_ID, SNP_Name, SNP, Position, Chr, sex)\n",
    "SELECT genstudio.Sample_ID, genstudio.SNP_Name, genstudio.SNP, genstudio.Position, genstudio.Chr, \n",
    "metadata.sex \n",
    "FROM genstudio, metadata \n",
    "WHERE metadata.dna_chip_id = genstudio.Sample_ID'''\n",
    "\n",
    "connection.execute(query)\n",
    "connection.commit()\n",
    "connection.close()"
   ]
  },
  {
   "cell_type": "markdown",
   "id": "2f483630",
   "metadata": {},
   "source": [
    "# Create and add from web"
   ]
  },
  {
   "cell_type": "code",
   "execution_count": 205,
   "id": "7fc5f103",
   "metadata": {},
   "outputs": [],
   "source": [
    "def get_genes():\n",
    "    \n",
    "    GENE_URL = 'https://genomics.senescence.info/genes/allgenes.php'\n",
    "    \n",
    "    resp = requests.get(GENE_URL)\n",
    "    soup = BeautifulSoup(resp.content, 'lxml')\n",
    "    \n",
    "    genes_list = []\n",
    "    \n",
    "    table = soup.find(\"table\", {\"class\":\"results-table\"} )\n",
    "    rows = table.find_all('tr')\n",
    "\n",
    "    for row in rows:\n",
    "        cols = row.find_all('td')\n",
    "        cols = [ele.text.strip() for ele in cols]\n",
    "        \n",
    "        if cols:    \n",
    "            genes_list.append(cols[0])\n",
    "    \n",
    "    return genes_list\n",
    "\n",
    "\n",
    "def snp_search(gene_name):\n",
    "    '''\n",
    "    Search first 20 SNP in ncbi snp database. Return soup object.\n",
    "    '''\n",
    "    SNP_URL = 'https://www.ncbi.nlm.nih.gov/snp/'\n",
    "    query_str = {'term': gene_name + '[Gene Name]'}\n",
    "    \n",
    "    resp = requests.get(SNP_URL, params=query_str)\n",
    "    soup = BeautifulSoup(resp.content, 'lxml')\n",
    "    \n",
    "    return soup\n",
    "\n",
    "\n",
    "def parse_soup(soup):\n",
    "    '''\n",
    "    Extract SNP ID from soup.\n",
    "    Return list with rs-id.\n",
    "    '''\n",
    "    rs_id = []\n",
    "    \n",
    "    for result in soup.find_all('div', {'class': 'rprt'}):\n",
    "        rs_id.append(result.find('div', {'class': 'supp'}).find('a').text)\n",
    "        \n",
    "    return rs_id\n",
    "\n",
    "\n",
    "def get_id_list(genes_list):\n",
    "    '''\n",
    "    Search first 20 SNP in ncbi snp database and extract SNP ID from soup.\n",
    "    Wait 5 seconds between get requests.\n",
    "    Return lists with SNP ID`s for all genes.\n",
    "    '''\n",
    "    id_list = []\n",
    "    \n",
    "    for gene_name in genes_list:\n",
    "        #time.sleep(5)\n",
    "        \n",
    "        soup = snp_search(str(gene_name))\n",
    "        rs_id = parse_soup(soup)\n",
    "\n",
    "        if rs_id:\n",
    "            id_list.append(rs_id)\n",
    "            \n",
    "    return id_list\n"
   ]
  },
  {
   "cell_type": "code",
   "execution_count": 48,
   "id": "8399167d",
   "metadata": {},
   "outputs": [],
   "source": [
    "def add_to_sql(snp_name, position, chromosome, alleles, db_build, assembly_build,\n",
    "               clin_sig, n_publications):\n",
    "    '''\n",
    "    Open connection to SNP_human DB, add some info to it and close connection.\n",
    "    Return nothing.\n",
    "    '''\n",
    "    connection = sqlite3.connect('./data/SNP_human.db')\n",
    "    \n",
    "    query_1 = '''INSERT INTO SNP_data (SNP_Name, Alleles, Position, Chr, dbSNP_Build, Assembly_Build)\n",
    "                                       VALUES (?, ?, ?, ?, ?, ?)'''\n",
    "    \n",
    "    connection.execute(query_1, [snp_name, alleles, position, chromosome, db_build, assembly_build])\n",
    "    \n",
    "    query_2 = '''INSERT INTO clin_SNP (SNP_Name, Clinical_Significance, N_Publications)\n",
    "                                       VALUES (?, ?, ?)'''\n",
    "    \n",
    "    connection.execute(query_2, [snp_name, clin_sig, n_publications]) \n",
    "    \n",
    "    connection.commit()\n",
    "    connection.close()\n",
    "\n",
    "\n",
    "def get_snp_info(red_id_list):\n",
    "    '''\n",
    "    Get info about SNP from soup object and add it to the SQL DB.\n",
    "    Wait 5 seconds between get requests.\n",
    "    Return 'DONE' when done.\n",
    "    '''\n",
    "    i = 1\n",
    "    \n",
    "    for snp_name in red_id_list:\n",
    "        \n",
    "        #time.sleep(5)\n",
    "        \n",
    "        req_url = f'https://www.ncbi.nlm.nih.gov/snp/{snp_name}#clinical_significance'\n",
    "\n",
    "        resp = requests.get(req_url, params={'horizontal_tab': 'true'})\n",
    "        soup = BeautifulSoup(resp.content, 'lxml')\n",
    "\n",
    "        db_build = soup.find('div', {'class': 'accession usa-width-one-third'}).text.split()[2]\n",
    "\n",
    "        snp_info = soup.find_all('dl', {'class': 'usa-width-one-half'})\n",
    "        dd_info = snp_info[0].find_all('dd')\n",
    "        build_chr_pos = dd_info[1].find_all('span') \n",
    "\n",
    "        assembly_build = build_chr_pos[1].text.strip()\n",
    "        position = build_chr_pos[0].text.split(':')[1]\n",
    "        chromosome = build_chr_pos[0].text.split(':')[0]\n",
    "\n",
    "        alleles = ''.join(dd_info[2].text.split())\n",
    "    \n",
    "        clin_sig = snp_info[1].find('dd').text.strip()\n",
    "        \n",
    "        publ_info = snp_info[1].find('a', {'id': 'snp_pub_count'})\n",
    "        \n",
    "        if publ_info:\n",
    "            n_publications = publ_info.text.split()[0]\n",
    "        else:\n",
    "            n_publications=0\n",
    "        \n",
    "        add_to_sql(snp_name,\n",
    "                   position,\n",
    "                   chromosome,\n",
    "                   alleles,\n",
    "                   db_build,\n",
    "                   assembly_build,\n",
    "                   clin_sig,\n",
    "                   n_publications)\n",
    "\n",
    "    return 'DONE'\n",
    "\n",
    "\n",
    "def create_SNP_db():\n",
    "    '''\n",
    "    Create DB with two tables with info about human genes SNP.\n",
    "    Gets information about the name of human genes from the \"genomics.senescence.info\" site.\n",
    "    When searching for SNPs for each gene in SNP NCBI, returns no more than 20 SNPs.\n",
    "    Write found SNPs to the SNP_ids.txt file.\n",
    "    Search info about each SNP in SNP NCBI.\n",
    "    Add info about found SNPs to SNP_human.db.\n",
    "    Return DONE when done.\n",
    "    \n",
    "    '''\n",
    "    \n",
    "    connection = sqlite3.connect('./data/SNP_human.db')\n",
    "\n",
    "    connection.execute('''CREATE TABLE IF NOT EXISTS SNP_data ( \n",
    "                           SNP_Name TEXT PRIMARY KEY, \n",
    "                           Alleles TEXT, \n",
    "                           Position TEXT, \n",
    "                           Chr TEXT,\n",
    "                           dbSNP_Build TEXT,\n",
    "                           Assembly_Build TEXT)''')\n",
    "\n",
    "    connection.execute('''CREATE TABLE IF NOT EXISTS clin_SNP (\n",
    "                           SNP_Name TEXT,\n",
    "                           Clinical_Significance TEXT,\n",
    "                           N_Publications TEXT,\n",
    "                           FOREIGN KEY (SNP_Name) REFERENCES SNP_data (SNP_Name))''')\n",
    "\n",
    "    connection.commit()\n",
    "    connection.close()\n",
    "    ''' # Done if file\n",
    "    genes_list = get_genes()\n",
    "\n",
    "    id_list = get_id_list(genes_list)\n",
    "    red_id_list = list(set([j for sub in id_list for j in sub]))\n",
    "\n",
    "    with open('./data/SNP_ids.txt', 'w') as output_file:\n",
    "        for rsid in red_id_list:\n",
    "            output_file.write(rsid + '\\n')\n",
    "    '''\n",
    "    \n",
    "    with open('./data/SNP_ids.txt') as f:\n",
    "        red_id_list = f.read().splitlines()\n",
    "    \n",
    "    return get_snp_info(red_id_list)"
   ]
  },
  {
   "cell_type": "code",
   "execution_count": 49,
   "id": "daadc7da",
   "metadata": {},
   "outputs": [
    {
     "ename": "KeyboardInterrupt",
     "evalue": "",
     "output_type": "error",
     "traceback": [
      "\u001b[0;31m---------------------------------------------------------------------------\u001b[0m",
      "\u001b[0;31mKeyboardInterrupt\u001b[0m                         Traceback (most recent call last)",
      "Input \u001b[0;32mIn [49]\u001b[0m, in \u001b[0;36m<cell line: 1>\u001b[0;34m()\u001b[0m\n\u001b[0;32m----> 1\u001b[0m \u001b[43mcreate_SNP_db\u001b[49m\u001b[43m(\u001b[49m\u001b[43m)\u001b[49m\n",
      "Input \u001b[0;32mIn [48]\u001b[0m, in \u001b[0;36mcreate_SNP_db\u001b[0;34m()\u001b[0m\n\u001b[1;32m    114\u001b[0m \u001b[38;5;28;01mwith\u001b[39;00m \u001b[38;5;28mopen\u001b[39m(\u001b[38;5;124m'\u001b[39m\u001b[38;5;124m./data/SNP_ids.txt\u001b[39m\u001b[38;5;124m'\u001b[39m) \u001b[38;5;28;01mas\u001b[39;00m f:\n\u001b[1;32m    115\u001b[0m     red_id_list \u001b[38;5;241m=\u001b[39m f\u001b[38;5;241m.\u001b[39mread()\u001b[38;5;241m.\u001b[39msplitlines()\n\u001b[0;32m--> 117\u001b[0m \u001b[38;5;28;01mreturn\u001b[39;00m \u001b[43mget_snp_info\u001b[49m\u001b[43m(\u001b[49m\u001b[43mred_id_list\u001b[49m\u001b[43m)\u001b[49m\n",
      "Input \u001b[0;32mIn [48]\u001b[0m, in \u001b[0;36mget_snp_info\u001b[0;34m(red_id_list)\u001b[0m\n\u001b[1;32m     31\u001b[0m \u001b[38;5;28;01mfor\u001b[39;00m snp_name \u001b[38;5;129;01min\u001b[39;00m red_id_list:\n\u001b[1;32m     32\u001b[0m     \n\u001b[1;32m     33\u001b[0m     \u001b[38;5;66;03m#time.sleep(5)\u001b[39;00m\n\u001b[1;32m     35\u001b[0m     req_url \u001b[38;5;241m=\u001b[39m \u001b[38;5;124mf\u001b[39m\u001b[38;5;124m'\u001b[39m\u001b[38;5;124mhttps://www.ncbi.nlm.nih.gov/snp/\u001b[39m\u001b[38;5;132;01m{\u001b[39;00msnp_name\u001b[38;5;132;01m}\u001b[39;00m\u001b[38;5;124m#clinical_significance\u001b[39m\u001b[38;5;124m'\u001b[39m\n\u001b[0;32m---> 37\u001b[0m     resp \u001b[38;5;241m=\u001b[39m \u001b[43mrequests\u001b[49m\u001b[38;5;241;43m.\u001b[39;49m\u001b[43mget\u001b[49m\u001b[43m(\u001b[49m\u001b[43mreq_url\u001b[49m\u001b[43m,\u001b[49m\u001b[43m \u001b[49m\u001b[43mparams\u001b[49m\u001b[38;5;241;43m=\u001b[39;49m\u001b[43m{\u001b[49m\u001b[38;5;124;43m'\u001b[39;49m\u001b[38;5;124;43mhorizontal_tab\u001b[39;49m\u001b[38;5;124;43m'\u001b[39;49m\u001b[43m:\u001b[49m\u001b[43m \u001b[49m\u001b[38;5;124;43m'\u001b[39;49m\u001b[38;5;124;43mtrue\u001b[39;49m\u001b[38;5;124;43m'\u001b[39;49m\u001b[43m}\u001b[49m\u001b[43m)\u001b[49m\n\u001b[1;32m     38\u001b[0m     soup \u001b[38;5;241m=\u001b[39m BeautifulSoup(resp\u001b[38;5;241m.\u001b[39mcontent, \u001b[38;5;124m'\u001b[39m\u001b[38;5;124mlxml\u001b[39m\u001b[38;5;124m'\u001b[39m)\n\u001b[1;32m     40\u001b[0m     db_build \u001b[38;5;241m=\u001b[39m soup\u001b[38;5;241m.\u001b[39mfind(\u001b[38;5;124m'\u001b[39m\u001b[38;5;124mdiv\u001b[39m\u001b[38;5;124m'\u001b[39m, {\u001b[38;5;124m'\u001b[39m\u001b[38;5;124mclass\u001b[39m\u001b[38;5;124m'\u001b[39m: \u001b[38;5;124m'\u001b[39m\u001b[38;5;124maccession usa-width-one-third\u001b[39m\u001b[38;5;124m'\u001b[39m})\u001b[38;5;241m.\u001b[39mtext\u001b[38;5;241m.\u001b[39msplit()[\u001b[38;5;241m2\u001b[39m]\n",
      "File \u001b[0;32m~/.cache/pypoetry/virtualenvs/db_practice-QuDR05IS-py3.10/lib/python3.10/site-packages/requests/api.py:75\u001b[0m, in \u001b[0;36mget\u001b[0;34m(url, params, **kwargs)\u001b[0m\n\u001b[1;32m     64\u001b[0m \u001b[38;5;28;01mdef\u001b[39;00m \u001b[38;5;21mget\u001b[39m(url, params\u001b[38;5;241m=\u001b[39m\u001b[38;5;28;01mNone\u001b[39;00m, \u001b[38;5;241m*\u001b[39m\u001b[38;5;241m*\u001b[39mkwargs):\n\u001b[1;32m     65\u001b[0m     \u001b[38;5;124mr\u001b[39m\u001b[38;5;124;03m\"\"\"Sends a GET request.\u001b[39;00m\n\u001b[1;32m     66\u001b[0m \n\u001b[1;32m     67\u001b[0m \u001b[38;5;124;03m    :param url: URL for the new :class:`Request` object.\u001b[39;00m\n\u001b[0;32m   (...)\u001b[0m\n\u001b[1;32m     72\u001b[0m \u001b[38;5;124;03m    :rtype: requests.Response\u001b[39;00m\n\u001b[1;32m     73\u001b[0m \u001b[38;5;124;03m    \"\"\"\u001b[39;00m\n\u001b[0;32m---> 75\u001b[0m     \u001b[38;5;28;01mreturn\u001b[39;00m \u001b[43mrequest\u001b[49m\u001b[43m(\u001b[49m\u001b[38;5;124;43m'\u001b[39;49m\u001b[38;5;124;43mget\u001b[39;49m\u001b[38;5;124;43m'\u001b[39;49m\u001b[43m,\u001b[49m\u001b[43m \u001b[49m\u001b[43murl\u001b[49m\u001b[43m,\u001b[49m\u001b[43m \u001b[49m\u001b[43mparams\u001b[49m\u001b[38;5;241;43m=\u001b[39;49m\u001b[43mparams\u001b[49m\u001b[43m,\u001b[49m\u001b[43m \u001b[49m\u001b[38;5;241;43m*\u001b[39;49m\u001b[38;5;241;43m*\u001b[39;49m\u001b[43mkwargs\u001b[49m\u001b[43m)\u001b[49m\n",
      "File \u001b[0;32m~/.cache/pypoetry/virtualenvs/db_practice-QuDR05IS-py3.10/lib/python3.10/site-packages/requests/api.py:61\u001b[0m, in \u001b[0;36mrequest\u001b[0;34m(method, url, **kwargs)\u001b[0m\n\u001b[1;32m     57\u001b[0m \u001b[38;5;66;03m# By using the 'with' statement we are sure the session is closed, thus we\u001b[39;00m\n\u001b[1;32m     58\u001b[0m \u001b[38;5;66;03m# avoid leaving sockets open which can trigger a ResourceWarning in some\u001b[39;00m\n\u001b[1;32m     59\u001b[0m \u001b[38;5;66;03m# cases, and look like a memory leak in others.\u001b[39;00m\n\u001b[1;32m     60\u001b[0m \u001b[38;5;28;01mwith\u001b[39;00m sessions\u001b[38;5;241m.\u001b[39mSession() \u001b[38;5;28;01mas\u001b[39;00m session:\n\u001b[0;32m---> 61\u001b[0m     \u001b[38;5;28;01mreturn\u001b[39;00m \u001b[43msession\u001b[49m\u001b[38;5;241;43m.\u001b[39;49m\u001b[43mrequest\u001b[49m\u001b[43m(\u001b[49m\u001b[43mmethod\u001b[49m\u001b[38;5;241;43m=\u001b[39;49m\u001b[43mmethod\u001b[49m\u001b[43m,\u001b[49m\u001b[43m \u001b[49m\u001b[43murl\u001b[49m\u001b[38;5;241;43m=\u001b[39;49m\u001b[43murl\u001b[49m\u001b[43m,\u001b[49m\u001b[43m \u001b[49m\u001b[38;5;241;43m*\u001b[39;49m\u001b[38;5;241;43m*\u001b[39;49m\u001b[43mkwargs\u001b[49m\u001b[43m)\u001b[49m\n",
      "File \u001b[0;32m~/.cache/pypoetry/virtualenvs/db_practice-QuDR05IS-py3.10/lib/python3.10/site-packages/requests/sessions.py:529\u001b[0m, in \u001b[0;36mSession.request\u001b[0;34m(self, method, url, params, data, headers, cookies, files, auth, timeout, allow_redirects, proxies, hooks, stream, verify, cert, json)\u001b[0m\n\u001b[1;32m    524\u001b[0m send_kwargs \u001b[38;5;241m=\u001b[39m {\n\u001b[1;32m    525\u001b[0m     \u001b[38;5;124m'\u001b[39m\u001b[38;5;124mtimeout\u001b[39m\u001b[38;5;124m'\u001b[39m: timeout,\n\u001b[1;32m    526\u001b[0m     \u001b[38;5;124m'\u001b[39m\u001b[38;5;124mallow_redirects\u001b[39m\u001b[38;5;124m'\u001b[39m: allow_redirects,\n\u001b[1;32m    527\u001b[0m }\n\u001b[1;32m    528\u001b[0m send_kwargs\u001b[38;5;241m.\u001b[39mupdate(settings)\n\u001b[0;32m--> 529\u001b[0m resp \u001b[38;5;241m=\u001b[39m \u001b[38;5;28;43mself\u001b[39;49m\u001b[38;5;241;43m.\u001b[39;49m\u001b[43msend\u001b[49m\u001b[43m(\u001b[49m\u001b[43mprep\u001b[49m\u001b[43m,\u001b[49m\u001b[43m \u001b[49m\u001b[38;5;241;43m*\u001b[39;49m\u001b[38;5;241;43m*\u001b[39;49m\u001b[43msend_kwargs\u001b[49m\u001b[43m)\u001b[49m\n\u001b[1;32m    531\u001b[0m \u001b[38;5;28;01mreturn\u001b[39;00m resp\n",
      "File \u001b[0;32m~/.cache/pypoetry/virtualenvs/db_practice-QuDR05IS-py3.10/lib/python3.10/site-packages/requests/sessions.py:645\u001b[0m, in \u001b[0;36mSession.send\u001b[0;34m(self, request, **kwargs)\u001b[0m\n\u001b[1;32m    642\u001b[0m start \u001b[38;5;241m=\u001b[39m preferred_clock()\n\u001b[1;32m    644\u001b[0m \u001b[38;5;66;03m# Send the request\u001b[39;00m\n\u001b[0;32m--> 645\u001b[0m r \u001b[38;5;241m=\u001b[39m \u001b[43madapter\u001b[49m\u001b[38;5;241;43m.\u001b[39;49m\u001b[43msend\u001b[49m\u001b[43m(\u001b[49m\u001b[43mrequest\u001b[49m\u001b[43m,\u001b[49m\u001b[43m \u001b[49m\u001b[38;5;241;43m*\u001b[39;49m\u001b[38;5;241;43m*\u001b[39;49m\u001b[43mkwargs\u001b[49m\u001b[43m)\u001b[49m\n\u001b[1;32m    647\u001b[0m \u001b[38;5;66;03m# Total elapsed time of the request (approximately)\u001b[39;00m\n\u001b[1;32m    648\u001b[0m elapsed \u001b[38;5;241m=\u001b[39m preferred_clock() \u001b[38;5;241m-\u001b[39m start\n",
      "File \u001b[0;32m~/.cache/pypoetry/virtualenvs/db_practice-QuDR05IS-py3.10/lib/python3.10/site-packages/requests/adapters.py:440\u001b[0m, in \u001b[0;36mHTTPAdapter.send\u001b[0;34m(self, request, stream, timeout, verify, cert, proxies)\u001b[0m\n\u001b[1;32m    438\u001b[0m \u001b[38;5;28;01mtry\u001b[39;00m:\n\u001b[1;32m    439\u001b[0m     \u001b[38;5;28;01mif\u001b[39;00m \u001b[38;5;129;01mnot\u001b[39;00m chunked:\n\u001b[0;32m--> 440\u001b[0m         resp \u001b[38;5;241m=\u001b[39m \u001b[43mconn\u001b[49m\u001b[38;5;241;43m.\u001b[39;49m\u001b[43murlopen\u001b[49m\u001b[43m(\u001b[49m\n\u001b[1;32m    441\u001b[0m \u001b[43m            \u001b[49m\u001b[43mmethod\u001b[49m\u001b[38;5;241;43m=\u001b[39;49m\u001b[43mrequest\u001b[49m\u001b[38;5;241;43m.\u001b[39;49m\u001b[43mmethod\u001b[49m\u001b[43m,\u001b[49m\n\u001b[1;32m    442\u001b[0m \u001b[43m            \u001b[49m\u001b[43murl\u001b[49m\u001b[38;5;241;43m=\u001b[39;49m\u001b[43murl\u001b[49m\u001b[43m,\u001b[49m\n\u001b[1;32m    443\u001b[0m \u001b[43m            \u001b[49m\u001b[43mbody\u001b[49m\u001b[38;5;241;43m=\u001b[39;49m\u001b[43mrequest\u001b[49m\u001b[38;5;241;43m.\u001b[39;49m\u001b[43mbody\u001b[49m\u001b[43m,\u001b[49m\n\u001b[1;32m    444\u001b[0m \u001b[43m            \u001b[49m\u001b[43mheaders\u001b[49m\u001b[38;5;241;43m=\u001b[39;49m\u001b[43mrequest\u001b[49m\u001b[38;5;241;43m.\u001b[39;49m\u001b[43mheaders\u001b[49m\u001b[43m,\u001b[49m\n\u001b[1;32m    445\u001b[0m \u001b[43m            \u001b[49m\u001b[43mredirect\u001b[49m\u001b[38;5;241;43m=\u001b[39;49m\u001b[38;5;28;43;01mFalse\u001b[39;49;00m\u001b[43m,\u001b[49m\n\u001b[1;32m    446\u001b[0m \u001b[43m            \u001b[49m\u001b[43massert_same_host\u001b[49m\u001b[38;5;241;43m=\u001b[39;49m\u001b[38;5;28;43;01mFalse\u001b[39;49;00m\u001b[43m,\u001b[49m\n\u001b[1;32m    447\u001b[0m \u001b[43m            \u001b[49m\u001b[43mpreload_content\u001b[49m\u001b[38;5;241;43m=\u001b[39;49m\u001b[38;5;28;43;01mFalse\u001b[39;49;00m\u001b[43m,\u001b[49m\n\u001b[1;32m    448\u001b[0m \u001b[43m            \u001b[49m\u001b[43mdecode_content\u001b[49m\u001b[38;5;241;43m=\u001b[39;49m\u001b[38;5;28;43;01mFalse\u001b[39;49;00m\u001b[43m,\u001b[49m\n\u001b[1;32m    449\u001b[0m \u001b[43m            \u001b[49m\u001b[43mretries\u001b[49m\u001b[38;5;241;43m=\u001b[39;49m\u001b[38;5;28;43mself\u001b[39;49m\u001b[38;5;241;43m.\u001b[39;49m\u001b[43mmax_retries\u001b[49m\u001b[43m,\u001b[49m\n\u001b[1;32m    450\u001b[0m \u001b[43m            \u001b[49m\u001b[43mtimeout\u001b[49m\u001b[38;5;241;43m=\u001b[39;49m\u001b[43mtimeout\u001b[49m\n\u001b[1;32m    451\u001b[0m \u001b[43m        \u001b[49m\u001b[43m)\u001b[49m\n\u001b[1;32m    453\u001b[0m     \u001b[38;5;66;03m# Send the request.\u001b[39;00m\n\u001b[1;32m    454\u001b[0m     \u001b[38;5;28;01melse\u001b[39;00m:\n\u001b[1;32m    455\u001b[0m         \u001b[38;5;28;01mif\u001b[39;00m \u001b[38;5;28mhasattr\u001b[39m(conn, \u001b[38;5;124m'\u001b[39m\u001b[38;5;124mproxy_pool\u001b[39m\u001b[38;5;124m'\u001b[39m):\n",
      "File \u001b[0;32m~/.cache/pypoetry/virtualenvs/db_practice-QuDR05IS-py3.10/lib/python3.10/site-packages/urllib3/connectionpool.py:703\u001b[0m, in \u001b[0;36mHTTPConnectionPool.urlopen\u001b[0;34m(self, method, url, body, headers, retries, redirect, assert_same_host, timeout, pool_timeout, release_conn, chunked, body_pos, **response_kw)\u001b[0m\n\u001b[1;32m    700\u001b[0m     \u001b[38;5;28mself\u001b[39m\u001b[38;5;241m.\u001b[39m_prepare_proxy(conn)\n\u001b[1;32m    702\u001b[0m \u001b[38;5;66;03m# Make the request on the httplib connection object.\u001b[39;00m\n\u001b[0;32m--> 703\u001b[0m httplib_response \u001b[38;5;241m=\u001b[39m \u001b[38;5;28;43mself\u001b[39;49m\u001b[38;5;241;43m.\u001b[39;49m\u001b[43m_make_request\u001b[49m\u001b[43m(\u001b[49m\n\u001b[1;32m    704\u001b[0m \u001b[43m    \u001b[49m\u001b[43mconn\u001b[49m\u001b[43m,\u001b[49m\n\u001b[1;32m    705\u001b[0m \u001b[43m    \u001b[49m\u001b[43mmethod\u001b[49m\u001b[43m,\u001b[49m\n\u001b[1;32m    706\u001b[0m \u001b[43m    \u001b[49m\u001b[43murl\u001b[49m\u001b[43m,\u001b[49m\n\u001b[1;32m    707\u001b[0m \u001b[43m    \u001b[49m\u001b[43mtimeout\u001b[49m\u001b[38;5;241;43m=\u001b[39;49m\u001b[43mtimeout_obj\u001b[49m\u001b[43m,\u001b[49m\n\u001b[1;32m    708\u001b[0m \u001b[43m    \u001b[49m\u001b[43mbody\u001b[49m\u001b[38;5;241;43m=\u001b[39;49m\u001b[43mbody\u001b[49m\u001b[43m,\u001b[49m\n\u001b[1;32m    709\u001b[0m \u001b[43m    \u001b[49m\u001b[43mheaders\u001b[49m\u001b[38;5;241;43m=\u001b[39;49m\u001b[43mheaders\u001b[49m\u001b[43m,\u001b[49m\n\u001b[1;32m    710\u001b[0m \u001b[43m    \u001b[49m\u001b[43mchunked\u001b[49m\u001b[38;5;241;43m=\u001b[39;49m\u001b[43mchunked\u001b[49m\u001b[43m,\u001b[49m\n\u001b[1;32m    711\u001b[0m \u001b[43m\u001b[49m\u001b[43m)\u001b[49m\n\u001b[1;32m    713\u001b[0m \u001b[38;5;66;03m# If we're going to release the connection in ``finally:``, then\u001b[39;00m\n\u001b[1;32m    714\u001b[0m \u001b[38;5;66;03m# the response doesn't need to know about the connection. Otherwise\u001b[39;00m\n\u001b[1;32m    715\u001b[0m \u001b[38;5;66;03m# it will also try to release it and we'll have a double-release\u001b[39;00m\n\u001b[1;32m    716\u001b[0m \u001b[38;5;66;03m# mess.\u001b[39;00m\n\u001b[1;32m    717\u001b[0m response_conn \u001b[38;5;241m=\u001b[39m conn \u001b[38;5;28;01mif\u001b[39;00m \u001b[38;5;129;01mnot\u001b[39;00m release_conn \u001b[38;5;28;01melse\u001b[39;00m \u001b[38;5;28;01mNone\u001b[39;00m\n",
      "File \u001b[0;32m~/.cache/pypoetry/virtualenvs/db_practice-QuDR05IS-py3.10/lib/python3.10/site-packages/urllib3/connectionpool.py:449\u001b[0m, in \u001b[0;36mHTTPConnectionPool._make_request\u001b[0;34m(self, conn, method, url, timeout, chunked, **httplib_request_kw)\u001b[0m\n\u001b[1;32m    444\u001b[0m             httplib_response \u001b[38;5;241m=\u001b[39m conn\u001b[38;5;241m.\u001b[39mgetresponse()\n\u001b[1;32m    445\u001b[0m         \u001b[38;5;28;01mexcept\u001b[39;00m \u001b[38;5;167;01mBaseException\u001b[39;00m \u001b[38;5;28;01mas\u001b[39;00m e:\n\u001b[1;32m    446\u001b[0m             \u001b[38;5;66;03m# Remove the TypeError from the exception chain in\u001b[39;00m\n\u001b[1;32m    447\u001b[0m             \u001b[38;5;66;03m# Python 3 (including for exceptions like SystemExit).\u001b[39;00m\n\u001b[1;32m    448\u001b[0m             \u001b[38;5;66;03m# Otherwise it looks like a bug in the code.\u001b[39;00m\n\u001b[0;32m--> 449\u001b[0m             \u001b[43msix\u001b[49m\u001b[38;5;241;43m.\u001b[39;49m\u001b[43mraise_from\u001b[49m\u001b[43m(\u001b[49m\u001b[43me\u001b[49m\u001b[43m,\u001b[49m\u001b[43m \u001b[49m\u001b[38;5;28;43;01mNone\u001b[39;49;00m\u001b[43m)\u001b[49m\n\u001b[1;32m    450\u001b[0m \u001b[38;5;28;01mexcept\u001b[39;00m (SocketTimeout, BaseSSLError, SocketError) \u001b[38;5;28;01mas\u001b[39;00m e:\n\u001b[1;32m    451\u001b[0m     \u001b[38;5;28mself\u001b[39m\u001b[38;5;241m.\u001b[39m_raise_timeout(err\u001b[38;5;241m=\u001b[39me, url\u001b[38;5;241m=\u001b[39murl, timeout_value\u001b[38;5;241m=\u001b[39mread_timeout)\n",
      "File \u001b[0;32m<string>:3\u001b[0m, in \u001b[0;36mraise_from\u001b[0;34m(value, from_value)\u001b[0m\n",
      "File \u001b[0;32m~/.cache/pypoetry/virtualenvs/db_practice-QuDR05IS-py3.10/lib/python3.10/site-packages/urllib3/connectionpool.py:444\u001b[0m, in \u001b[0;36mHTTPConnectionPool._make_request\u001b[0;34m(self, conn, method, url, timeout, chunked, **httplib_request_kw)\u001b[0m\n\u001b[1;32m    441\u001b[0m \u001b[38;5;28;01mexcept\u001b[39;00m \u001b[38;5;167;01mTypeError\u001b[39;00m:\n\u001b[1;32m    442\u001b[0m     \u001b[38;5;66;03m# Python 3\u001b[39;00m\n\u001b[1;32m    443\u001b[0m     \u001b[38;5;28;01mtry\u001b[39;00m:\n\u001b[0;32m--> 444\u001b[0m         httplib_response \u001b[38;5;241m=\u001b[39m \u001b[43mconn\u001b[49m\u001b[38;5;241;43m.\u001b[39;49m\u001b[43mgetresponse\u001b[49m\u001b[43m(\u001b[49m\u001b[43m)\u001b[49m\n\u001b[1;32m    445\u001b[0m     \u001b[38;5;28;01mexcept\u001b[39;00m \u001b[38;5;167;01mBaseException\u001b[39;00m \u001b[38;5;28;01mas\u001b[39;00m e:\n\u001b[1;32m    446\u001b[0m         \u001b[38;5;66;03m# Remove the TypeError from the exception chain in\u001b[39;00m\n\u001b[1;32m    447\u001b[0m         \u001b[38;5;66;03m# Python 3 (including for exceptions like SystemExit).\u001b[39;00m\n\u001b[1;32m    448\u001b[0m         \u001b[38;5;66;03m# Otherwise it looks like a bug in the code.\u001b[39;00m\n\u001b[1;32m    449\u001b[0m         six\u001b[38;5;241m.\u001b[39mraise_from(e, \u001b[38;5;28;01mNone\u001b[39;00m)\n",
      "File \u001b[0;32m/usr/lib/python3.10/http/client.py:1374\u001b[0m, in \u001b[0;36mHTTPConnection.getresponse\u001b[0;34m(self)\u001b[0m\n\u001b[1;32m   1372\u001b[0m \u001b[38;5;28;01mtry\u001b[39;00m:\n\u001b[1;32m   1373\u001b[0m     \u001b[38;5;28;01mtry\u001b[39;00m:\n\u001b[0;32m-> 1374\u001b[0m         \u001b[43mresponse\u001b[49m\u001b[38;5;241;43m.\u001b[39;49m\u001b[43mbegin\u001b[49m\u001b[43m(\u001b[49m\u001b[43m)\u001b[49m\n\u001b[1;32m   1375\u001b[0m     \u001b[38;5;28;01mexcept\u001b[39;00m \u001b[38;5;167;01mConnectionError\u001b[39;00m:\n\u001b[1;32m   1376\u001b[0m         \u001b[38;5;28mself\u001b[39m\u001b[38;5;241m.\u001b[39mclose()\n",
      "File \u001b[0;32m/usr/lib/python3.10/http/client.py:318\u001b[0m, in \u001b[0;36mHTTPResponse.begin\u001b[0;34m(self)\u001b[0m\n\u001b[1;32m    316\u001b[0m \u001b[38;5;66;03m# read until we get a non-100 response\u001b[39;00m\n\u001b[1;32m    317\u001b[0m \u001b[38;5;28;01mwhile\u001b[39;00m \u001b[38;5;28;01mTrue\u001b[39;00m:\n\u001b[0;32m--> 318\u001b[0m     version, status, reason \u001b[38;5;241m=\u001b[39m \u001b[38;5;28;43mself\u001b[39;49m\u001b[38;5;241;43m.\u001b[39;49m\u001b[43m_read_status\u001b[49m\u001b[43m(\u001b[49m\u001b[43m)\u001b[49m\n\u001b[1;32m    319\u001b[0m     \u001b[38;5;28;01mif\u001b[39;00m status \u001b[38;5;241m!=\u001b[39m CONTINUE:\n\u001b[1;32m    320\u001b[0m         \u001b[38;5;28;01mbreak\u001b[39;00m\n",
      "File \u001b[0;32m/usr/lib/python3.10/http/client.py:279\u001b[0m, in \u001b[0;36mHTTPResponse._read_status\u001b[0;34m(self)\u001b[0m\n\u001b[1;32m    278\u001b[0m \u001b[38;5;28;01mdef\u001b[39;00m \u001b[38;5;21m_read_status\u001b[39m(\u001b[38;5;28mself\u001b[39m):\n\u001b[0;32m--> 279\u001b[0m     line \u001b[38;5;241m=\u001b[39m \u001b[38;5;28mstr\u001b[39m(\u001b[38;5;28;43mself\u001b[39;49m\u001b[38;5;241;43m.\u001b[39;49m\u001b[43mfp\u001b[49m\u001b[38;5;241;43m.\u001b[39;49m\u001b[43mreadline\u001b[49m\u001b[43m(\u001b[49m\u001b[43m_MAXLINE\u001b[49m\u001b[43m \u001b[49m\u001b[38;5;241;43m+\u001b[39;49m\u001b[43m \u001b[49m\u001b[38;5;241;43m1\u001b[39;49m\u001b[43m)\u001b[49m, \u001b[38;5;124m\"\u001b[39m\u001b[38;5;124miso-8859-1\u001b[39m\u001b[38;5;124m\"\u001b[39m)\n\u001b[1;32m    280\u001b[0m     \u001b[38;5;28;01mif\u001b[39;00m \u001b[38;5;28mlen\u001b[39m(line) \u001b[38;5;241m>\u001b[39m _MAXLINE:\n\u001b[1;32m    281\u001b[0m         \u001b[38;5;28;01mraise\u001b[39;00m LineTooLong(\u001b[38;5;124m\"\u001b[39m\u001b[38;5;124mstatus line\u001b[39m\u001b[38;5;124m\"\u001b[39m)\n",
      "File \u001b[0;32m/usr/lib/python3.10/socket.py:705\u001b[0m, in \u001b[0;36mSocketIO.readinto\u001b[0;34m(self, b)\u001b[0m\n\u001b[1;32m    703\u001b[0m \u001b[38;5;28;01mwhile\u001b[39;00m \u001b[38;5;28;01mTrue\u001b[39;00m:\n\u001b[1;32m    704\u001b[0m     \u001b[38;5;28;01mtry\u001b[39;00m:\n\u001b[0;32m--> 705\u001b[0m         \u001b[38;5;28;01mreturn\u001b[39;00m \u001b[38;5;28;43mself\u001b[39;49m\u001b[38;5;241;43m.\u001b[39;49m\u001b[43m_sock\u001b[49m\u001b[38;5;241;43m.\u001b[39;49m\u001b[43mrecv_into\u001b[49m\u001b[43m(\u001b[49m\u001b[43mb\u001b[49m\u001b[43m)\u001b[49m\n\u001b[1;32m    706\u001b[0m     \u001b[38;5;28;01mexcept\u001b[39;00m timeout:\n\u001b[1;32m    707\u001b[0m         \u001b[38;5;28mself\u001b[39m\u001b[38;5;241m.\u001b[39m_timeout_occurred \u001b[38;5;241m=\u001b[39m \u001b[38;5;28;01mTrue\u001b[39;00m\n",
      "File \u001b[0;32m/usr/lib/python3.10/ssl.py:1273\u001b[0m, in \u001b[0;36mSSLSocket.recv_into\u001b[0;34m(self, buffer, nbytes, flags)\u001b[0m\n\u001b[1;32m   1269\u001b[0m     \u001b[38;5;28;01mif\u001b[39;00m flags \u001b[38;5;241m!=\u001b[39m \u001b[38;5;241m0\u001b[39m:\n\u001b[1;32m   1270\u001b[0m         \u001b[38;5;28;01mraise\u001b[39;00m \u001b[38;5;167;01mValueError\u001b[39;00m(\n\u001b[1;32m   1271\u001b[0m           \u001b[38;5;124m\"\u001b[39m\u001b[38;5;124mnon-zero flags not allowed in calls to recv_into() on \u001b[39m\u001b[38;5;132;01m%s\u001b[39;00m\u001b[38;5;124m\"\u001b[39m \u001b[38;5;241m%\u001b[39m\n\u001b[1;32m   1272\u001b[0m           \u001b[38;5;28mself\u001b[39m\u001b[38;5;241m.\u001b[39m\u001b[38;5;18m__class__\u001b[39m)\n\u001b[0;32m-> 1273\u001b[0m     \u001b[38;5;28;01mreturn\u001b[39;00m \u001b[38;5;28;43mself\u001b[39;49m\u001b[38;5;241;43m.\u001b[39;49m\u001b[43mread\u001b[49m\u001b[43m(\u001b[49m\u001b[43mnbytes\u001b[49m\u001b[43m,\u001b[49m\u001b[43m \u001b[49m\u001b[43mbuffer\u001b[49m\u001b[43m)\u001b[49m\n\u001b[1;32m   1274\u001b[0m \u001b[38;5;28;01melse\u001b[39;00m:\n\u001b[1;32m   1275\u001b[0m     \u001b[38;5;28;01mreturn\u001b[39;00m \u001b[38;5;28msuper\u001b[39m()\u001b[38;5;241m.\u001b[39mrecv_into(buffer, nbytes, flags)\n",
      "File \u001b[0;32m/usr/lib/python3.10/ssl.py:1129\u001b[0m, in \u001b[0;36mSSLSocket.read\u001b[0;34m(self, len, buffer)\u001b[0m\n\u001b[1;32m   1127\u001b[0m \u001b[38;5;28;01mtry\u001b[39;00m:\n\u001b[1;32m   1128\u001b[0m     \u001b[38;5;28;01mif\u001b[39;00m buffer \u001b[38;5;129;01mis\u001b[39;00m \u001b[38;5;129;01mnot\u001b[39;00m \u001b[38;5;28;01mNone\u001b[39;00m:\n\u001b[0;32m-> 1129\u001b[0m         \u001b[38;5;28;01mreturn\u001b[39;00m \u001b[38;5;28;43mself\u001b[39;49m\u001b[38;5;241;43m.\u001b[39;49m\u001b[43m_sslobj\u001b[49m\u001b[38;5;241;43m.\u001b[39;49m\u001b[43mread\u001b[49m\u001b[43m(\u001b[49m\u001b[38;5;28;43mlen\u001b[39;49m\u001b[43m,\u001b[49m\u001b[43m \u001b[49m\u001b[43mbuffer\u001b[49m\u001b[43m)\u001b[49m\n\u001b[1;32m   1130\u001b[0m     \u001b[38;5;28;01melse\u001b[39;00m:\n\u001b[1;32m   1131\u001b[0m         \u001b[38;5;28;01mreturn\u001b[39;00m \u001b[38;5;28mself\u001b[39m\u001b[38;5;241m.\u001b[39m_sslobj\u001b[38;5;241m.\u001b[39mread(\u001b[38;5;28mlen\u001b[39m)\n",
      "\u001b[0;31mKeyboardInterrupt\u001b[0m: "
     ]
    }
   ],
   "source": [
    "create_SNP_db()"
   ]
  },
  {
   "cell_type": "markdown",
   "id": "5bed5aca",
   "metadata": {},
   "source": [
    "# SNP DB select"
   ]
  },
  {
   "cell_type": "code",
   "execution_count": 77,
   "id": "db47f467",
   "metadata": {},
   "outputs": [],
   "source": [
    "connection = sqlite3.connect('./data/SNP_human.db')\n",
    "\n",
    "query = '''SELECT SNP_data.SNP_Name, SNP_data.Chr, SNP_data.Position, SNP_data.Alleles\n",
    "           FROM SNP_data\n",
    "           LEFT JOIN clin_SNP ON SNP_data.SNP_Name = clin_SNP.SNP_Name\n",
    "           WHERE clin_SNP.Clinical_Significance = 'Reported in ClinVar' AND clin_SNP.N_Publications != '0'\n",
    "'''\n",
    "\n",
    "res = connection.execute(query)\n",
    "\n",
    "result = res.fetchall()\n",
    "connection.close()"
   ]
  },
  {
   "cell_type": "code",
   "execution_count": 78,
   "id": "41f9160a",
   "metadata": {},
   "outputs": [
    {
     "data": {
      "text/plain": [
       "[('rs3690', 'chr4', '54295646 ', 'A>C/A>G/A>T'),\n",
       " ('rs3212989', 'chr19', '45408812 ', 'A>G'),\n",
       " ('rs104894343', 'chr12', '4372622 ', 'A>G'),\n",
       " ('rs28489067', 'chr4', '54267769 ', 'C>T'),\n",
       " ('rs3774332', 'chr3', '37033177 ', 'A>G'),\n",
       " ('rs1957949', 'chr14', '65075889 ', 'C>T'),\n",
       " ('rs267607108', 'chr6', '10400587 ', 'C>T'),\n",
       " ('rs121909331', 'chr9', '35064167 ', 'G>T')]"
      ]
     },
     "execution_count": 78,
     "metadata": {},
     "output_type": "execute_result"
    }
   ],
   "source": [
    "result"
   ]
  },
  {
   "cell_type": "code",
   "execution_count": 112,
   "id": "f2c81d49",
   "metadata": {},
   "outputs": [],
   "source": [
    "connection = sqlite3.connect('./data/SNP_human.db')\n",
    "\n",
    "query = '''SELECT Chr, COUNT(SNP_Name)\n",
    "           FROM SNP_data\n",
    "           GROUP BY Chr\n",
    "           HAVING COUNT(SNP_Name) BETWEEN 2 AND 20\n",
    "'''\n",
    "\n",
    "res = connection.execute(query)\n",
    "\n",
    "result = res.fetchall()\n",
    "connection.close()"
   ]
  },
  {
   "cell_type": "code",
   "execution_count": 113,
   "id": "a28ebf9f",
   "metadata": {},
   "outputs": [
    {
     "data": {
      "text/plain": [
       "[('chr10', 3),\n",
       " ('chr12', 2),\n",
       " ('chr17', 5),\n",
       " ('chr19', 3),\n",
       " ('chr4', 4),\n",
       " ('chr7', 2)]"
      ]
     },
     "execution_count": 113,
     "metadata": {},
     "output_type": "execute_result"
    }
   ],
   "source": [
    "result"
   ]
  },
  {
   "cell_type": "code",
   "execution_count": 126,
   "id": "9442cce7",
   "metadata": {},
   "outputs": [],
   "source": [
    "connection = sqlite3.connect('./data/SNP_human.db')\n",
    "\n",
    "query = '''BEGIN TRANSACTION;\n",
    "\n",
    "           DELETE FROM SNP_data\n",
    "           WHERE SNP_data.SNP_Name in (\n",
    "           SELECT SNP_Name FROM clin_SNP WHERE clin_SNP.Clinical_Significance = 'Not Reported in ClinVar');\n",
    "           \n",
    "           DELETE FROM clin_SNP\n",
    "           WHERE clin_SNP.Clinical_Significance = 'Not Reported in ClinVar'\n",
    "'''\n",
    "connection.execute(query)\n",
    "connection.commit()\n",
    "connection.close()"
   ]
  }
 ],
 "metadata": {
  "kernelspec": {
   "display_name": "Python 3 (ipykernel)",
   "language": "python",
   "name": "python3"
  },
  "language_info": {
   "codemirror_mode": {
    "name": "ipython",
    "version": 3
   },
   "file_extension": ".py",
   "mimetype": "text/x-python",
   "name": "python",
   "nbconvert_exporter": "python",
   "pygments_lexer": "ipython3",
   "version": "3.10.2"
  }
 },
 "nbformat": 4,
 "nbformat_minor": 5
}
