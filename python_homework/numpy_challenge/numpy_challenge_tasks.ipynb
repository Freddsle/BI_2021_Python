{
 "cells": [
  {
   "cell_type": "markdown",
   "id": "fe2d2a85",
   "metadata": {},
   "source": [
    "# 1\n",
    "Создайте 3 ваших любимых эррея разными способами"
   ]
  },
  {
   "cell_type": "code",
   "execution_count": null,
   "id": "c5ca4961",
   "metadata": {},
   "outputs": [],
   "source": []
  },
  {
   "cell_type": "markdown",
   "id": "31a36b18",
   "metadata": {},
   "source": [
    "# 2\n",
    "Создайте функцию matrix_multiplication, которая принимает 2 матрицы, перемножает их по соответствующим правилам и выдаёт получившуюся матрицу"
   ]
  },
  {
   "cell_type": "code",
   "execution_count": null,
   "id": "b05df1da",
   "metadata": {},
   "outputs": [],
   "source": []
  },
  {
   "cell_type": "markdown",
   "id": "5a66e7ee",
   "metadata": {},
   "source": [
    "# 3\n",
    "Создайте функцию multiplication_check, которая принимает список с матрицами, и выдаёт True, если они могут быть перемножены друг на друга в порядке, в котором они находятся в списке, и False, если их нельзя перемножить"
   ]
  },
  {
   "cell_type": "code",
   "execution_count": null,
   "id": "1dba98b6",
   "metadata": {},
   "outputs": [],
   "source": []
  },
  {
   "cell_type": "markdown",
   "id": "a10dcfd9",
   "metadata": {},
   "source": [
    "# 4\n",
    "Создайте функцию multiply_matrices, которая принимает список с матрицами, и выдаёт результат перемножения, если его можно получить, или возвращает None, если их нельзя перемножить"
   ]
  },
  {
   "cell_type": "code",
   "execution_count": null,
   "id": "4b9a969e",
   "metadata": {},
   "outputs": [],
   "source": []
  },
  {
   "cell_type": "markdown",
   "id": "df344db3",
   "metadata": {},
   "source": [
    "# 5\n",
    "Создайте функцию compute_2d_distance, принимающую 2 одномерных эррея c парой значений (как координаты точки на плоскости) и вычисляющую расстояние между ними"
   ]
  },
  {
   "cell_type": "code",
   "execution_count": null,
   "id": "a81c9b44",
   "metadata": {},
   "outputs": [],
   "source": []
  },
  {
   "cell_type": "markdown",
   "id": "c5e5e5e8",
   "metadata": {},
   "source": [
    "# 6\n",
    "Создайте функцию compute_pair_distances, которая получает 2d эррей, где каждая строка это наблюдение, а каждый столбец - фича. Функция рассчитывает матрицу попарных расстояний и выдаёт её пользователю"
   ]
  },
  {
   "cell_type": "code",
   "execution_count": null,
   "id": "9dd56f50",
   "metadata": {},
   "outputs": [],
   "source": []
  },
  {
   "cell_type": "markdown",
   "id": "b9b62eac",
   "metadata": {},
   "source": [
    "# 7\n",
    "Создайте функцию compute_multidimensional_distance, принимающую 2 одномерных эррея с любым количеством значений (но равным) и вычисляющую расстояние между ними"
   ]
  },
  {
   "cell_type": "code",
   "execution_count": null,
   "id": "aba642d7",
   "metadata": {},
   "outputs": [],
   "source": []
  }
 ],
 "metadata": {
  "kernelspec": {
   "display_name": "Python 3 (ipykernel)",
   "language": "python",
   "name": "python3"
  },
  "language_info": {
   "codemirror_mode": {
    "name": "ipython",
    "version": 3
   },
   "file_extension": ".py",
   "mimetype": "text/x-python",
   "name": "python",
   "nbconvert_exporter": "python",
   "pygments_lexer": "ipython3",
   "version": "3.8.12"
  }
 },
 "nbformat": 4,
 "nbformat_minor": 5
}
