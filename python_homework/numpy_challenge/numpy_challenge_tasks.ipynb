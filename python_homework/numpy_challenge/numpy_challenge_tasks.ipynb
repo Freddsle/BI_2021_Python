{
 "cells": [
  {
   "cell_type": "code",
   "execution_count": 293,
   "id": "c55f954e",
   "metadata": {},
   "outputs": [],
   "source": [
    "import numpy as np\n",
    "import traceback"
   ]
  },
  {
   "cell_type": "markdown",
   "id": "fe2d2a85",
   "metadata": {},
   "source": [
    "# 1\n",
    "Создайте 3 ваших любимых эррея разными способами"
   ]
  },
  {
   "cell_type": "code",
   "execution_count": 294,
   "id": "c5ca4961",
   "metadata": {},
   "outputs": [],
   "source": [
    "array_one = np.random.rand(3, 5)\n",
    "array_two = np.linspace(0, 7, 8)\n",
    "array_three = np.eye(5)"
   ]
  },
  {
   "cell_type": "markdown",
   "id": "31a36b18",
   "metadata": {},
   "source": [
    "# 2\n",
    "Создайте функцию matrix_multiplication, которая принимает 2 матрицы, перемножает их по соответствующим правилам и выдаёт получившуюся матрицу"
   ]
  },
  {
   "cell_type": "code",
   "execution_count": 295,
   "id": "b05df1da",
   "metadata": {},
   "outputs": [],
   "source": [
    "def matrix_multiplication(first_matrix, second_matrix):\n",
    "    '''\n",
    "    Multiplies two matrices.\n",
    "    '''\n",
    "\n",
    "    check_status = dimension_check(first_matrix.shape, second_matrix.shape)[0]\n",
    "\n",
    "    try:\n",
    "\n",
    "        if check_status:\n",
    "\n",
    "            if np.isscalar(first_matrix) or np.isscalar(second_matrix):\n",
    "                print('One/both matrices are O-D matrices (scalar).')\n",
    "                return np.dot(first_matrix, second_matrix)\n",
    "\n",
    "            if first_matrix.ndim == 1 and second_matrix.ndim == 1:\n",
    "                print('Both 1D matrices, return scalar.')\n",
    "                return np.dot(first_matrix, second_matrix)\n",
    "\n",
    "            if first_matrix.ndim == 2 and second_matrix.ndim == 2:\n",
    "                print('Both 2D matrices, multiplied like conventional matrices.')\n",
    "                return np.matmul(first_matrix, second_matrix)\n",
    "\n",
    "            print('Returns the dot product of matrices')\n",
    "            return np.dot(first_matrix, second_matrix)\n",
    "\n",
    "\n",
    "    except ValueError: \n",
    "        print('!!!Something wrong with arrays dimensions!!!')\n",
    "        print('More info:')\n",
    "        print(traceback.format_exc())"
   ]
  },
  {
   "cell_type": "markdown",
   "id": "5a66e7ee",
   "metadata": {},
   "source": [
    "# 3\n",
    "Создайте функцию multiplication_check, которая принимает список с матрицами, и выдаёт True, если они могут быть перемножены друг на друга в порядке, в котором они находятся в списке, и False, если их нельзя перемножить"
   ]
  },
  {
   "cell_type": "code",
   "execution_count": 296,
   "id": "1dba98b6",
   "metadata": {},
   "outputs": [],
   "source": [
    "def dimension_check(first_matrix_shape, second_matrix_shape):\n",
    "    '''\n",
    "    Checks if matrices can be multiplied by their shapes. \n",
    "    If yes, it returns the True and product shape. \n",
    "    If not - False.\n",
    "    '''\n",
    "    if len(first_matrix_shape) == 0 or len(second_matrix_shape) == 0:\n",
    "        shape_to_return = second_matrix_shape if len(first_matrix_shape) == 0 else first_matrix_shape\n",
    "        return True, shape_to_return\n",
    "\n",
    "    if len(first_matrix_shape) == 1 and len(second_matrix_shape) == 1:\n",
    "        return True, ()\n",
    "\n",
    "    if len(second_matrix_shape) == 1:\n",
    "            if first_matrix_shape[-1] == second_matrix_shape[-1]:\n",
    "                shape_to_return = (first_matrix_shape[:-1])\n",
    "                return True, shape_to_return\n",
    "\n",
    "    if first_matrix_shape[-1] == second_matrix_shape[-2]:\n",
    "        shape_to_return = (first_matrix_shape[:-1]) + (second_matrix_shape[:-2]) + tuple([second_matrix_shape[-1]])\n",
    "        return True, shape_to_return\n",
    "\n",
    "    return False, None\n",
    "\n",
    "\n",
    "def multiplication_check(matrixes_list):\n",
    "\n",
    "    list_len = len(matrixes_list)\n",
    "\n",
    "    if list_len > 1:\n",
    "\n",
    "        status_check, product = dimension_check(matrixes_list[0].shape, matrixes_list[1].shape)\n",
    "\n",
    "        for i in range(2, list_len):\n",
    "            \n",
    "            if status_check:\n",
    "                status_check, product = dimension_check(product, matrixes_list[i].shape)\n",
    "\n",
    "            else:\n",
    "                break\n",
    "\n",
    "        return status_check\n",
    "    \n",
    "    return False"
   ]
  },
  {
   "cell_type": "markdown",
   "id": "a10dcfd9",
   "metadata": {},
   "source": [
    "# 4\n",
    "Создайте функцию multiply_matrices, которая принимает список с матрицами, и выдаёт результат перемножения, если его можно получить, или возвращает None, если их нельзя перемножить"
   ]
  },
  {
   "cell_type": "code",
   "execution_count": 297,
   "id": "4b9a969e",
   "metadata": {},
   "outputs": [],
   "source": [
    "def multiply_matrices(matrices_list):\n",
    "    '''\n",
    "    Sequentially multiplies the matrices in the list. Returns the result of the multiplication.\n",
    "    If it cannot multiply, it returns None.\n",
    "    '''\n",
    "    \n",
    "    list_len = len(matrices_list)\n",
    "\n",
    "    if multiplication_check(matrices_list):        \n",
    "\n",
    "        product = matrix_multiplication(matrices_list[0], matrices_list[1])\n",
    "\n",
    "        for i in range(2, list_len):\n",
    "            \n",
    "            product = matrix_multiplication(product, matrices_list[i])\n",
    "\n",
    "        return product\n",
    "\n",
    "    else:\n",
    "        if list_len == 0:\n",
    "                    print('Matrices list contain only one matrix.')\n",
    "\n",
    "        return None"
   ]
  },
  {
   "cell_type": "markdown",
   "id": "df344db3",
   "metadata": {},
   "source": [
    "# 5\n",
    "Создайте функцию compute_2d_distance, принимающую 2 одномерных эррея c парой значений (как координаты точки на плоскости) и вычисляющую расстояние между ними"
   ]
  },
  {
   "cell_type": "code",
   "execution_count": 340,
   "id": "a81c9b44",
   "metadata": {},
   "outputs": [
    {
     "data": {
      "text/plain": [
       "(2,)"
      ]
     },
     "execution_count": 340,
     "metadata": {},
     "output_type": "execute_result"
    }
   ],
   "source": [
    "def compute_2d_distance(first_1D_array, second_1D_array):\n",
    "    '''\n",
    "    Calculates the distance between two points on the coordinate plane.\n",
    "    Points are specified by two one-dimensional numpy arrays of length 2.\n",
    "    '''\n",
    "\n",
    "    # shape check\n",
    "    if len(first_1D_array.shape) != 1 or len(second_1D_array.shape) != 1:\n",
    "        print('Not 1D arrays!')\n",
    "        return None\n",
    "\n",
    "    # len check\n",
    "    if len(first_1D_array) != 2 or len(second_1D_array) != 2:\n",
    "        print('There are not two coordinates in one or two arrays.')\n",
    "        return None\n",
    "\n",
    "    return np.sqrt((first_1D_array[0] - second_1D_array[0])**2 + (first_1D_array[1] - second_1D_array[1])**2)\n"
   ]
  },
  {
   "cell_type": "markdown",
   "id": "c5e5e5e8",
   "metadata": {},
   "source": [
    "# 6\n",
    "Создайте функцию compute_pair_distances, которая получает 2d эррей, где каждая строка это наблюдение, а каждый столбец - фича. Функция рассчитывает матрицу попарных расстояний и выдаёт её пользователю"
   ]
  },
  {
   "cell_type": "code",
   "execution_count": 381,
   "id": "8f4dd042",
   "metadata": {},
   "outputs": [
    {
     "data": {
      "text/plain": [
       "array([[0., 0., 0., 0., 0.],\n",
       "       [0., 0., 0., 0., 0.],\n",
       "       [0., 0., 0., 0., 0.],\n",
       "       [0., 0., 0., 0., 0.],\n",
       "       [0., 0., 0., 0., 0.]])"
      ]
     },
     "execution_count": 381,
     "metadata": {},
     "output_type": "execute_result"
    }
   ],
   "source": [
    "answer_matrix = np.empty((5,5))\n",
    "answer_matrix[:] = 0\n",
    "answer_matrix"
   ]
  },
  {
   "cell_type": "code",
   "execution_count": 374,
   "id": "9dd56f50",
   "metadata": {},
   "outputs": [
    {
     "name": "stdout",
     "output_type": "stream",
     "text": [
      "1\n",
      "2\n",
      "3\n",
      "4\n",
      "5\n",
      "6\n",
      "7\n",
      "8\n",
      "9\n"
     ]
    }
   ],
   "source": [
    "obs_2D_array = np.array([[1, 2, 3], [4, 5, 6], [7, 8, 9]])\n",
    "\n",
    "number_obs, number_features = obs_2D_array.shape\n",
    "\n",
    "answer_matrix = np.empty((number_obs,number_obs))\n",
    "answer_matrix[:] = np.nan\n",
    "np.fill_diagonal(answer_matrix, 0)\n",
    "\n",
    "\n",
    "for i in range(number_obs):\n",
    "    for j in range(number_obs):\n",
    "        print(obs_2D_array[i, j])\n"
   ]
  },
  {
   "cell_type": "markdown",
   "id": "b9b62eac",
   "metadata": {},
   "source": [
    "# 7\n",
    "Создайте функцию compute_multidimensional_distance, принимающую 2 одномерных эррея с любым количеством значений (но равным) и вычисляющую расстояние между ними"
   ]
  },
  {
   "cell_type": "code",
   "execution_count": 386,
   "id": "aba642d7",
   "metadata": {},
   "outputs": [
    {
     "data": {
      "text/plain": [
       "12.999999999999998"
      ]
     },
     "execution_count": 386,
     "metadata": {},
     "output_type": "execute_result"
    }
   ],
   "source": [
    "def compute_multidimensional_distance(first_N_array, second_N_array):\n",
    "    '''\n",
    "    Takes 2 one-dimensional arrays with any number of values (but equal) and calculates the distance between them.\n",
    "    '''\n",
    "\n",
    "    # shape check\n",
    "    if len(first_N_array.shape) != 1 or len(second_N_array.shape) != 1:\n",
    "        print('Not 1D arrays!')\n",
    "        return None\n",
    "\n",
    "    # len check\n",
    "    if len(first_N_array) != len(second_N_array):\n",
    "        print('Matrices of unequal length!')\n",
    "        return None\n",
    "\n",
    "    return np.linalg.norm(first_N_array - second_N_array)"
   ]
  },
  {
   "cell_type": "code",
   "execution_count": null,
   "id": "752e48f4",
   "metadata": {},
   "outputs": [],
   "source": []
  }
 ],
 "metadata": {
  "kernelspec": {
   "display_name": "Python 3 (ipykernel)",
   "language": "python",
   "name": "python3"
  },
  "language_info": {
   "codemirror_mode": {
    "name": "ipython",
    "version": 3
   },
   "file_extension": ".py",
   "mimetype": "text/x-python",
   "name": "python",
   "nbconvert_exporter": "python",
   "pygments_lexer": "ipython3",
   "version": "3.9.4"
  }
 },
 "nbformat": 4,
 "nbformat_minor": 5
}
