{
 "cells": [
  {
   "cell_type": "code",
   "execution_count": 2,
   "id": "c55f954e",
   "metadata": {},
   "outputs": [],
   "source": [
    "import numpy as np\n",
    "import traceback"
   ]
  },
  {
   "cell_type": "markdown",
   "id": "fe2d2a85",
   "metadata": {},
   "source": [
    "# 1\n",
    "Создайте 3 ваших любимых эррея разными способами"
   ]
  },
  {
   "cell_type": "code",
   "execution_count": 66,
   "id": "c5ca4961",
   "metadata": {},
   "outputs": [],
   "source": [
    "array_one = np.random.rand(3, 5)\n",
    "array_two = np.linspace(0, 7, 8)\n",
    "array_three = np.eye(5)"
   ]
  },
  {
   "cell_type": "markdown",
   "id": "31a36b18",
   "metadata": {},
   "source": [
    "# 2\n",
    "Создайте функцию matrix_multiplication, которая принимает 2 матрицы, перемножает их по соответствующим правилам и выдаёт получившуюся матрицу"
   ]
  },
  {
   "cell_type": "code",
   "execution_count": 217,
   "id": "b05df1da",
   "metadata": {},
   "outputs": [],
   "source": [
    "def matrix_multiplication(first_matrix, second_matrix):\n",
    "    '''\n",
    "    Multiplies two matrices.\n",
    "    '''\n",
    "\n",
    "    try:\n",
    "\n",
    "        if dimension_check(first_matrix, second_matrix):\n",
    "\n",
    "            if np.isscalar(first_matrix) or np.isscalar(second_matrix):\n",
    "                print('One/both matrices are O-D matrices (scalar).')\n",
    "                return np.dot(first_matrix, second_matrix)\n",
    "\n",
    "            if first_matrix.ndim == 1 and second_matrix.ndim == 1:\n",
    "                print('Both 1D matrices, return scalar.')\n",
    "                return np.dot(first_matrix, second_matrix)\n",
    "\n",
    "            if first_matrix.ndim == 2 and second_matrix.ndim == 2:\n",
    "                print('Both 2D matrices, multiplied like conventional matrices.')\n",
    "                return np.matmul(first_matrix, second_matrix)\n",
    "\n",
    "            print('Returns the dot product of matrices')\n",
    "            return np.dot(first_matrix, second_matrix)\n",
    "\n",
    "\n",
    "    except ValueError: \n",
    "        print('!!!Something wrong with arrays dimensions!!!')\n",
    "        print('More info:')\n",
    "        print(traceback.format_exc())\n"
   ]
  },
  {
   "cell_type": "markdown",
   "id": "5a66e7ee",
   "metadata": {},
   "source": [
    "# 3\n",
    "Создайте функцию multiplication_check, которая принимает список с матрицами, и выдаёт True, если они могут быть перемножены друг на друга в порядке, в котором они находятся в списке, и False, если их нельзя перемножить"
   ]
  },
  {
   "cell_type": "code",
   "execution_count": 226,
   "id": "1dba98b6",
   "metadata": {},
   "outputs": [],
   "source": [
    "def dimension_check(first_matrix, second_matrix):\n",
    "    '''\n",
    "    Checks if matrices can be multiplied. If yes, it returns the Truth. If not - False.\n",
    "    '''\n",
    "\n",
    "    if np.isscalar(first_matrix) or np.isscalar(second_matrix):\n",
    "        return True\n",
    "    \n",
    "    if first_matrix.ndim == 1 and second_matrix.ndim == 1:\n",
    "        return True\n",
    "\n",
    "    shape_first, shape_second = first_matrix.shape, second_matrix.shape\n",
    "\n",
    "    if second_matrix.ndim == 1:\n",
    "            if shape_first[-1] == shape_second[-1]:\n",
    "                return True\n",
    "\n",
    "    if shape_first[-1] == shape_second[-2]:\n",
    "        return True\n",
    "\n",
    "    return False\n",
    "\n",
    "\n"
   ]
  },
  {
   "cell_type": "code",
   "execution_count": 230,
   "id": "a478e76d",
   "metadata": {},
   "outputs": [
    {
     "name": "stdout",
     "output_type": "stream",
     "text": [
      "Returns the dot product of matrices\n"
     ]
    },
    {
     "data": {
      "text/plain": [
       "array([[17., 25., 30.],\n",
       "       [17., 25., 30.]])"
      ]
     },
     "execution_count": 230,
     "metadata": {},
     "output_type": "execute_result"
    }
   ],
   "source": [
    "a_1 = np.array([1.0, 2.0, 3.0])\n",
    "a_2 = np.array([[[2, -5, 5], [3, 6, 5], [3, 6, 5]], [[2, -5, 5], [3, 6, 5], [3, 6, 5]]])\n",
    "a_3 = np.array([[1, 3], [-2, 4]])\n",
    "b = 2\n",
    "\n",
    "matrix_multiplication(a_1, a_2)"
   ]
  },
  {
   "cell_type": "code",
   "execution_count": 242,
   "id": "28cfde9f",
   "metadata": {},
   "outputs": [
    {
     "name": "stdout",
     "output_type": "stream",
     "text": [
      "Returns the dot product of matrices\n",
      "Both 1D matrices, return scalar.\n",
      "One/both matrices are O-D matrices (scalar).\n"
     ]
    }
   ],
   "source": [
    "b = np.array(2)\n",
    "c = matrix_multiplication(matrix_multiplication(matrix_multiplication(a_1, b), a_1), b)"
   ]
  },
  {
   "cell_type": "code",
   "execution_count": 246,
   "id": "4bb4266b",
   "metadata": {},
   "outputs": [],
   "source": [
    "for i in range(2, 2):\n",
    "    print('s')"
   ]
  },
  {
   "cell_type": "code",
   "execution_count": 251,
   "id": "e2451094",
   "metadata": {},
   "outputs": [],
   "source": [
    "a_1 = np.array([1.0, 2.0, 3.0])\n",
    "a_2 = np.array([[2, -5], [3, 6]])\n",
    "a_3 = np.array([[1, 3], [-2, 4]])\n",
    "\n",
    "b = np.dtype('int32').type(2.0)\n",
    "\n",
    "a_big = np.arange(3*4*5*6).reshape((3,4,5,6))\n",
    "b_big = np.arange(3*4*5*6)[::-1].reshape((5,4,6,3))"
   ]
  },
  {
   "cell_type": "code",
   "execution_count": 273,
   "id": "d7adf9f1",
   "metadata": {},
   "outputs": [
    {
     "name": "stdout",
     "output_type": "stream",
     "text": [
      "(3, 4, 5, 6)\n",
      "(5, 4, 6, 3)\n"
     ]
    },
    {
     "ename": "ValueError",
     "evalue": "shapes (3,4,5,6) and (2,2) not aligned: 6 (dim 3) != 2 (dim 0)",
     "output_type": "error",
     "traceback": [
      "\u001b[1;31m---------------------------------------------------------------------------\u001b[0m",
      "\u001b[1;31mValueError\u001b[0m                                Traceback (most recent call last)",
      "\u001b[1;32m~\\AppData\\Local\\Temp/ipykernel_17284/3007402217.py\u001b[0m in \u001b[0;36m<module>\u001b[1;34m\u001b[0m\n\u001b[0;32m      2\u001b[0m \u001b[0mprint\u001b[0m\u001b[1;33m(\u001b[0m\u001b[0ma_big\u001b[0m\u001b[1;33m.\u001b[0m\u001b[0mshape\u001b[0m\u001b[1;33m)\u001b[0m\u001b[1;33m\u001b[0m\u001b[1;33m\u001b[0m\u001b[0m\n\u001b[0;32m      3\u001b[0m \u001b[0mprint\u001b[0m\u001b[1;33m(\u001b[0m\u001b[0mb_big\u001b[0m\u001b[1;33m.\u001b[0m\u001b[0mshape\u001b[0m\u001b[1;33m)\u001b[0m\u001b[1;33m\u001b[0m\u001b[1;33m\u001b[0m\u001b[0m\n\u001b[1;32m----> 4\u001b[1;33m \u001b[0mprint\u001b[0m\u001b[1;33m(\u001b[0m\u001b[0mnp\u001b[0m\u001b[1;33m.\u001b[0m\u001b[0mdot\u001b[0m\u001b[1;33m(\u001b[0m\u001b[0ma_big\u001b[0m\u001b[1;33m,\u001b[0m \u001b[0ma_2\u001b[0m\u001b[1;33m)\u001b[0m\u001b[1;33m.\u001b[0m\u001b[0mshape\u001b[0m\u001b[1;33m)\u001b[0m\u001b[1;33m\u001b[0m\u001b[1;33m\u001b[0m\u001b[0m\n\u001b[0m",
      "\u001b[1;32m<__array_function__ internals>\u001b[0m in \u001b[0;36mdot\u001b[1;34m(*args, **kwargs)\u001b[0m\n",
      "\u001b[1;31mValueError\u001b[0m: shapes (3,4,5,6) and (2,2) not aligned: 6 (dim 3) != 2 (dim 0)"
     ]
    }
   ],
   "source": [
    "a_5 = np.array([[1.0, 2.0, 3.0, 1.0, 2.0, 3.0], [1.0, 2.0, 3.0, 1.0, 2.0, 3.0]])\n",
    "print(a_big.shape)\n",
    "print(a_5.shape)\n",
    "print(np.dot(a_big, a_5).shape)"
   ]
  },
  {
   "cell_type": "code",
   "execution_count": 268,
   "id": "aef9aa29",
   "metadata": {},
   "outputs": [
    {
     "data": {
      "text/plain": [
       "(1, 3, 4)"
      ]
     },
     "execution_count": 268,
     "metadata": {},
     "output_type": "execute_result"
    }
   ],
   "source": [
    "tp = (1 ,3, 4, 5)\n",
    "tp[:-1]"
   ]
  },
  {
   "cell_type": "markdown",
   "id": "a10dcfd9",
   "metadata": {},
   "source": [
    "# 4\n",
    "Создайте функцию multiply_matrices, которая принимает список с матрицами, и выдаёт результат перемножения, если его можно получить, или возвращает None, если их нельзя перемножить"
   ]
  },
  {
   "cell_type": "code",
   "execution_count": null,
   "id": "4b9a969e",
   "metadata": {},
   "outputs": [],
   "source": []
  },
  {
   "cell_type": "markdown",
   "id": "df344db3",
   "metadata": {},
   "source": [
    "# 5\n",
    "Создайте функцию compute_2d_distance, принимающую 2 одномерных эррея c парой значений (как координаты точки на плоскости) и вычисляющую расстояние между ними"
   ]
  },
  {
   "cell_type": "code",
   "execution_count": null,
   "id": "a81c9b44",
   "metadata": {},
   "outputs": [],
   "source": []
  },
  {
   "cell_type": "markdown",
   "id": "c5e5e5e8",
   "metadata": {},
   "source": [
    "# 6\n",
    "Создайте функцию compute_pair_distances, которая получает 2d эррей, где каждая строка это наблюдение, а каждый столбец - фича. Функция рассчитывает матрицу попарных расстояний и выдаёт её пользователю"
   ]
  },
  {
   "cell_type": "code",
   "execution_count": null,
   "id": "9dd56f50",
   "metadata": {},
   "outputs": [],
   "source": []
  },
  {
   "cell_type": "markdown",
   "id": "b9b62eac",
   "metadata": {},
   "source": [
    "# 7\n",
    "Создайте функцию compute_multidimensional_distance, принимающую 2 одномерных эррея с любым количеством значений (но равным) и вычисляющую расстояние между ними"
   ]
  },
  {
   "cell_type": "code",
   "execution_count": null,
   "id": "aba642d7",
   "metadata": {},
   "outputs": [],
   "source": []
  }
 ],
 "metadata": {
  "kernelspec": {
   "display_name": "Python 3 (ipykernel)",
   "language": "python",
   "name": "python3"
  },
  "language_info": {
   "codemirror_mode": {
    "name": "ipython",
    "version": 3
   },
   "file_extension": ".py",
   "mimetype": "text/x-python",
   "name": "python",
   "nbconvert_exporter": "python",
   "pygments_lexer": "ipython3",
   "version": "3.9.4"
  }
 },
 "nbformat": 4,
 "nbformat_minor": 5
}
