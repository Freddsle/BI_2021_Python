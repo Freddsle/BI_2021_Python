{
 "cells": [
  {
   "cell_type": "code",
   "execution_count": 126,
   "id": "c6d0a612",
   "metadata": {},
   "outputs": [],
   "source": [
    "import pandas as pd\n",
    "import matplotlib.pyplot as plt\n",
    "import re"
   ]
  },
  {
   "cell_type": "markdown",
   "id": "5fe98570",
   "metadata": {},
   "source": [
    "# Task 1. Plot hists."
   ]
  },
  {
   "cell_type": "markdown",
   "id": "2838c764",
   "metadata": {},
   "source": [
    "df contains information about the number of reads with each of the 4 nucleotides at different positions (columns A, T, G, C). Plot a histogram of the distribution of these numbers."
   ]
  },
  {
   "cell_type": "code",
   "execution_count": 75,
   "id": "26a4a095",
   "metadata": {},
   "outputs": [],
   "source": [
    "url = \"https://raw.githubusercontent.com/Serfentum/bf_course/master/14.pandas/train.csv\"\n",
    "df = pd.read_csv(url)"
   ]
  },
  {
   "cell_type": "code",
   "execution_count": 76,
   "id": "c9c56553",
   "metadata": {},
   "outputs": [
    {
     "data": {
      "text/html": [
       "<div>\n",
       "<style scoped>\n",
       "    .dataframe tbody tr th:only-of-type {\n",
       "        vertical-align: middle;\n",
       "    }\n",
       "\n",
       "    .dataframe tbody tr th {\n",
       "        vertical-align: top;\n",
       "    }\n",
       "\n",
       "    .dataframe thead th {\n",
       "        text-align: right;\n",
       "    }\n",
       "</style>\n",
       "<table border=\"1\" class=\"dataframe\">\n",
       "  <thead>\n",
       "    <tr style=\"text-align: right;\">\n",
       "      <th></th>\n",
       "      <th>pos</th>\n",
       "      <th>reads_all</th>\n",
       "      <th>matches</th>\n",
       "      <th>mismatches</th>\n",
       "      <th>deletions</th>\n",
       "      <th>insertions</th>\n",
       "      <th>A</th>\n",
       "      <th>C</th>\n",
       "      <th>T</th>\n",
       "      <th>G</th>\n",
       "      <th>A_fraction</th>\n",
       "      <th>T_fraction</th>\n",
       "      <th>G_fraction</th>\n",
       "      <th>C_fraction</th>\n",
       "    </tr>\n",
       "  </thead>\n",
       "  <tbody>\n",
       "    <tr>\n",
       "      <th>0</th>\n",
       "      <td>279</td>\n",
       "      <td>8045</td>\n",
       "      <td>32</td>\n",
       "      <td>7972</td>\n",
       "      <td>46</td>\n",
       "      <td>8</td>\n",
       "      <td>7911.0</td>\n",
       "      <td>54.0</td>\n",
       "      <td>11.0</td>\n",
       "      <td>NaN</td>\n",
       "      <td>0.983503</td>\n",
       "      <td>0.000815</td>\n",
       "      <td>NaN</td>\n",
       "      <td>0.006896</td>\n",
       "    </tr>\n",
       "    <tr>\n",
       "      <th>1</th>\n",
       "      <td>280</td>\n",
       "      <td>8045</td>\n",
       "      <td>7995</td>\n",
       "      <td>48</td>\n",
       "      <td>19</td>\n",
       "      <td>9</td>\n",
       "      <td>NaN</td>\n",
       "      <td>16.0</td>\n",
       "      <td>13.0</td>\n",
       "      <td>19.0</td>\n",
       "      <td>NaN</td>\n",
       "      <td>0.001355</td>\n",
       "      <td>0.002392</td>\n",
       "      <td>0.001914</td>\n",
       "    </tr>\n",
       "    <tr>\n",
       "      <th>2</th>\n",
       "      <td>281</td>\n",
       "      <td>8045</td>\n",
       "      <td>7983</td>\n",
       "      <td>50</td>\n",
       "      <td>16</td>\n",
       "      <td>5</td>\n",
       "      <td>NaN</td>\n",
       "      <td>24.0</td>\n",
       "      <td>4.0</td>\n",
       "      <td>24.0</td>\n",
       "      <td>NaN</td>\n",
       "      <td>0.000639</td>\n",
       "      <td>0.002875</td>\n",
       "      <td>0.002310</td>\n",
       "    </tr>\n",
       "    <tr>\n",
       "      <th>3</th>\n",
       "      <td>282</td>\n",
       "      <td>8049</td>\n",
       "      <td>7510</td>\n",
       "      <td>505</td>\n",
       "      <td>33</td>\n",
       "      <td>65</td>\n",
       "      <td>105.0</td>\n",
       "      <td>11.0</td>\n",
       "      <td>395.0</td>\n",
       "      <td>NaN</td>\n",
       "      <td>0.012750</td>\n",
       "      <td>0.049096</td>\n",
       "      <td>NaN</td>\n",
       "      <td>0.000919</td>\n",
       "    </tr>\n",
       "    <tr>\n",
       "      <th>4</th>\n",
       "      <td>283</td>\n",
       "      <td>8042</td>\n",
       "      <td>7786</td>\n",
       "      <td>155</td>\n",
       "      <td>115</td>\n",
       "      <td>62</td>\n",
       "      <td>46.0</td>\n",
       "      <td>NaN</td>\n",
       "      <td>93.0</td>\n",
       "      <td>31.0</td>\n",
       "      <td>0.004960</td>\n",
       "      <td>0.010992</td>\n",
       "      <td>0.003186</td>\n",
       "      <td>NaN</td>\n",
       "    </tr>\n",
       "    <tr>\n",
       "      <th>...</th>\n",
       "      <td>...</td>\n",
       "      <td>...</td>\n",
       "      <td>...</td>\n",
       "      <td>...</td>\n",
       "      <td>...</td>\n",
       "      <td>...</td>\n",
       "      <td>...</td>\n",
       "      <td>...</td>\n",
       "      <td>...</td>\n",
       "      <td>...</td>\n",
       "      <td>...</td>\n",
       "      <td>...</td>\n",
       "      <td>...</td>\n",
       "      <td>...</td>\n",
       "    </tr>\n",
       "    <tr>\n",
       "      <th>58</th>\n",
       "      <td>337</td>\n",
       "      <td>8056</td>\n",
       "      <td>7542</td>\n",
       "      <td>471</td>\n",
       "      <td>58</td>\n",
       "      <td>7</td>\n",
       "      <td>NaN</td>\n",
       "      <td>63.0</td>\n",
       "      <td>47.0</td>\n",
       "      <td>367.0</td>\n",
       "      <td>NaN</td>\n",
       "      <td>0.004584</td>\n",
       "      <td>0.045444</td>\n",
       "      <td>0.007767</td>\n",
       "    </tr>\n",
       "    <tr>\n",
       "      <th>59</th>\n",
       "      <td>338</td>\n",
       "      <td>8061</td>\n",
       "      <td>7967</td>\n",
       "      <td>62</td>\n",
       "      <td>29</td>\n",
       "      <td>5</td>\n",
       "      <td>17.0</td>\n",
       "      <td>NaN</td>\n",
       "      <td>26.0</td>\n",
       "      <td>33.0</td>\n",
       "      <td>0.001060</td>\n",
       "      <td>0.002207</td>\n",
       "      <td>0.003992</td>\n",
       "      <td>NaN</td>\n",
       "    </tr>\n",
       "    <tr>\n",
       "      <th>60</th>\n",
       "      <td>339</td>\n",
       "      <td>8062</td>\n",
       "      <td>8002</td>\n",
       "      <td>48</td>\n",
       "      <td>14</td>\n",
       "      <td>3</td>\n",
       "      <td>14.0</td>\n",
       "      <td>14.0</td>\n",
       "      <td>33.0</td>\n",
       "      <td>NaN</td>\n",
       "      <td>0.001076</td>\n",
       "      <td>0.002953</td>\n",
       "      <td>NaN</td>\n",
       "      <td>0.001322</td>\n",
       "    </tr>\n",
       "    <tr>\n",
       "      <th>61</th>\n",
       "      <td>340</td>\n",
       "      <td>8061</td>\n",
       "      <td>7918</td>\n",
       "      <td>146</td>\n",
       "      <td>16</td>\n",
       "      <td>4</td>\n",
       "      <td>NaN</td>\n",
       "      <td>75.0</td>\n",
       "      <td>43.0</td>\n",
       "      <td>33.0</td>\n",
       "      <td>NaN</td>\n",
       "      <td>0.005307</td>\n",
       "      <td>0.002951</td>\n",
       "      <td>0.008808</td>\n",
       "    </tr>\n",
       "    <tr>\n",
       "      <th>62</th>\n",
       "      <td>341</td>\n",
       "      <td>8059</td>\n",
       "      <td>7869</td>\n",
       "      <td>192</td>\n",
       "      <td>2</td>\n",
       "      <td>4</td>\n",
       "      <td>NaN</td>\n",
       "      <td>134.0</td>\n",
       "      <td>37.0</td>\n",
       "      <td>17.0</td>\n",
       "      <td>NaN</td>\n",
       "      <td>0.004250</td>\n",
       "      <td>0.002243</td>\n",
       "      <td>0.016619</td>\n",
       "    </tr>\n",
       "  </tbody>\n",
       "</table>\n",
       "<p>63 rows × 14 columns</p>\n",
       "</div>"
      ],
      "text/plain": [
       "    pos  reads_all  matches  mismatches  deletions  insertions       A      C  \\\n",
       "0   279       8045       32        7972         46           8  7911.0   54.0   \n",
       "1   280       8045     7995          48         19           9     NaN   16.0   \n",
       "2   281       8045     7983          50         16           5     NaN   24.0   \n",
       "3   282       8049     7510         505         33          65   105.0   11.0   \n",
       "4   283       8042     7786         155        115          62    46.0    NaN   \n",
       "..  ...        ...      ...         ...        ...         ...     ...    ...   \n",
       "58  337       8056     7542         471         58           7     NaN   63.0   \n",
       "59  338       8061     7967          62         29           5    17.0    NaN   \n",
       "60  339       8062     8002          48         14           3    14.0   14.0   \n",
       "61  340       8061     7918         146         16           4     NaN   75.0   \n",
       "62  341       8059     7869         192          2           4     NaN  134.0   \n",
       "\n",
       "        T      G  A_fraction  T_fraction  G_fraction  C_fraction  \n",
       "0    11.0    NaN    0.983503    0.000815         NaN    0.006896  \n",
       "1    13.0   19.0         NaN    0.001355    0.002392    0.001914  \n",
       "2     4.0   24.0         NaN    0.000639    0.002875    0.002310  \n",
       "3   395.0    NaN    0.012750    0.049096         NaN    0.000919  \n",
       "4    93.0   31.0    0.004960    0.010992    0.003186         NaN  \n",
       "..    ...    ...         ...         ...         ...         ...  \n",
       "58   47.0  367.0         NaN    0.004584    0.045444    0.007767  \n",
       "59   26.0   33.0    0.001060    0.002207    0.003992         NaN  \n",
       "60   33.0    NaN    0.001076    0.002953         NaN    0.001322  \n",
       "61   43.0   33.0         NaN    0.005307    0.002951    0.008808  \n",
       "62   37.0   17.0         NaN    0.004250    0.002243    0.016619  \n",
       "\n",
       "[63 rows x 14 columns]"
      ]
     },
     "execution_count": 76,
     "metadata": {},
     "output_type": "execute_result"
    }
   ],
   "source": [
    "df"
   ]
  },
  {
   "cell_type": "code",
   "execution_count": 77,
   "id": "ddbfbf10",
   "metadata": {},
   "outputs": [
    {
     "data": {
      "image/png": "[encoded data removed]",
      "text/plain": [
       "<Figure size 1080x720 with 1 Axes>"
      ]
     },
     "metadata": {
      "needs_background": "light"
     },
     "output_type": "display_data"
    }
   ],
   "source": [
    "plt.rcParams['figure.figsize'] = 15, 10\n",
    "df[['pos', 'A', 'T', 'C', 'G']].groupby('pos').sum().plot.bar(stacked=True, \n",
    "                                                              ylabel = 'Reads number', \n",
    "                                                              xlabel = 'Position')\n",
    "\n",
    "plt.savefig('./data/task_1_hist.png')"
   ]
  },
  {
   "cell_type": "markdown",
   "id": "85704a20",
   "metadata": {},
   "source": [
    "# Task 2. Select data.\n",
    "\n",
    "\n",
    "Write to the file `train_part.csv` some parts of the `train.csv` (from prev task):\n",
    "1. Strings where matches bigger than mean;\n",
    "2. Cols 'pos', 'reads_all', 'mismatches', 'deletions', 'insertions'"
   ]
  },
  {
   "cell_type": "code",
   "execution_count": 78,
   "id": "e2a54f77",
   "metadata": {},
   "outputs": [],
   "source": [
    "df_selected = df[df['matches'] > df['matches'].mean()][['pos', 'reads_all', 'mismatches', 'deletions', 'insertions']]\n",
    "\n",
    "df_selected.to_csv(\"./data/train_part.csv\")"
   ]
  },
  {
   "cell_type": "markdown",
   "id": "82ff3e71",
   "metadata": {},
   "source": [
    "# Task 3. Small EDA \n",
    "\n",
    "\n",
    "Data - https://www.kaggle.com/yasserh/wine-quality-dataset.\n",
    "\n",
    "Проведите Explorative Data Analysis какого-нибудь датасета (прошу, только не Титаник). Нужны корреляции, графики распределений"
   ]
  },
  {
   "cell_type": "code",
   "execution_count": 65,
   "id": "5fe16607",
   "metadata": {},
   "outputs": [],
   "source": [
    "vine = pd.read_csv('./data/WineQT.csv')\n",
    "vine = vine.drop('Id', axis=1)"
   ]
  },
  {
   "cell_type": "code",
   "execution_count": 66,
   "id": "09769d9b",
   "metadata": {},
   "outputs": [
    {
     "data": {
      "text/html": [
       "<div>\n",
       "<style scoped>\n",
       "    .dataframe tbody tr th:only-of-type {\n",
       "        vertical-align: middle;\n",
       "    }\n",
       "\n",
       "    .dataframe tbody tr th {\n",
       "        vertical-align: top;\n",
       "    }\n",
       "\n",
       "    .dataframe thead th {\n",
       "        text-align: right;\n",
       "    }\n",
       "</style>\n",
       "<table border=\"1\" class=\"dataframe\">\n",
       "  <thead>\n",
       "    <tr style=\"text-align: right;\">\n",
       "      <th></th>\n",
       "      <th>fixed acidity</th>\n",
       "      <th>volatile acidity</th>\n",
       "      <th>citric acid</th>\n",
       "      <th>residual sugar</th>\n",
       "      <th>chlorides</th>\n",
       "      <th>free sulfur dioxide</th>\n",
       "      <th>total sulfur dioxide</th>\n",
       "      <th>density</th>\n",
       "      <th>pH</th>\n",
       "      <th>sulphates</th>\n",
       "      <th>alcohol</th>\n",
       "      <th>quality</th>\n",
       "    </tr>\n",
       "  </thead>\n",
       "  <tbody>\n",
       "    <tr>\n",
       "      <th>0</th>\n",
       "      <td>7.4</td>\n",
       "      <td>0.700</td>\n",
       "      <td>0.00</td>\n",
       "      <td>1.9</td>\n",
       "      <td>0.076</td>\n",
       "      <td>11.0</td>\n",
       "      <td>34.0</td>\n",
       "      <td>0.99780</td>\n",
       "      <td>3.51</td>\n",
       "      <td>0.56</td>\n",
       "      <td>9.4</td>\n",
       "      <td>5</td>\n",
       "    </tr>\n",
       "    <tr>\n",
       "      <th>1</th>\n",
       "      <td>7.8</td>\n",
       "      <td>0.880</td>\n",
       "      <td>0.00</td>\n",
       "      <td>2.6</td>\n",
       "      <td>0.098</td>\n",
       "      <td>25.0</td>\n",
       "      <td>67.0</td>\n",
       "      <td>0.99680</td>\n",
       "      <td>3.20</td>\n",
       "      <td>0.68</td>\n",
       "      <td>9.8</td>\n",
       "      <td>5</td>\n",
       "    </tr>\n",
       "    <tr>\n",
       "      <th>2</th>\n",
       "      <td>7.8</td>\n",
       "      <td>0.760</td>\n",
       "      <td>0.04</td>\n",
       "      <td>2.3</td>\n",
       "      <td>0.092</td>\n",
       "      <td>15.0</td>\n",
       "      <td>54.0</td>\n",
       "      <td>0.99700</td>\n",
       "      <td>3.26</td>\n",
       "      <td>0.65</td>\n",
       "      <td>9.8</td>\n",
       "      <td>5</td>\n",
       "    </tr>\n",
       "    <tr>\n",
       "      <th>3</th>\n",
       "      <td>11.2</td>\n",
       "      <td>0.280</td>\n",
       "      <td>0.56</td>\n",
       "      <td>1.9</td>\n",
       "      <td>0.075</td>\n",
       "      <td>17.0</td>\n",
       "      <td>60.0</td>\n",
       "      <td>0.99800</td>\n",
       "      <td>3.16</td>\n",
       "      <td>0.58</td>\n",
       "      <td>9.8</td>\n",
       "      <td>6</td>\n",
       "    </tr>\n",
       "    <tr>\n",
       "      <th>4</th>\n",
       "      <td>7.4</td>\n",
       "      <td>0.700</td>\n",
       "      <td>0.00</td>\n",
       "      <td>1.9</td>\n",
       "      <td>0.076</td>\n",
       "      <td>11.0</td>\n",
       "      <td>34.0</td>\n",
       "      <td>0.99780</td>\n",
       "      <td>3.51</td>\n",
       "      <td>0.56</td>\n",
       "      <td>9.4</td>\n",
       "      <td>5</td>\n",
       "    </tr>\n",
       "    <tr>\n",
       "      <th>...</th>\n",
       "      <td>...</td>\n",
       "      <td>...</td>\n",
       "      <td>...</td>\n",
       "      <td>...</td>\n",
       "      <td>...</td>\n",
       "      <td>...</td>\n",
       "      <td>...</td>\n",
       "      <td>...</td>\n",
       "      <td>...</td>\n",
       "      <td>...</td>\n",
       "      <td>...</td>\n",
       "      <td>...</td>\n",
       "    </tr>\n",
       "    <tr>\n",
       "      <th>1138</th>\n",
       "      <td>6.3</td>\n",
       "      <td>0.510</td>\n",
       "      <td>0.13</td>\n",
       "      <td>2.3</td>\n",
       "      <td>0.076</td>\n",
       "      <td>29.0</td>\n",
       "      <td>40.0</td>\n",
       "      <td>0.99574</td>\n",
       "      <td>3.42</td>\n",
       "      <td>0.75</td>\n",
       "      <td>11.0</td>\n",
       "      <td>6</td>\n",
       "    </tr>\n",
       "    <tr>\n",
       "      <th>1139</th>\n",
       "      <td>6.8</td>\n",
       "      <td>0.620</td>\n",
       "      <td>0.08</td>\n",
       "      <td>1.9</td>\n",
       "      <td>0.068</td>\n",
       "      <td>28.0</td>\n",
       "      <td>38.0</td>\n",
       "      <td>0.99651</td>\n",
       "      <td>3.42</td>\n",
       "      <td>0.82</td>\n",
       "      <td>9.5</td>\n",
       "      <td>6</td>\n",
       "    </tr>\n",
       "    <tr>\n",
       "      <th>1140</th>\n",
       "      <td>6.2</td>\n",
       "      <td>0.600</td>\n",
       "      <td>0.08</td>\n",
       "      <td>2.0</td>\n",
       "      <td>0.090</td>\n",
       "      <td>32.0</td>\n",
       "      <td>44.0</td>\n",
       "      <td>0.99490</td>\n",
       "      <td>3.45</td>\n",
       "      <td>0.58</td>\n",
       "      <td>10.5</td>\n",
       "      <td>5</td>\n",
       "    </tr>\n",
       "    <tr>\n",
       "      <th>1141</th>\n",
       "      <td>5.9</td>\n",
       "      <td>0.550</td>\n",
       "      <td>0.10</td>\n",
       "      <td>2.2</td>\n",
       "      <td>0.062</td>\n",
       "      <td>39.0</td>\n",
       "      <td>51.0</td>\n",
       "      <td>0.99512</td>\n",
       "      <td>3.52</td>\n",
       "      <td>0.76</td>\n",
       "      <td>11.2</td>\n",
       "      <td>6</td>\n",
       "    </tr>\n",
       "    <tr>\n",
       "      <th>1142</th>\n",
       "      <td>5.9</td>\n",
       "      <td>0.645</td>\n",
       "      <td>0.12</td>\n",
       "      <td>2.0</td>\n",
       "      <td>0.075</td>\n",
       "      <td>32.0</td>\n",
       "      <td>44.0</td>\n",
       "      <td>0.99547</td>\n",
       "      <td>3.57</td>\n",
       "      <td>0.71</td>\n",
       "      <td>10.2</td>\n",
       "      <td>5</td>\n",
       "    </tr>\n",
       "  </tbody>\n",
       "</table>\n",
       "<p>1143 rows × 12 columns</p>\n",
       "</div>"
      ],
      "text/plain": [
       "      fixed acidity  volatile acidity  citric acid  residual sugar  chlorides  \\\n",
       "0               7.4             0.700         0.00             1.9      0.076   \n",
       "1               7.8             0.880         0.00             2.6      0.098   \n",
       "2               7.8             0.760         0.04             2.3      0.092   \n",
       "3              11.2             0.280         0.56             1.9      0.075   \n",
       "4               7.4             0.700         0.00             1.9      0.076   \n",
       "...             ...               ...          ...             ...        ...   \n",
       "1138            6.3             0.510         0.13             2.3      0.076   \n",
       "1139            6.8             0.620         0.08             1.9      0.068   \n",
       "1140            6.2             0.600         0.08             2.0      0.090   \n",
       "1141            5.9             0.550         0.10             2.2      0.062   \n",
       "1142            5.9             0.645         0.12             2.0      0.075   \n",
       "\n",
       "      free sulfur dioxide  total sulfur dioxide  density    pH  sulphates  \\\n",
       "0                    11.0                  34.0  0.99780  3.51       0.56   \n",
       "1                    25.0                  67.0  0.99680  3.20       0.68   \n",
       "2                    15.0                  54.0  0.99700  3.26       0.65   \n",
       "3                    17.0                  60.0  0.99800  3.16       0.58   \n",
       "4                    11.0                  34.0  0.99780  3.51       0.56   \n",
       "...                   ...                   ...      ...   ...        ...   \n",
       "1138                 29.0                  40.0  0.99574  3.42       0.75   \n",
       "1139                 28.0                  38.0  0.99651  3.42       0.82   \n",
       "1140                 32.0                  44.0  0.99490  3.45       0.58   \n",
       "1141                 39.0                  51.0  0.99512  3.52       0.76   \n",
       "1142                 32.0                  44.0  0.99547  3.57       0.71   \n",
       "\n",
       "      alcohol  quality  \n",
       "0         9.4        5  \n",
       "1         9.8        5  \n",
       "2         9.8        5  \n",
       "3         9.8        6  \n",
       "4         9.4        5  \n",
       "...       ...      ...  \n",
       "1138     11.0        6  \n",
       "1139      9.5        6  \n",
       "1140     10.5        5  \n",
       "1141     11.2        6  \n",
       "1142     10.2        5  \n",
       "\n",
       "[1143 rows x 12 columns]"
      ]
     },
     "execution_count": 66,
     "metadata": {},
     "output_type": "execute_result"
    }
   ],
   "source": [
    "vine"
   ]
  },
  {
   "cell_type": "code",
   "execution_count": 67,
   "id": "2a9d573f",
   "metadata": {},
   "outputs": [
    {
     "name": "stdout",
     "output_type": "stream",
     "text": [
      "<class 'pandas.core.frame.DataFrame'>\n",
      "RangeIndex: 1143 entries, 0 to 1142\n",
      "Data columns (total 12 columns):\n",
      " #   Column                Non-Null Count  Dtype  \n",
      "---  ------                --------------  -----  \n",
      " 0   fixed acidity         1143 non-null   float64\n",
      " 1   volatile acidity      1143 non-null   float64\n",
      " 2   citric acid           1143 non-null   float64\n",
      " 3   residual sugar        1143 non-null   float64\n",
      " 4   chlorides             1143 non-null   float64\n",
      " 5   free sulfur dioxide   1143 non-null   float64\n",
      " 6   total sulfur dioxide  1143 non-null   float64\n",
      " 7   density               1143 non-null   float64\n",
      " 8   pH                    1143 non-null   float64\n",
      " 9   sulphates             1143 non-null   float64\n",
      " 10  alcohol               1143 non-null   float64\n",
      " 11  quality               1143 non-null   int64  \n",
      "dtypes: float64(11), int64(1)\n",
      "memory usage: 107.3 KB\n"
     ]
    }
   ],
   "source": [
    "vine.info()"
   ]
  },
  {
   "cell_type": "code",
   "execution_count": 68,
   "id": "7b625345",
   "metadata": {},
   "outputs": [
    {
     "data": {
      "text/plain": [
       "fixed acidity           0\n",
       "volatile acidity        0\n",
       "citric acid             0\n",
       "residual sugar          0\n",
       "chlorides               0\n",
       "free sulfur dioxide     0\n",
       "total sulfur dioxide    0\n",
       "density                 0\n",
       "pH                      0\n",
       "sulphates               0\n",
       "alcohol                 0\n",
       "quality                 0\n",
       "dtype: int64"
      ]
     },
     "execution_count": 68,
     "metadata": {},
     "output_type": "execute_result"
    }
   ],
   "source": [
    "vine.isnull().sum()"
   ]
  },
  {
   "cell_type": "code",
   "execution_count": 69,
   "id": "76dbffc9",
   "metadata": {},
   "outputs": [
    {
     "data": {
      "text/html": [
       "<div>\n",
       "<style scoped>\n",
       "    .dataframe tbody tr th:only-of-type {\n",
       "        vertical-align: middle;\n",
       "    }\n",
       "\n",
       "    .dataframe tbody tr th {\n",
       "        vertical-align: top;\n",
       "    }\n",
       "\n",
       "    .dataframe thead th {\n",
       "        text-align: right;\n",
       "    }\n",
       "</style>\n",
       "<table border=\"1\" class=\"dataframe\">\n",
       "  <thead>\n",
       "    <tr style=\"text-align: right;\">\n",
       "      <th></th>\n",
       "      <th>fixed acidity</th>\n",
       "      <th>volatile acidity</th>\n",
       "      <th>citric acid</th>\n",
       "      <th>residual sugar</th>\n",
       "      <th>chlorides</th>\n",
       "      <th>free sulfur dioxide</th>\n",
       "      <th>total sulfur dioxide</th>\n",
       "      <th>density</th>\n",
       "      <th>pH</th>\n",
       "      <th>sulphates</th>\n",
       "      <th>alcohol</th>\n",
       "      <th>quality</th>\n",
       "    </tr>\n",
       "  </thead>\n",
       "  <tbody>\n",
       "    <tr>\n",
       "      <th>count</th>\n",
       "      <td>1143.000000</td>\n",
       "      <td>1143.000000</td>\n",
       "      <td>1143.000000</td>\n",
       "      <td>1143.000000</td>\n",
       "      <td>1143.000000</td>\n",
       "      <td>1143.000000</td>\n",
       "      <td>1143.000000</td>\n",
       "      <td>1143.000000</td>\n",
       "      <td>1143.000000</td>\n",
       "      <td>1143.000000</td>\n",
       "      <td>1143.000000</td>\n",
       "      <td>1143.000000</td>\n",
       "    </tr>\n",
       "    <tr>\n",
       "      <th>mean</th>\n",
       "      <td>8.311111</td>\n",
       "      <td>0.531339</td>\n",
       "      <td>0.268364</td>\n",
       "      <td>2.532152</td>\n",
       "      <td>0.086933</td>\n",
       "      <td>15.615486</td>\n",
       "      <td>45.914698</td>\n",
       "      <td>0.996730</td>\n",
       "      <td>3.311015</td>\n",
       "      <td>0.657708</td>\n",
       "      <td>10.442111</td>\n",
       "      <td>5.657043</td>\n",
       "    </tr>\n",
       "    <tr>\n",
       "      <th>std</th>\n",
       "      <td>1.747595</td>\n",
       "      <td>0.179633</td>\n",
       "      <td>0.196686</td>\n",
       "      <td>1.355917</td>\n",
       "      <td>0.047267</td>\n",
       "      <td>10.250486</td>\n",
       "      <td>32.782130</td>\n",
       "      <td>0.001925</td>\n",
       "      <td>0.156664</td>\n",
       "      <td>0.170399</td>\n",
       "      <td>1.082196</td>\n",
       "      <td>0.805824</td>\n",
       "    </tr>\n",
       "    <tr>\n",
       "      <th>min</th>\n",
       "      <td>4.600000</td>\n",
       "      <td>0.120000</td>\n",
       "      <td>0.000000</td>\n",
       "      <td>0.900000</td>\n",
       "      <td>0.012000</td>\n",
       "      <td>1.000000</td>\n",
       "      <td>6.000000</td>\n",
       "      <td>0.990070</td>\n",
       "      <td>2.740000</td>\n",
       "      <td>0.330000</td>\n",
       "      <td>8.400000</td>\n",
       "      <td>3.000000</td>\n",
       "    </tr>\n",
       "    <tr>\n",
       "      <th>25%</th>\n",
       "      <td>7.100000</td>\n",
       "      <td>0.392500</td>\n",
       "      <td>0.090000</td>\n",
       "      <td>1.900000</td>\n",
       "      <td>0.070000</td>\n",
       "      <td>7.000000</td>\n",
       "      <td>21.000000</td>\n",
       "      <td>0.995570</td>\n",
       "      <td>3.205000</td>\n",
       "      <td>0.550000</td>\n",
       "      <td>9.500000</td>\n",
       "      <td>5.000000</td>\n",
       "    </tr>\n",
       "    <tr>\n",
       "      <th>50%</th>\n",
       "      <td>7.900000</td>\n",
       "      <td>0.520000</td>\n",
       "      <td>0.250000</td>\n",
       "      <td>2.200000</td>\n",
       "      <td>0.079000</td>\n",
       "      <td>13.000000</td>\n",
       "      <td>37.000000</td>\n",
       "      <td>0.996680</td>\n",
       "      <td>3.310000</td>\n",
       "      <td>0.620000</td>\n",
       "      <td>10.200000</td>\n",
       "      <td>6.000000</td>\n",
       "    </tr>\n",
       "    <tr>\n",
       "      <th>75%</th>\n",
       "      <td>9.100000</td>\n",
       "      <td>0.640000</td>\n",
       "      <td>0.420000</td>\n",
       "      <td>2.600000</td>\n",
       "      <td>0.090000</td>\n",
       "      <td>21.000000</td>\n",
       "      <td>61.000000</td>\n",
       "      <td>0.997845</td>\n",
       "      <td>3.400000</td>\n",
       "      <td>0.730000</td>\n",
       "      <td>11.100000</td>\n",
       "      <td>6.000000</td>\n",
       "    </tr>\n",
       "    <tr>\n",
       "      <th>max</th>\n",
       "      <td>15.900000</td>\n",
       "      <td>1.580000</td>\n",
       "      <td>1.000000</td>\n",
       "      <td>15.500000</td>\n",
       "      <td>0.611000</td>\n",
       "      <td>68.000000</td>\n",
       "      <td>289.000000</td>\n",
       "      <td>1.003690</td>\n",
       "      <td>4.010000</td>\n",
       "      <td>2.000000</td>\n",
       "      <td>14.900000</td>\n",
       "      <td>8.000000</td>\n",
       "    </tr>\n",
       "  </tbody>\n",
       "</table>\n",
       "</div>"
      ],
      "text/plain": [
       "       fixed acidity  volatile acidity  citric acid  residual sugar  \\\n",
       "count    1143.000000       1143.000000  1143.000000     1143.000000   \n",
       "mean        8.311111          0.531339     0.268364        2.532152   \n",
       "std         1.747595          0.179633     0.196686        1.355917   \n",
       "min         4.600000          0.120000     0.000000        0.900000   \n",
       "25%         7.100000          0.392500     0.090000        1.900000   \n",
       "50%         7.900000          0.520000     0.250000        2.200000   \n",
       "75%         9.100000          0.640000     0.420000        2.600000   \n",
       "max        15.900000          1.580000     1.000000       15.500000   \n",
       "\n",
       "         chlorides  free sulfur dioxide  total sulfur dioxide      density  \\\n",
       "count  1143.000000          1143.000000           1143.000000  1143.000000   \n",
       "mean      0.086933            15.615486             45.914698     0.996730   \n",
       "std       0.047267            10.250486             32.782130     0.001925   \n",
       "min       0.012000             1.000000              6.000000     0.990070   \n",
       "25%       0.070000             7.000000             21.000000     0.995570   \n",
       "50%       0.079000            13.000000             37.000000     0.996680   \n",
       "75%       0.090000            21.000000             61.000000     0.997845   \n",
       "max       0.611000            68.000000            289.000000     1.003690   \n",
       "\n",
       "                pH    sulphates      alcohol      quality  \n",
       "count  1143.000000  1143.000000  1143.000000  1143.000000  \n",
       "mean      3.311015     0.657708    10.442111     5.657043  \n",
       "std       0.156664     0.170399     1.082196     0.805824  \n",
       "min       2.740000     0.330000     8.400000     3.000000  \n",
       "25%       3.205000     0.550000     9.500000     5.000000  \n",
       "50%       3.310000     0.620000    10.200000     6.000000  \n",
       "75%       3.400000     0.730000    11.100000     6.000000  \n",
       "max       4.010000     2.000000    14.900000     8.000000  "
      ]
     },
     "execution_count": 69,
     "metadata": {},
     "output_type": "execute_result"
    }
   ],
   "source": [
    "vine.describe()"
   ]
  },
  {
   "cell_type": "code",
   "execution_count": 70,
   "id": "b21a8f1e",
   "metadata": {},
   "outputs": [
    {
     "data": {
      "image/png": "[encoded data removed]",
      "text/plain": [
       "<Figure size 720x720 with 1 Axes>"
      ]
     },
     "metadata": {
      "needs_background": "light"
     },
     "output_type": "display_data"
    }
   ],
   "source": [
    "plt.matshow(vine.corr())\n",
    "plt.show()"
   ]
  },
  {
   "cell_type": "code",
   "execution_count": 71,
   "id": "fc71934c",
   "metadata": {
    "scrolled": false
   },
   "outputs": [
    {
     "data": {
      "text/html": [
       "<style type=\"text/css\">\n",
       "#T_d872f_row0_col0, #T_d872f_row1_col1, #T_d872f_row2_col2, #T_d872f_row3_col3, #T_d872f_row4_col4, #T_d872f_row5_col5, #T_d872f_row6_col6, #T_d872f_row7_col7, #T_d872f_row8_col8, #T_d872f_row9_col9, #T_d872f_row10_col10, #T_d872f_row11_col11 {\n",
       "  background-color: #00441b;\n",
       "  color: #f1f1f1;\n",
       "}\n",
       "#T_d872f_row0_col1, #T_d872f_row2_col6 {\n",
       "  background-color: #9568a6;\n",
       "  color: #f1f1f1;\n",
       "}\n",
       "#T_d872f_row0_col2, #T_d872f_row0_col7 {\n",
       "  background-color: #63b368;\n",
       "  color: #f1f1f1;\n",
       "}\n",
       "#T_d872f_row0_col3, #T_d872f_row1_col4 {\n",
       "  background-color: #b18fc0;\n",
       "  color: #f1f1f1;\n",
       "}\n",
       "#T_d872f_row0_col4 {\n",
       "  background-color: #c3a6cf;\n",
       "  color: #000000;\n",
       "}\n",
       "#T_d872f_row0_col5, #T_d872f_row0_col8, #T_d872f_row1_col2, #T_d872f_row1_col9, #T_d872f_row1_col11, #T_d872f_row2_col1, #T_d872f_row7_col10, #T_d872f_row8_col0, #T_d872f_row8_col2, #T_d872f_row8_col3, #T_d872f_row8_col4, #T_d872f_row10_col6, #T_d872f_row10_col7 {\n",
       "  background-color: #40004b;\n",
       "  color: #f1f1f1;\n",
       "}\n",
       "#T_d872f_row0_col6 {\n",
       "  background-color: #621a6e;\n",
       "  color: #f1f1f1;\n",
       "}\n",
       "#T_d872f_row0_col9 {\n",
       "  background-color: #d6bedc;\n",
       "  color: #000000;\n",
       "}\n",
       "#T_d872f_row0_col10 {\n",
       "  background-color: #b99ac7;\n",
       "  color: #f1f1f1;\n",
       "}\n",
       "#T_d872f_row0_col11, #T_d872f_row6_col2, #T_d872f_row11_col8 {\n",
       "  background-color: #dec9e2;\n",
       "  color: #000000;\n",
       "}\n",
       "#T_d872f_row1_col0, #T_d872f_row6_col4 {\n",
       "  background-color: #b08dbf;\n",
       "  color: #f1f1f1;\n",
       "}\n",
       "#T_d872f_row1_col3, #T_d872f_row10_col5 {\n",
       "  background-color: #752982;\n",
       "  color: #f1f1f1;\n",
       "}\n",
       "#T_d872f_row1_col5 {\n",
       "  background-color: #834492;\n",
       "  color: #f1f1f1;\n",
       "}\n",
       "#T_d872f_row1_col6 {\n",
       "  background-color: #a37cb3;\n",
       "  color: #f1f1f1;\n",
       "}\n",
       "#T_d872f_row1_col7, #T_d872f_row6_col0 {\n",
       "  background-color: #d1b8d9;\n",
       "  color: #000000;\n",
       "}\n",
       "#T_d872f_row1_col8 {\n",
       "  background-color: #ecf4ea;\n",
       "  color: #000000;\n",
       "}\n",
       "#T_d872f_row1_col10 {\n",
       "  background-color: #966ba8;\n",
       "  color: #f1f1f1;\n",
       "}\n",
       "#T_d872f_row2_col0 {\n",
       "  background-color: #55aa5e;\n",
       "  color: #f1f1f1;\n",
       "}\n",
       "#T_d872f_row2_col3 {\n",
       "  background-color: #b391c2;\n",
       "  color: #f1f1f1;\n",
       "}\n",
       "#T_d872f_row2_col4 {\n",
       "  background-color: #e8d7e9;\n",
       "  color: #000000;\n",
       "}\n",
       "#T_d872f_row2_col5 {\n",
       "  background-color: #71267e;\n",
       "  color: #f1f1f1;\n",
       "}\n",
       "#T_d872f_row2_col7 {\n",
       "  background-color: #dff1da;\n",
       "  color: #000000;\n",
       "}\n",
       "#T_d872f_row2_col8 {\n",
       "  background-color: #6c2379;\n",
       "  color: #f1f1f1;\n",
       "}\n",
       "#T_d872f_row2_col9 {\n",
       "  background-color: #f3eef3;\n",
       "  color: #000000;\n",
       "}\n",
       "#T_d872f_row2_col10 {\n",
       "  background-color: #e7d4e8;\n",
       "  color: #000000;\n",
       "}\n",
       "#T_d872f_row2_col11 {\n",
       "  background-color: #f0e9f1;\n",
       "  color: #000000;\n",
       "}\n",
       "#T_d872f_row3_col0, #T_d872f_row4_col9, #T_d872f_row9_col0, #T_d872f_row9_col4, #T_d872f_row11_col2 {\n",
       "  background-color: #f4f6f3;\n",
       "  color: #000000;\n",
       "}\n",
       "#T_d872f_row3_col1, #T_d872f_row5_col1 {\n",
       "  background-color: #d4bcdb;\n",
       "  color: #000000;\n",
       "}\n",
       "#T_d872f_row3_col2 {\n",
       "  background-color: #f2ebf2;\n",
       "  color: #000000;\n",
       "}\n",
       "#T_d872f_row3_col4 {\n",
       "  background-color: #b695c4;\n",
       "  color: #f1f1f1;\n",
       "}\n",
       "#T_d872f_row3_col5 {\n",
       "  background-color: #bb9cc9;\n",
       "  color: #f1f1f1;\n",
       "}\n",
       "#T_d872f_row3_col6 {\n",
       "  background-color: #c9add3;\n",
       "  color: #000000;\n",
       "}\n",
       "#T_d872f_row3_col7 {\n",
       "  background-color: #def1d9;\n",
       "  color: #000000;\n",
       "}\n",
       "#T_d872f_row3_col8 {\n",
       "  background-color: #d0b7d8;\n",
       "  color: #000000;\n",
       "}\n",
       "#T_d872f_row3_col9, #T_d872f_row5_col4 {\n",
       "  background-color: #a47fb5;\n",
       "  color: #f1f1f1;\n",
       "}\n",
       "#T_d872f_row3_col10 {\n",
       "  background-color: #dbc5e0;\n",
       "  color: #000000;\n",
       "}\n",
       "#T_d872f_row3_col11 {\n",
       "  background-color: #c4a8d0;\n",
       "  color: #000000;\n",
       "}\n",
       "#T_d872f_row4_col0, #T_d872f_row4_col7, #T_d872f_row9_col11 {\n",
       "  background-color: #f2edf3;\n",
       "  color: #000000;\n",
       "}\n",
       "#T_d872f_row4_col1 {\n",
       "  background-color: #e3cee5;\n",
       "  color: #000000;\n",
       "}\n",
       "#T_d872f_row4_col2 {\n",
       "  background-color: #f3f6f2;\n",
       "  color: #000000;\n",
       "}\n",
       "#T_d872f_row4_col3, #T_d872f_row9_col5 {\n",
       "  background-color: #8e5a9e;\n",
       "  color: #f1f1f1;\n",
       "}\n",
       "#T_d872f_row4_col5 {\n",
       "  background-color: #894f98;\n",
       "  color: #f1f1f1;\n",
       "}\n",
       "#T_d872f_row4_col6, #T_d872f_row7_col8 {\n",
       "  background-color: #986da9;\n",
       "  color: #f1f1f1;\n",
       "}\n",
       "#T_d872f_row4_col8 {\n",
       "  background-color: #a985b9;\n",
       "  color: #f1f1f1;\n",
       "}\n",
       "#T_d872f_row4_col10 {\n",
       "  background-color: #9160a2;\n",
       "  color: #f1f1f1;\n",
       "}\n",
       "#T_d872f_row4_col11, #T_d872f_row7_col6 {\n",
       "  background-color: #9970ab;\n",
       "  color: #f1f1f1;\n",
       "}\n",
       "#T_d872f_row5_col0 {\n",
       "  background-color: #c6aad1;\n",
       "  color: #000000;\n",
       "}\n",
       "#T_d872f_row5_col2 {\n",
       "  background-color: #c7abd2;\n",
       "  color: #000000;\n",
       "}\n",
       "#T_d872f_row5_col3, #T_d872f_row8_col11 {\n",
       "  background-color: #ae8bbd;\n",
       "  color: #f1f1f1;\n",
       "}\n",
       "#T_d872f_row5_col6 {\n",
       "  background-color: #9cd597;\n",
       "  color: #000000;\n",
       "}\n",
       "#T_d872f_row5_col7, #T_d872f_row9_col8 {\n",
       "  background-color: #c0a2cd;\n",
       "  color: #000000;\n",
       "}\n",
       "#T_d872f_row5_col8 {\n",
       "  background-color: #efe6f0;\n",
       "  color: #000000;\n",
       "}\n",
       "#T_d872f_row5_col9, #T_d872f_row5_col11 {\n",
       "  background-color: #ab87bb;\n",
       "  color: #f1f1f1;\n",
       "}\n",
       "#T_d872f_row5_col10 {\n",
       "  background-color: #c1a4ce;\n",
       "  color: #000000;\n",
       "}\n",
       "#T_d872f_row6_col1 {\n",
       "  background-color: #e8d5e9;\n",
       "  color: #000000;\n",
       "}\n",
       "#T_d872f_row6_col3 {\n",
       "  background-color: #b897c6;\n",
       "  color: #f1f1f1;\n",
       "}\n",
       "#T_d872f_row6_col5 {\n",
       "  background-color: #9fd79a;\n",
       "  color: #000000;\n",
       "}\n",
       "#T_d872f_row6_col7 {\n",
       "  background-color: #dac3df;\n",
       "  color: #000000;\n",
       "}\n",
       "#T_d872f_row6_col8 {\n",
       "  background-color: #ddc7e1;\n",
       "  color: #000000;\n",
       "}\n",
       "#T_d872f_row6_col9 {\n",
       "  background-color: #a783b8;\n",
       "  color: #f1f1f1;\n",
       "}\n",
       "#T_d872f_row6_col10, #T_d872f_row8_col5 {\n",
       "  background-color: #9b72ac;\n",
       "  color: #f1f1f1;\n",
       "}\n",
       "#T_d872f_row6_col11, #T_d872f_row10_col3 {\n",
       "  background-color: #8a529a;\n",
       "  color: #f1f1f1;\n",
       "}\n",
       "#T_d872f_row7_col0 {\n",
       "  background-color: #53a85c;\n",
       "  color: #f1f1f1;\n",
       "}\n",
       "#T_d872f_row7_col1, #T_d872f_row10_col0 {\n",
       "  background-color: #d8c2de;\n",
       "  color: #000000;\n",
       "}\n",
       "#T_d872f_row7_col2 {\n",
       "  background-color: #daf0d4;\n",
       "  color: #000000;\n",
       "}\n",
       "#T_d872f_row7_col3 {\n",
       "  background-color: #eee3ee;\n",
       "  color: #000000;\n",
       "}\n",
       "#T_d872f_row7_col4 {\n",
       "  background-color: #e0cbe3;\n",
       "  color: #000000;\n",
       "}\n",
       "#T_d872f_row7_col5, #T_d872f_row8_col7 {\n",
       "  background-color: #732880;\n",
       "  color: #f1f1f1;\n",
       "}\n",
       "#T_d872f_row7_col9 {\n",
       "  background-color: #cdb3d6;\n",
       "  color: #000000;\n",
       "}\n",
       "#T_d872f_row7_col11 {\n",
       "  background-color: #8d579d;\n",
       "  color: #f1f1f1;\n",
       "}\n",
       "#T_d872f_row8_col1 {\n",
       "  background-color: #f6f5f6;\n",
       "  color: #000000;\n",
       "}\n",
       "#T_d872f_row8_col6 {\n",
       "  background-color: #782e85;\n",
       "  color: #f1f1f1;\n",
       "}\n",
       "#T_d872f_row8_col9 {\n",
       "  background-color: #661e73;\n",
       "  color: #f1f1f1;\n",
       "}\n",
       "#T_d872f_row8_col10 {\n",
       "  background-color: #f4f1f4;\n",
       "  color: #000000;\n",
       "}\n",
       "#T_d872f_row9_col1 {\n",
       "  background-color: #8f5da0;\n",
       "  color: #f1f1f1;\n",
       "}\n",
       "#T_d872f_row9_col2 {\n",
       "  background-color: #e2f2de;\n",
       "  color: #000000;\n",
       "}\n",
       "#T_d872f_row9_col3, #T_d872f_row11_col4 {\n",
       "  background-color: #7c368a;\n",
       "  color: #f1f1f1;\n",
       "}\n",
       "#T_d872f_row9_col6 {\n",
       "  background-color: #9262a3;\n",
       "  color: #f1f1f1;\n",
       "}\n",
       "#T_d872f_row9_col7 {\n",
       "  background-color: #ebdeec;\n",
       "  color: #000000;\n",
       "}\n",
       "#T_d872f_row9_col10 {\n",
       "  background-color: #e4d0e6;\n",
       "  color: #000000;\n",
       "}\n",
       "#T_d872f_row10_col1 {\n",
       "  background-color: #a17ab2;\n",
       "  color: #f1f1f1;\n",
       "}\n",
       "#T_d872f_row10_col2 {\n",
       "  background-color: #ebdcec;\n",
       "  color: #000000;\n",
       "}\n",
       "#T_d872f_row10_col4 {\n",
       "  background-color: #530f5f;\n",
       "  color: #f1f1f1;\n",
       "}\n",
       "#T_d872f_row10_col8 {\n",
       "  background-color: #ebf4e8;\n",
       "  color: #000000;\n",
       "}\n",
       "#T_d872f_row10_col9 {\n",
       "  background-color: #bea0cb;\n",
       "  color: #f1f1f1;\n",
       "}\n",
       "#T_d872f_row10_col11 {\n",
       "  background-color: #c7e9c1;\n",
       "  color: #000000;\n",
       "}\n",
       "#T_d872f_row11_col0 {\n",
       "  background-color: #f4eff4;\n",
       "  color: #000000;\n",
       "}\n",
       "#T_d872f_row11_col1, #T_d872f_row11_col5 {\n",
       "  background-color: #6f247b;\n",
       "  color: #f1f1f1;\n",
       "}\n",
       "#T_d872f_row11_col3 {\n",
       "  background-color: #7e398c;\n",
       "  color: #f1f1f1;\n",
       "}\n",
       "#T_d872f_row11_col6 {\n",
       "  background-color: #42024d;\n",
       "  color: #f1f1f1;\n",
       "}\n",
       "#T_d872f_row11_col7 {\n",
       "  background-color: #9e76af;\n",
       "  color: #f1f1f1;\n",
       "}\n",
       "#T_d872f_row11_col9 {\n",
       "  background-color: #eadbeb;\n",
       "  color: #000000;\n",
       "}\n",
       "#T_d872f_row11_col10 {\n",
       "  background-color: #bde4b7;\n",
       "  color: #000000;\n",
       "}\n",
       "</style>\n",
       "<table id=\"T_d872f\">\n",
       "  <thead>\n",
       "    <tr>\n",
       "      <th class=\"blank level0\" >&nbsp;</th>\n",
       "      <th id=\"T_d872f_level0_col0\" class=\"col_heading level0 col0\" >fixed acidity</th>\n",
       "      <th id=\"T_d872f_level0_col1\" class=\"col_heading level0 col1\" >volatile acidity</th>\n",
       "      <th id=\"T_d872f_level0_col2\" class=\"col_heading level0 col2\" >citric acid</th>\n",
       "      <th id=\"T_d872f_level0_col3\" class=\"col_heading level0 col3\" >residual sugar</th>\n",
       "      <th id=\"T_d872f_level0_col4\" class=\"col_heading level0 col4\" >chlorides</th>\n",
       "      <th id=\"T_d872f_level0_col5\" class=\"col_heading level0 col5\" >free sulfur dioxide</th>\n",
       "      <th id=\"T_d872f_level0_col6\" class=\"col_heading level0 col6\" >total sulfur dioxide</th>\n",
       "      <th id=\"T_d872f_level0_col7\" class=\"col_heading level0 col7\" >density</th>\n",
       "      <th id=\"T_d872f_level0_col8\" class=\"col_heading level0 col8\" >pH</th>\n",
       "      <th id=\"T_d872f_level0_col9\" class=\"col_heading level0 col9\" >sulphates</th>\n",
       "      <th id=\"T_d872f_level0_col10\" class=\"col_heading level0 col10\" >alcohol</th>\n",
       "      <th id=\"T_d872f_level0_col11\" class=\"col_heading level0 col11\" >quality</th>\n",
       "    </tr>\n",
       "  </thead>\n",
       "  <tbody>\n",
       "    <tr>\n",
       "      <th id=\"T_d872f_level0_row0\" class=\"row_heading level0 row0\" >fixed acidity</th>\n",
       "      <td id=\"T_d872f_row0_col0\" class=\"data row0 col0\" >1.000000</td>\n",
       "      <td id=\"T_d872f_row0_col1\" class=\"data row0 col1\" >-0.250728</td>\n",
       "      <td id=\"T_d872f_row0_col2\" class=\"data row0 col2\" >0.673157</td>\n",
       "      <td id=\"T_d872f_row0_col3\" class=\"data row0 col3\" >0.171831</td>\n",
       "      <td id=\"T_d872f_row0_col4\" class=\"data row0 col4\" >0.107889</td>\n",
       "      <td id=\"T_d872f_row0_col5\" class=\"data row0 col5\" >-0.164831</td>\n",
       "      <td id=\"T_d872f_row0_col6\" class=\"data row0 col6\" >-0.110628</td>\n",
       "      <td id=\"T_d872f_row0_col7\" class=\"data row0 col7\" >0.681501</td>\n",
       "      <td id=\"T_d872f_row0_col8\" class=\"data row0 col8\" >-0.685163</td>\n",
       "      <td id=\"T_d872f_row0_col9\" class=\"data row0 col9\" >0.174592</td>\n",
       "      <td id=\"T_d872f_row0_col10\" class=\"data row0 col10\" >-0.075055</td>\n",
       "      <td id=\"T_d872f_row0_col11\" class=\"data row0 col11\" >0.121970</td>\n",
       "    </tr>\n",
       "    <tr>\n",
       "      <th id=\"T_d872f_level0_row1\" class=\"row_heading level0 row1\" >volatile acidity</th>\n",
       "      <td id=\"T_d872f_row1_col0\" class=\"data row1 col0\" >-0.250728</td>\n",
       "      <td id=\"T_d872f_row1_col1\" class=\"data row1 col1\" >1.000000</td>\n",
       "      <td id=\"T_d872f_row1_col2\" class=\"data row1 col2\" >-0.544187</td>\n",
       "      <td id=\"T_d872f_row1_col3\" class=\"data row1 col3\" >-0.005751</td>\n",
       "      <td id=\"T_d872f_row1_col4\" class=\"data row1 col4\" >0.056336</td>\n",
       "      <td id=\"T_d872f_row1_col5\" class=\"data row1 col5\" >-0.001962</td>\n",
       "      <td id=\"T_d872f_row1_col6\" class=\"data row1 col6\" >0.077748</td>\n",
       "      <td id=\"T_d872f_row1_col7\" class=\"data row1 col7\" >0.016512</td>\n",
       "      <td id=\"T_d872f_row1_col8\" class=\"data row1 col8\" >0.221492</td>\n",
       "      <td id=\"T_d872f_row1_col9\" class=\"data row1 col9\" >-0.276079</td>\n",
       "      <td id=\"T_d872f_row1_col10\" class=\"data row1 col10\" >-0.203909</td>\n",
       "      <td id=\"T_d872f_row1_col11\" class=\"data row1 col11\" >-0.407394</td>\n",
       "    </tr>\n",
       "    <tr>\n",
       "      <th id=\"T_d872f_level0_row2\" class=\"row_heading level0 row2\" >citric acid</th>\n",
       "      <td id=\"T_d872f_row2_col0\" class=\"data row2 col0\" >0.673157</td>\n",
       "      <td id=\"T_d872f_row2_col1\" class=\"data row2 col1\" >-0.544187</td>\n",
       "      <td id=\"T_d872f_row2_col2\" class=\"data row2 col2\" >1.000000</td>\n",
       "      <td id=\"T_d872f_row2_col3\" class=\"data row2 col3\" >0.175815</td>\n",
       "      <td id=\"T_d872f_row2_col4\" class=\"data row2 col4\" >0.245312</td>\n",
       "      <td id=\"T_d872f_row2_col5\" class=\"data row2 col5\" >-0.057589</td>\n",
       "      <td id=\"T_d872f_row2_col6\" class=\"data row2 col6\" >0.036871</td>\n",
       "      <td id=\"T_d872f_row2_col7\" class=\"data row2 col7\" >0.375243</td>\n",
       "      <td id=\"T_d872f_row2_col8\" class=\"data row2 col8\" >-0.546339</td>\n",
       "      <td id=\"T_d872f_row2_col9\" class=\"data row2 col9\" >0.331232</td>\n",
       "      <td id=\"T_d872f_row2_col10\" class=\"data row2 col10\" >0.106250</td>\n",
       "      <td id=\"T_d872f_row2_col11\" class=\"data row2 col11\" >0.240821</td>\n",
       "    </tr>\n",
       "    <tr>\n",
       "      <th id=\"T_d872f_level0_row3\" class=\"row_heading level0 row3\" >residual sugar</th>\n",
       "      <td id=\"T_d872f_row3_col0\" class=\"data row3 col0\" >0.171831</td>\n",
       "      <td id=\"T_d872f_row3_col1\" class=\"data row3 col1\" >-0.005751</td>\n",
       "      <td id=\"T_d872f_row3_col2\" class=\"data row3 col2\" >0.175815</td>\n",
       "      <td id=\"T_d872f_row3_col3\" class=\"data row3 col3\" >1.000000</td>\n",
       "      <td id=\"T_d872f_row3_col4\" class=\"data row3 col4\" >0.070863</td>\n",
       "      <td id=\"T_d872f_row3_col5\" class=\"data row3 col5\" >0.165339</td>\n",
       "      <td id=\"T_d872f_row3_col6\" class=\"data row3 col6\" >0.190790</td>\n",
       "      <td id=\"T_d872f_row3_col7\" class=\"data row3 col7\" >0.380147</td>\n",
       "      <td id=\"T_d872f_row3_col8\" class=\"data row3 col8\" >-0.116959</td>\n",
       "      <td id=\"T_d872f_row3_col9\" class=\"data row3 col9\" >0.017475</td>\n",
       "      <td id=\"T_d872f_row3_col10\" class=\"data row3 col10\" >0.058421</td>\n",
       "      <td id=\"T_d872f_row3_col11\" class=\"data row3 col11\" >0.022002</td>\n",
       "    </tr>\n",
       "    <tr>\n",
       "      <th id=\"T_d872f_level0_row4\" class=\"row_heading level0 row4\" >chlorides</th>\n",
       "      <td id=\"T_d872f_row4_col0\" class=\"data row4 col0\" >0.107889</td>\n",
       "      <td id=\"T_d872f_row4_col1\" class=\"data row4 col1\" >0.056336</td>\n",
       "      <td id=\"T_d872f_row4_col2\" class=\"data row4 col2\" >0.245312</td>\n",
       "      <td id=\"T_d872f_row4_col3\" class=\"data row4 col3\" >0.070863</td>\n",
       "      <td id=\"T_d872f_row4_col4\" class=\"data row4 col4\" >1.000000</td>\n",
       "      <td id=\"T_d872f_row4_col5\" class=\"data row4 col5\" >0.015280</td>\n",
       "      <td id=\"T_d872f_row4_col6\" class=\"data row4 col6\" >0.048163</td>\n",
       "      <td id=\"T_d872f_row4_col7\" class=\"data row4 col7\" >0.208901</td>\n",
       "      <td id=\"T_d872f_row4_col8\" class=\"data row4 col8\" >-0.277759</td>\n",
       "      <td id=\"T_d872f_row4_col9\" class=\"data row4 col9\" >0.374784</td>\n",
       "      <td id=\"T_d872f_row4_col10\" class=\"data row4 col10\" >-0.229917</td>\n",
       "      <td id=\"T_d872f_row4_col11\" class=\"data row4 col11\" >-0.124085</td>\n",
       "    </tr>\n",
       "    <tr>\n",
       "      <th id=\"T_d872f_level0_row5\" class=\"row_heading level0 row5\" >free sulfur dioxide</th>\n",
       "      <td id=\"T_d872f_row5_col0\" class=\"data row5 col0\" >-0.164831</td>\n",
       "      <td id=\"T_d872f_row5_col1\" class=\"data row5 col1\" >-0.001962</td>\n",
       "      <td id=\"T_d872f_row5_col2\" class=\"data row5 col2\" >-0.057589</td>\n",
       "      <td id=\"T_d872f_row5_col3\" class=\"data row5 col3\" >0.165339</td>\n",
       "      <td id=\"T_d872f_row5_col4\" class=\"data row5 col4\" >0.015280</td>\n",
       "      <td id=\"T_d872f_row5_col5\" class=\"data row5 col5\" >1.000000</td>\n",
       "      <td id=\"T_d872f_row5_col6\" class=\"data row5 col6\" >0.661093</td>\n",
       "      <td id=\"T_d872f_row5_col7\" class=\"data row5 col7\" >-0.054150</td>\n",
       "      <td id=\"T_d872f_row5_col8\" class=\"data row5 col8\" >0.072804</td>\n",
       "      <td id=\"T_d872f_row5_col9\" class=\"data row5 col9\" >0.034445</td>\n",
       "      <td id=\"T_d872f_row5_col10\" class=\"data row5 col10\" >-0.047095</td>\n",
       "      <td id=\"T_d872f_row5_col11\" class=\"data row5 col11\" >-0.063260</td>\n",
       "    </tr>\n",
       "    <tr>\n",
       "      <th id=\"T_d872f_level0_row6\" class=\"row_heading level0 row6\" >total sulfur dioxide</th>\n",
       "      <td id=\"T_d872f_row6_col0\" class=\"data row6 col0\" >-0.110628</td>\n",
       "      <td id=\"T_d872f_row6_col1\" class=\"data row6 col1\" >0.077748</td>\n",
       "      <td id=\"T_d872f_row6_col2\" class=\"data row6 col2\" >0.036871</td>\n",
       "      <td id=\"T_d872f_row6_col3\" class=\"data row6 col3\" >0.190790</td>\n",
       "      <td id=\"T_d872f_row6_col4\" class=\"data row6 col4\" >0.048163</td>\n",
       "      <td id=\"T_d872f_row6_col5\" class=\"data row6 col5\" >0.661093</td>\n",
       "      <td id=\"T_d872f_row6_col6\" class=\"data row6 col6\" >1.000000</td>\n",
       "      <td id=\"T_d872f_row6_col7\" class=\"data row6 col7\" >0.050175</td>\n",
       "      <td id=\"T_d872f_row6_col8\" class=\"data row6 col8\" >-0.059126</td>\n",
       "      <td id=\"T_d872f_row6_col9\" class=\"data row6 col9\" >0.026894</td>\n",
       "      <td id=\"T_d872f_row6_col10\" class=\"data row6 col10\" >-0.188165</td>\n",
       "      <td id=\"T_d872f_row6_col11\" class=\"data row6 col11\" >-0.183339</td>\n",
       "    </tr>\n",
       "    <tr>\n",
       "      <th id=\"T_d872f_level0_row7\" class=\"row_heading level0 row7\" >density</th>\n",
       "      <td id=\"T_d872f_row7_col0\" class=\"data row7 col0\" >0.681501</td>\n",
       "      <td id=\"T_d872f_row7_col1\" class=\"data row7 col1\" >0.016512</td>\n",
       "      <td id=\"T_d872f_row7_col2\" class=\"data row7 col2\" >0.375243</td>\n",
       "      <td id=\"T_d872f_row7_col3\" class=\"data row7 col3\" >0.380147</td>\n",
       "      <td id=\"T_d872f_row7_col4\" class=\"data row7 col4\" >0.208901</td>\n",
       "      <td id=\"T_d872f_row7_col5\" class=\"data row7 col5\" >-0.054150</td>\n",
       "      <td id=\"T_d872f_row7_col6\" class=\"data row7 col6\" >0.050175</td>\n",
       "      <td id=\"T_d872f_row7_col7\" class=\"data row7 col7\" >1.000000</td>\n",
       "      <td id=\"T_d872f_row7_col8\" class=\"data row7 col8\" >-0.352775</td>\n",
       "      <td id=\"T_d872f_row7_col9\" class=\"data row7 col9\" >0.143139</td>\n",
       "      <td id=\"T_d872f_row7_col10\" class=\"data row7 col10\" >-0.494727</td>\n",
       "      <td id=\"T_d872f_row7_col11\" class=\"data row7 col11\" >-0.175208</td>\n",
       "    </tr>\n",
       "    <tr>\n",
       "      <th id=\"T_d872f_level0_row8\" class=\"row_heading level0 row8\" >pH</th>\n",
       "      <td id=\"T_d872f_row8_col0\" class=\"data row8 col0\" >-0.685163</td>\n",
       "      <td id=\"T_d872f_row8_col1\" class=\"data row8 col1\" >0.221492</td>\n",
       "      <td id=\"T_d872f_row8_col2\" class=\"data row8 col2\" >-0.546339</td>\n",
       "      <td id=\"T_d872f_row8_col3\" class=\"data row8 col3\" >-0.116959</td>\n",
       "      <td id=\"T_d872f_row8_col4\" class=\"data row8 col4\" >-0.277759</td>\n",
       "      <td id=\"T_d872f_row8_col5\" class=\"data row8 col5\" >0.072804</td>\n",
       "      <td id=\"T_d872f_row8_col6\" class=\"data row8 col6\" >-0.059126</td>\n",
       "      <td id=\"T_d872f_row8_col7\" class=\"data row8 col7\" >-0.352775</td>\n",
       "      <td id=\"T_d872f_row8_col8\" class=\"data row8 col8\" >1.000000</td>\n",
       "      <td id=\"T_d872f_row8_col9\" class=\"data row8 col9\" >-0.185499</td>\n",
       "      <td id=\"T_d872f_row8_col10\" class=\"data row8 col10\" >0.225322</td>\n",
       "      <td id=\"T_d872f_row8_col11\" class=\"data row8 col11\" >-0.052453</td>\n",
       "    </tr>\n",
       "    <tr>\n",
       "      <th id=\"T_d872f_level0_row9\" class=\"row_heading level0 row9\" >sulphates</th>\n",
       "      <td id=\"T_d872f_row9_col0\" class=\"data row9 col0\" >0.174592</td>\n",
       "      <td id=\"T_d872f_row9_col1\" class=\"data row9 col1\" >-0.276079</td>\n",
       "      <td id=\"T_d872f_row9_col2\" class=\"data row9 col2\" >0.331232</td>\n",
       "      <td id=\"T_d872f_row9_col3\" class=\"data row9 col3\" >0.017475</td>\n",
       "      <td id=\"T_d872f_row9_col4\" class=\"data row9 col4\" >0.374784</td>\n",
       "      <td id=\"T_d872f_row9_col5\" class=\"data row9 col5\" >0.034445</td>\n",
       "      <td id=\"T_d872f_row9_col6\" class=\"data row9 col6\" >0.026894</td>\n",
       "      <td id=\"T_d872f_row9_col7\" class=\"data row9 col7\" >0.143139</td>\n",
       "      <td id=\"T_d872f_row9_col8\" class=\"data row9 col8\" >-0.185499</td>\n",
       "      <td id=\"T_d872f_row9_col9\" class=\"data row9 col9\" >1.000000</td>\n",
       "      <td id=\"T_d872f_row9_col10\" class=\"data row9 col10\" >0.094421</td>\n",
       "      <td id=\"T_d872f_row9_col11\" class=\"data row9 col11\" >0.257710</td>\n",
       "    </tr>\n",
       "    <tr>\n",
       "      <th id=\"T_d872f_level0_row10\" class=\"row_heading level0 row10\" >alcohol</th>\n",
       "      <td id=\"T_d872f_row10_col0\" class=\"data row10 col0\" >-0.075055</td>\n",
       "      <td id=\"T_d872f_row10_col1\" class=\"data row10 col1\" >-0.203909</td>\n",
       "      <td id=\"T_d872f_row10_col2\" class=\"data row10 col2\" >0.106250</td>\n",
       "      <td id=\"T_d872f_row10_col3\" class=\"data row10 col3\" >0.058421</td>\n",
       "      <td id=\"T_d872f_row10_col4\" class=\"data row10 col4\" >-0.229917</td>\n",
       "      <td id=\"T_d872f_row10_col5\" class=\"data row10 col5\" >-0.047095</td>\n",
       "      <td id=\"T_d872f_row10_col6\" class=\"data row10 col6\" >-0.188165</td>\n",
       "      <td id=\"T_d872f_row10_col7\" class=\"data row10 col7\" >-0.494727</td>\n",
       "      <td id=\"T_d872f_row10_col8\" class=\"data row10 col8\" >0.225322</td>\n",
       "      <td id=\"T_d872f_row10_col9\" class=\"data row10 col9\" >0.094421</td>\n",
       "      <td id=\"T_d872f_row10_col10\" class=\"data row10 col10\" >1.000000</td>\n",
       "      <td id=\"T_d872f_row10_col11\" class=\"data row10 col11\" >0.484866</td>\n",
       "    </tr>\n",
       "    <tr>\n",
       "      <th id=\"T_d872f_level0_row11\" class=\"row_heading level0 row11\" >quality</th>\n",
       "      <td id=\"T_d872f_row11_col0\" class=\"data row11 col0\" >0.121970</td>\n",
       "      <td id=\"T_d872f_row11_col1\" class=\"data row11 col1\" >-0.407394</td>\n",
       "      <td id=\"T_d872f_row11_col2\" class=\"data row11 col2\" >0.240821</td>\n",
       "      <td id=\"T_d872f_row11_col3\" class=\"data row11 col3\" >0.022002</td>\n",
       "      <td id=\"T_d872f_row11_col4\" class=\"data row11 col4\" >-0.124085</td>\n",
       "      <td id=\"T_d872f_row11_col5\" class=\"data row11 col5\" >-0.063260</td>\n",
       "      <td id=\"T_d872f_row11_col6\" class=\"data row11 col6\" >-0.183339</td>\n",
       "      <td id=\"T_d872f_row11_col7\" class=\"data row11 col7\" >-0.175208</td>\n",
       "      <td id=\"T_d872f_row11_col8\" class=\"data row11 col8\" >-0.052453</td>\n",
       "      <td id=\"T_d872f_row11_col9\" class=\"data row11 col9\" >0.257710</td>\n",
       "      <td id=\"T_d872f_row11_col10\" class=\"data row11 col10\" >0.484866</td>\n",
       "      <td id=\"T_d872f_row11_col11\" class=\"data row11 col11\" >1.000000</td>\n",
       "    </tr>\n",
       "  </tbody>\n",
       "</table>\n"
      ],
      "text/plain": [
       "<pandas.io.formats.style.Styler at 0x7fdf4f6f3b20>"
      ]
     },
     "execution_count": 71,
     "metadata": {},
     "output_type": "execute_result"
    }
   ],
   "source": [
    "vine.corr().style.background_gradient(cmap = 'PRGn')"
   ]
  },
  {
   "cell_type": "code",
   "execution_count": 72,
   "id": "ff2064b9",
   "metadata": {},
   "outputs": [
    {
     "data": {
      "image/png": "[encoded data removed]",
      "text/plain": [
       "<Figure size 648x288 with 1 Axes>"
      ]
     },
     "metadata": {
      "needs_background": "light"
     },
     "output_type": "display_data"
    },
    {
     "data": {
      "image/png": "[encoded data removed]",
      "text/plain": [
       "<Figure size 648x288 with 1 Axes>"
      ]
     },
     "metadata": {
      "needs_background": "light"
     },
     "output_type": "display_data"
    },
    {
     "data": {
      "image/png": "[encoded data removed]",
      "text/plain": [
       "<Figure size 648x288 with 1 Axes>"
      ]
     },
     "metadata": {
      "needs_background": "light"
     },
     "output_type": "display_data"
    },
    {
     "data": {
      "image/png": "[encoded data removed]",
      "text/plain": [
       "<Figure size 648x288 with 1 Axes>"
      ]
     },
     "metadata": {
      "needs_background": "light"
     },
     "output_type": "display_data"
    },
    {
     "data": {
      "image/png": "[encoded data removed]",
      "text/plain": [
       "<Figure size 648x288 with 1 Axes>"
      ]
     },
     "metadata": {
      "needs_background": "light"
     },
     "output_type": "display_data"
    },
    {
     "data": {
      "image/png": "[encoded data removed]",
      "text/plain": [
       "<Figure size 648x288 with 1 Axes>"
      ]
     },
     "metadata": {
      "needs_background": "light"
     },
     "output_type": "display_data"
    },
    {
     "data": {
      "image/png": "[encoded data removed]",
      "text/plain": [
       "<Figure size 648x288 with 1 Axes>"
      ]
     },
     "metadata": {
      "needs_background": "light"
     },
     "output_type": "display_data"
    },
    {
     "data": {
      "image/png": "[encoded data removed]",
      "text/plain": [
       "<Figure size 648x288 with 1 Axes>"
      ]
     },
     "metadata": {
      "needs_background": "light"
     },
     "output_type": "display_data"
    },
    {
     "data": {
      "image/png": "[encoded data removed]",
      "text/plain": [
       "<Figure size 648x288 with 1 Axes>"
      ]
     },
     "metadata": {
      "needs_background": "light"
     },
     "output_type": "display_data"
    },
    {
     "data": {
      "image/png": "[encoded data removed]",
      "text/plain": [
       "<Figure size 648x288 with 1 Axes>"
      ]
     },
     "metadata": {
      "needs_background": "light"
     },
     "output_type": "display_data"
    }
   ],
   "source": [
    "for data in vine.columns[:-2]:\n",
    "       \n",
    "    f, ax = plt.subplots(1, 1, figsize=(9, 4))    \n",
    "    ax = plt.scatter(y=vine[data],\n",
    "                    x=vine['quality'])\n",
    "    plt.grid()\n",
    "    plt.title(f\"{data} - Scatter plot analysis\")"
   ]
  },
  {
   "cell_type": "code",
   "execution_count": 73,
   "id": "a7d43467",
   "metadata": {},
   "outputs": [
    {
     "data": {
      "image/png": "[encoded data removed]",
      "text/plain": [
       "<Figure size 648x288 with 1 Axes>"
      ]
     },
     "metadata": {
      "needs_background": "light"
     },
     "output_type": "display_data"
    },
    {
     "data": {
      "image/png": "[encoded data removed]",
      "text/plain": [
       "<Figure size 648x288 with 1 Axes>"
      ]
     },
     "metadata": {
      "needs_background": "light"
     },
     "output_type": "display_data"
    },
    {
     "data": {
      "image/png": "[encoded data removed]",
      "text/plain": [
       "<Figure size 648x288 with 1 Axes>"
      ]
     },
     "metadata": {
      "needs_background": "light"
     },
     "output_type": "display_data"
    },
    {
     "data": {
      "image/png": "[encoded data removed]",
      "text/plain": [
       "<Figure size 648x288 with 1 Axes>"
      ]
     },
     "metadata": {
      "needs_background": "light"
     },
     "output_type": "display_data"
    },
    {
     "data": {
      "image/png": "[encoded data removed]",
      "text/plain": [
       "<Figure size 648x288 with 1 Axes>"
      ]
     },
     "metadata": {
      "needs_background": "light"
     },
     "output_type": "display_data"
    },
    {
     "data": {
      "image/png": "[encoded data removed]",
      "text/plain": [
       "<Figure size 648x288 with 1 Axes>"
      ]
     },
     "metadata": {
      "needs_background": "light"
     },
     "output_type": "display_data"
    },
    {
     "data": {
      "image/png": "[encoded data removed]",
      "text/plain": [
       "<Figure size 648x288 with 1 Axes>"
      ]
     },
     "metadata": {
      "needs_background": "light"
     },
     "output_type": "display_data"
    },
    {
     "data": {
      "image/png": "[encoded data removed]",
      "text/plain": [
       "<Figure size 648x288 with 1 Axes>"
      ]
     },
     "metadata": {
      "needs_background": "light"
     },
     "output_type": "display_data"
    },
    {
     "data": {
      "image/png": "[encoded data removed]",
      "text/plain": [
       "<Figure size 648x288 with 1 Axes>"
      ]
     },
     "metadata": {
      "needs_background": "light"
     },
     "output_type": "display_data"
    },
    {
     "data": {
      "image/png": "[encoded data removed]",
      "text/plain": [
       "<Figure size 648x288 with 1 Axes>"
      ]
     },
     "metadata": {
      "needs_background": "light"
     },
     "output_type": "display_data"
    },
    {
     "data": {
      "image/png": "[encoded data removed]",
      "text/plain": [
       "<Figure size 648x288 with 1 Axes>"
      ]
     },
     "metadata": {
      "needs_background": "light"
     },
     "output_type": "display_data"
    },
    {
     "data": {
      "image/png": "[encoded data removed]",
      "text/plain": [
       "<Figure size 648x288 with 1 Axes>"
      ]
     },
     "metadata": {
      "needs_background": "light"
     },
     "output_type": "display_data"
    }
   ],
   "source": [
    "for data in vine.columns:\n",
    "    \n",
    "    bins = [len(set(vine[data].values)) if len(set(vine[data].values)) < 50 else 50]\n",
    "    \n",
    "    f, ax = plt.subplots(1, 1, figsize=(9, 4))    \n",
    "    plt.hist(vine[data], bins=bins[0], alpha=0.8)\n",
    "    \n",
    "    mean = vine[data].mean()\n",
    "    median = vine[data].median()\n",
    "    mode = vine[data].mode().values[0]\n",
    "    \n",
    "    ax.axvline(mean, color='r', linestyle='--', label=\"Mean\")\n",
    "    ax.axvline(median, color='g', linestyle='-', label=\"Mean\")\n",
    "    ax.axvline(mode, color='b', linestyle='-', label=\"Mode\")\n",
    "    \n",
    "    ax.legend()\n",
    "    plt.grid()\n",
    "    plt.title(f\"{data} - Histogram analysis\")"
   ]
  },
  {
   "cell_type": "code",
   "execution_count": 84,
   "id": "2ff04585",
   "metadata": {},
   "outputs": [
    {
     "data": {
      "image/png": "[encoded data removed]",
      "text/plain": [
       "<Figure size 432x288 with 1 Axes>"
      ]
     },
     "metadata": {
      "needs_background": "light"
     },
     "output_type": "display_data"
    },
    {
     "data": {
      "image/png": "[encoded data removed]",
      "text/plain": [
       "<Figure size 432x288 with 1 Axes>"
      ]
     },
     "metadata": {
      "needs_background": "light"
     },
     "output_type": "display_data"
    },
    {
     "data": {
      "image/png": "[encoded data removed]",
      "text/plain": [
       "<Figure size 432x288 with 1 Axes>"
      ]
     },
     "metadata": {
      "needs_background": "light"
     },
     "output_type": "display_data"
    },
    {
     "data": {
      "image/png": "[encoded data removed]",
      "text/plain": [
       "<Figure size 432x288 with 1 Axes>"
      ]
     },
     "metadata": {
      "needs_background": "light"
     },
     "output_type": "display_data"
    },
    {
     "data": {
      "image/png": "[encoded data removed]",
      "text/plain": [
       "<Figure size 432x288 with 1 Axes>"
      ]
     },
     "metadata": {
      "needs_background": "light"
     },
     "output_type": "display_data"
    },
    {
     "data": {
      "image/png": "[encoded data removed]",
      "text/plain": [
       "<Figure size 432x288 with 1 Axes>"
      ]
     },
     "metadata": {
      "needs_background": "light"
     },
     "output_type": "display_data"
    },
    {
     "data": {
      "image/png": "[encoded data removed]",
      "text/plain": [
       "<Figure size 432x288 with 1 Axes>"
      ]
     },
     "metadata": {
      "needs_background": "light"
     },
     "output_type": "display_data"
    },
    {
     "data": {
      "image/png": "[encoded data removed]",
      "text/plain": [
       "<Figure size 432x288 with 1 Axes>"
      ]
     },
     "metadata": {
      "needs_background": "light"
     },
     "output_type": "display_data"
    },
    {
     "data": {
      "image/png": "[encoded data removed]",
      "text/plain": [
       "<Figure size 432x288 with 1 Axes>"
      ]
     },
     "metadata": {
      "needs_background": "light"
     },
     "output_type": "display_data"
    },
    {
     "data": {
      "image/png": "[encoded data removed]",
      "text/plain": [
       "<Figure size 432x288 with 1 Axes>"
      ]
     },
     "metadata": {
      "needs_background": "light"
     },
     "output_type": "display_data"
    },
    {
     "data": {
      "image/png": "[encoded data removed]",
      "text/plain": [
       "<Figure size 432x288 with 1 Axes>"
      ]
     },
     "metadata": {
      "needs_background": "light"
     },
     "output_type": "display_data"
    },
    {
     "data": {
      "image/png": "[encoded data removed]",
      "text/plain": [
       "<Figure size 432x288 with 1 Axes>"
      ]
     },
     "metadata": {
      "needs_background": "light"
     },
     "output_type": "display_data"
    }
   ],
   "source": [
    "for data in vine.columns:\n",
    "    \n",
    "    bins = [len(set(vine[data].values)) if len(set(vine[data].values)) < 50 else 50]\n",
    "    \n",
    "    f, ax = plt.subplots(1, 1, figsize=(6, 4))    \n",
    "    plt.boxplot(vine[data], vert=False)\n",
    "    \n",
    "    plt.grid()\n",
    "    plt.title(f\"{data} - Boxplot analysis\")"
   ]
  },
  {
   "cell_type": "markdown",
   "id": "f0cf3b10",
   "metadata": {},
   "source": [
    "# Task 4. Work with bioinf data\n",
    "\n",
    "- `rrna_annotation.gff` - annotation of ribosomal RNA.\n",
    "- `alignment.bed` - file with metagenomic assembly alignment to the same dataset. \n"
   ]
  },
  {
   "cell_type": "markdown",
   "id": "a182f768",
   "metadata": {},
   "source": [
    "## 4.1. read_gff and read_bed6\n",
    "\n",
    "Напишите функции read_gff и read_bed6 для чтения соответствующих форматов. Они должны возвращать датафреймы как в примере (картинка Example1), но имена колонок можно сделать любыми."
   ]
  },
  {
   "cell_type": "code",
   "execution_count": 139,
   "id": "4de925d3",
   "metadata": {},
   "outputs": [],
   "source": [
    "def read_gff(file):\n",
    "    '''\n",
    "    Read gff file and return Pandas DataFrame.\n",
    "    '''    \n",
    "    colnames = ['chromosome', 'source', 'type',\n",
    "                'start', 'end', 'score',\n",
    "                'strand', 'phase', 'attributes']\n",
    "    lines = []\n",
    "    \n",
    "    with open(file) as f:\n",
    "        for line in f:\n",
    "            line = f.readline().strip('\\n^').split('\\t')\n",
    "            if line != ['']:\n",
    "                lines.append(line)\n",
    "\n",
    "    df_gff = pd.DataFrame(lines, columns=colnames)\n",
    "        \n",
    "    return df_gff"
   ]
  },
  {
   "cell_type": "code",
   "execution_count": 140,
   "id": "ce049a48",
   "metadata": {},
   "outputs": [],
   "source": [
    "gff_df = read_gff('./data/rrna_annotation.gff')"
   ]
  },
  {
   "cell_type": "code",
   "execution_count": 141,
   "id": "7eb0558d",
   "metadata": {},
   "outputs": [
    {
     "data": {
      "text/html": [
       "<div>\n",
       "<style scoped>\n",
       "    .dataframe tbody tr th:only-of-type {\n",
       "        vertical-align: middle;\n",
       "    }\n",
       "\n",
       "    .dataframe tbody tr th {\n",
       "        vertical-align: top;\n",
       "    }\n",
       "\n",
       "    .dataframe thead th {\n",
       "        text-align: right;\n",
       "    }\n",
       "</style>\n",
       "<table border=\"1\" class=\"dataframe\">\n",
       "  <thead>\n",
       "    <tr style=\"text-align: right;\">\n",
       "      <th></th>\n",
       "      <th>chromosome</th>\n",
       "      <th>source</th>\n",
       "      <th>type</th>\n",
       "      <th>start</th>\n",
       "      <th>end</th>\n",
       "      <th>score</th>\n",
       "      <th>strand</th>\n",
       "      <th>phase</th>\n",
       "      <th>attributes</th>\n",
       "    </tr>\n",
       "  </thead>\n",
       "  <tbody>\n",
       "    <tr>\n",
       "      <th>0</th>\n",
       "      <td>Reference_10</td>\n",
       "      <td>barrnap:0.9</td>\n",
       "      <td>rRNA</td>\n",
       "      <td>67122</td>\n",
       "      <td>68652</td>\n",
       "      <td>0.0</td>\n",
       "      <td>+</td>\n",
       "      <td>.</td>\n",
       "      <td>Name=16S_rRNA;product=16S ribosomal RNA</td>\n",
       "    </tr>\n",
       "    <tr>\n",
       "      <th>1</th>\n",
       "      <td>Reference_10</td>\n",
       "      <td>barrnap:0.9</td>\n",
       "      <td>rRNA</td>\n",
       "      <td>469298</td>\n",
       "      <td>470826</td>\n",
       "      <td>0.0</td>\n",
       "      <td>+</td>\n",
       "      <td>.</td>\n",
       "      <td>Name=16S_rRNA;product=16S ribosomal RNA</td>\n",
       "    </tr>\n",
       "    <tr>\n",
       "      <th>2</th>\n",
       "      <td>Reference_10</td>\n",
       "      <td>barrnap:0.9</td>\n",
       "      <td>rRNA</td>\n",
       "      <td>3629599</td>\n",
       "      <td>3632680</td>\n",
       "      <td>0.0</td>\n",
       "      <td>-</td>\n",
       "      <td>.</td>\n",
       "      <td>Name=23S_rRNA;product=23S ribosomal RNA</td>\n",
       "    </tr>\n",
       "    <tr>\n",
       "      <th>3</th>\n",
       "      <td>Reference_10</td>\n",
       "      <td>barrnap:0.9</td>\n",
       "      <td>rRNA</td>\n",
       "      <td>6168837</td>\n",
       "      <td>6170367</td>\n",
       "      <td>0.0</td>\n",
       "      <td>+</td>\n",
       "      <td>.</td>\n",
       "      <td>Name=16S_rRNA;product=16S ribosomal RNA</td>\n",
       "    </tr>\n",
       "    <tr>\n",
       "      <th>4</th>\n",
       "      <td>Reference_10</td>\n",
       "      <td>barrnap:0.9</td>\n",
       "      <td>rRNA</td>\n",
       "      <td>6283193</td>\n",
       "      <td>6284716</td>\n",
       "      <td>0.0</td>\n",
       "      <td>+</td>\n",
       "      <td>.</td>\n",
       "      <td>Name=16S_rRNA;product=16S ribosomal RNA</td>\n",
       "    </tr>\n",
       "    <tr>\n",
       "      <th>...</th>\n",
       "      <td>...</td>\n",
       "      <td>...</td>\n",
       "      <td>...</td>\n",
       "      <td>...</td>\n",
       "      <td>...</td>\n",
       "      <td>...</td>\n",
       "      <td>...</td>\n",
       "      <td>...</td>\n",
       "      <td>...</td>\n",
       "    </tr>\n",
       "    <tr>\n",
       "      <th>169</th>\n",
       "      <td>Reference_14</td>\n",
       "      <td>barrnap:0.9</td>\n",
       "      <td>rRNA</td>\n",
       "      <td>3770571</td>\n",
       "      <td>3772040</td>\n",
       "      <td>0.0</td>\n",
       "      <td>-</td>\n",
       "      <td>.</td>\n",
       "      <td>Name=16S_rRNA;product=16S ribosomal RNA</td>\n",
       "    </tr>\n",
       "    <tr>\n",
       "      <th>170</th>\n",
       "      <td>Reference_25</td>\n",
       "      <td>barrnap:0.9</td>\n",
       "      <td>rRNA</td>\n",
       "      <td>1329601</td>\n",
       "      <td>1332508</td>\n",
       "      <td>0.0</td>\n",
       "      <td>-</td>\n",
       "      <td>.</td>\n",
       "      <td>Name=23S_rRNA;product=23S ribosomal RNA</td>\n",
       "    </tr>\n",
       "    <tr>\n",
       "      <th>171</th>\n",
       "      <td>Reference_25</td>\n",
       "      <td>barrnap:0.9</td>\n",
       "      <td>rRNA</td>\n",
       "      <td>1817946</td>\n",
       "      <td>1819416</td>\n",
       "      <td>0.0</td>\n",
       "      <td>+</td>\n",
       "      <td>.</td>\n",
       "      <td>Name=16S_rRNA;product=16S ribosomal RNA</td>\n",
       "    </tr>\n",
       "    <tr>\n",
       "      <th>172</th>\n",
       "      <td>Reference_25</td>\n",
       "      <td>barrnap:0.9</td>\n",
       "      <td>rRNA</td>\n",
       "      <td>1822913</td>\n",
       "      <td>1823016</td>\n",
       "      <td>2.9e-10</td>\n",
       "      <td>+</td>\n",
       "      <td>.</td>\n",
       "      <td>Name=5S_rRNA;product=5S ribosomal RNA</td>\n",
       "    </tr>\n",
       "    <tr>\n",
       "      <th>173</th>\n",
       "      <td>Reference_25</td>\n",
       "      <td>barrnap:0.9</td>\n",
       "      <td>rRNA</td>\n",
       "      <td>3744287</td>\n",
       "      <td>3747194</td>\n",
       "      <td>0.0</td>\n",
       "      <td>-</td>\n",
       "      <td>.</td>\n",
       "      <td>Name=23S_rRNA;product=23S ribosomal RNA</td>\n",
       "    </tr>\n",
       "  </tbody>\n",
       "</table>\n",
       "<p>174 rows × 9 columns</p>\n",
       "</div>"
      ],
      "text/plain": [
       "       chromosome       source  type    start      end    score strand phase  \\\n",
       "0    Reference_10  barrnap:0.9  rRNA    67122    68652      0.0      +     .   \n",
       "1    Reference_10  barrnap:0.9  rRNA   469298   470826      0.0      +     .   \n",
       "2    Reference_10  barrnap:0.9  rRNA  3629599  3632680      0.0      -     .   \n",
       "3    Reference_10  barrnap:0.9  rRNA  6168837  6170367      0.0      +     .   \n",
       "4    Reference_10  barrnap:0.9  rRNA  6283193  6284716      0.0      +     .   \n",
       "..            ...          ...   ...      ...      ...      ...    ...   ...   \n",
       "169  Reference_14  barrnap:0.9  rRNA  3770571  3772040      0.0      -     .   \n",
       "170  Reference_25  barrnap:0.9  rRNA  1329601  1332508      0.0      -     .   \n",
       "171  Reference_25  barrnap:0.9  rRNA  1817946  1819416      0.0      +     .   \n",
       "172  Reference_25  barrnap:0.9  rRNA  1822913  1823016  2.9e-10      +     .   \n",
       "173  Reference_25  barrnap:0.9  rRNA  3744287  3747194      0.0      -     .   \n",
       "\n",
       "                                  attributes  \n",
       "0    Name=16S_rRNA;product=16S ribosomal RNA  \n",
       "1    Name=16S_rRNA;product=16S ribosomal RNA  \n",
       "2    Name=23S_rRNA;product=23S ribosomal RNA  \n",
       "3    Name=16S_rRNA;product=16S ribosomal RNA  \n",
       "4    Name=16S_rRNA;product=16S ribosomal RNA  \n",
       "..                                       ...  \n",
       "169  Name=16S_rRNA;product=16S ribosomal RNA  \n",
       "170  Name=23S_rRNA;product=23S ribosomal RNA  \n",
       "171  Name=16S_rRNA;product=16S ribosomal RNA  \n",
       "172    Name=5S_rRNA;product=5S ribosomal RNA  \n",
       "173  Name=23S_rRNA;product=23S ribosomal RNA  \n",
       "\n",
       "[174 rows x 9 columns]"
      ]
     },
     "execution_count": 141,
     "metadata": {},
     "output_type": "execute_result"
    }
   ],
   "source": [
    "gff_df"
   ]
  },
  {
   "cell_type": "code",
   "execution_count": 121,
   "id": "02900219",
   "metadata": {},
   "outputs": [],
   "source": [
    "def read_bed6(file):\n",
    "    '''\n",
    "    Read bed6 file and return Pandas DataFrame.\n",
    "    '''    \n",
    "    colnames = ['chromosome', 'start', 'end', 'name', 'score', 'strand']\n",
    "    lines = []\n",
    "    \n",
    "    with open(file) as f:\n",
    "        for line in f:\n",
    "            line = f.readline().strip('\\n^').split('\\t')\n",
    "            if line != ['']:\n",
    "                lines.append(line)\n",
    "\n",
    "    df_bed6 = pd.DataFrame(lines, columns=colnames)\n",
    "        \n",
    "    return df_bed6"
   ]
  },
  {
   "cell_type": "code",
   "execution_count": 123,
   "id": "ffe42676",
   "metadata": {},
   "outputs": [],
   "source": [
    "df_bed6 = read_bed6('./data/alignment.bed')"
   ]
  },
  {
   "cell_type": "code",
   "execution_count": 124,
   "id": "3a267a2b",
   "metadata": {},
   "outputs": [
    {
     "data": {
      "text/html": [
       "<div>\n",
       "<style scoped>\n",
       "    .dataframe tbody tr th:only-of-type {\n",
       "        vertical-align: middle;\n",
       "    }\n",
       "\n",
       "    .dataframe tbody tr th {\n",
       "        vertical-align: top;\n",
       "    }\n",
       "\n",
       "    .dataframe thead th {\n",
       "        text-align: right;\n",
       "    }\n",
       "</style>\n",
       "<table border=\"1\" class=\"dataframe\">\n",
       "  <thead>\n",
       "    <tr style=\"text-align: right;\">\n",
       "      <th></th>\n",
       "      <th>chromosome</th>\n",
       "      <th>start</th>\n",
       "      <th>end</th>\n",
       "      <th>name</th>\n",
       "      <th>score</th>\n",
       "      <th>strand</th>\n",
       "    </tr>\n",
       "  </thead>\n",
       "  <tbody>\n",
       "    <tr>\n",
       "      <th>0</th>\n",
       "      <td>Reference_1</td>\n",
       "      <td>202886</td>\n",
       "      <td>202996</td>\n",
       "      <td>NODE_19543_length_110_cov_1549.290909</td>\n",
       "      <td>0</td>\n",
       "      <td>-</td>\n",
       "    </tr>\n",
       "    <tr>\n",
       "      <th>1</th>\n",
       "      <td>Reference_1</td>\n",
       "      <td>203322</td>\n",
       "      <td>785222</td>\n",
       "      <td>NODE_25_length_581906_cov_146.024228</td>\n",
       "      <td>60</td>\n",
       "      <td>+</td>\n",
       "    </tr>\n",
       "    <tr>\n",
       "      <th>2</th>\n",
       "      <td>Reference_1</td>\n",
       "      <td>1763926</td>\n",
       "      <td>1764363</td>\n",
       "      <td>NODE_5666_length_436_cov_418.653543</td>\n",
       "      <td>0</td>\n",
       "      <td>-</td>\n",
       "    </tr>\n",
       "    <tr>\n",
       "      <th>3</th>\n",
       "      <td>Reference_1</td>\n",
       "      <td>1767018</td>\n",
       "      <td>1769623</td>\n",
       "      <td>NODE_1445_length_2603_cov_1135.593799</td>\n",
       "      <td>0</td>\n",
       "      <td>+</td>\n",
       "    </tr>\n",
       "    <tr>\n",
       "      <th>4</th>\n",
       "      <td>Reference_1</td>\n",
       "      <td>2018035</td>\n",
       "      <td>2034640</td>\n",
       "      <td>NODE_778_length_16705_cov_121.032613</td>\n",
       "      <td>60</td>\n",
       "      <td>-</td>\n",
       "    </tr>\n",
       "    <tr>\n",
       "      <th>...</th>\n",
       "      <td>...</td>\n",
       "      <td>...</td>\n",
       "      <td>...</td>\n",
       "      <td>...</td>\n",
       "      <td>...</td>\n",
       "      <td>...</td>\n",
       "    </tr>\n",
       "    <tr>\n",
       "      <th>3850</th>\n",
       "      <td>Reference_26</td>\n",
       "      <td>5314384</td>\n",
       "      <td>5314439</td>\n",
       "      <td>NODE_19738_length_90_cov_11.600000</td>\n",
       "      <td>0</td>\n",
       "      <td>+</td>\n",
       "    </tr>\n",
       "    <tr>\n",
       "      <th>3851</th>\n",
       "      <td>Reference_26</td>\n",
       "      <td>5532081</td>\n",
       "      <td>5532487</td>\n",
       "      <td>NODE_6123_length_406_cov_55.763533</td>\n",
       "      <td>0</td>\n",
       "      <td>-</td>\n",
       "    </tr>\n",
       "    <tr>\n",
       "      <th>3852</th>\n",
       "      <td>Reference_26</td>\n",
       "      <td>5532432</td>\n",
       "      <td>5535601</td>\n",
       "      <td>NODE_1329_length_3169_cov_103.935132</td>\n",
       "      <td>5</td>\n",
       "      <td>+</td>\n",
       "    </tr>\n",
       "    <tr>\n",
       "      <th>3853</th>\n",
       "      <td>Reference_26</td>\n",
       "      <td>5535667</td>\n",
       "      <td>5537226</td>\n",
       "      <td>NODE_2001_length_1559_cov_98.029920</td>\n",
       "      <td>0</td>\n",
       "      <td>+</td>\n",
       "    </tr>\n",
       "    <tr>\n",
       "      <th>3854</th>\n",
       "      <td>Reference_26</td>\n",
       "      <td>5537288</td>\n",
       "      <td>5608040</td>\n",
       "      <td>NODE_237_length_95089_cov_34.836785</td>\n",
       "      <td>60</td>\n",
       "      <td>+</td>\n",
       "    </tr>\n",
       "  </tbody>\n",
       "</table>\n",
       "<p>3855 rows × 6 columns</p>\n",
       "</div>"
      ],
      "text/plain": [
       "        chromosome    start      end                                   name  \\\n",
       "0      Reference_1   202886   202996  NODE_19543_length_110_cov_1549.290909   \n",
       "1      Reference_1   203322   785222   NODE_25_length_581906_cov_146.024228   \n",
       "2      Reference_1  1763926  1764363    NODE_5666_length_436_cov_418.653543   \n",
       "3      Reference_1  1767018  1769623  NODE_1445_length_2603_cov_1135.593799   \n",
       "4      Reference_1  2018035  2034640   NODE_778_length_16705_cov_121.032613   \n",
       "...            ...      ...      ...                                    ...   \n",
       "3850  Reference_26  5314384  5314439     NODE_19738_length_90_cov_11.600000   \n",
       "3851  Reference_26  5532081  5532487     NODE_6123_length_406_cov_55.763533   \n",
       "3852  Reference_26  5532432  5535601   NODE_1329_length_3169_cov_103.935132   \n",
       "3853  Reference_26  5535667  5537226    NODE_2001_length_1559_cov_98.029920   \n",
       "3854  Reference_26  5537288  5608040    NODE_237_length_95089_cov_34.836785   \n",
       "\n",
       "     score strand  \n",
       "0        0      -  \n",
       "1       60      +  \n",
       "2        0      -  \n",
       "3        0      +  \n",
       "4       60      -  \n",
       "...    ...    ...  \n",
       "3850     0      +  \n",
       "3851     0      -  \n",
       "3852     5      +  \n",
       "3853     0      +  \n",
       "3854    60      +  \n",
       "\n",
       "[3855 rows x 6 columns]"
      ]
     },
     "execution_count": 124,
     "metadata": {},
     "output_type": "execute_result"
    }
   ],
   "source": [
    "df_bed6"
   ]
  },
  {
   "cell_type": "markdown",
   "id": "a142e5e9",
   "metadata": {},
   "source": [
    "## 4.2 Truncate attributes column\n",
    "\n",
    "Колонка с атрибутами несёт слишком много избыточной информации и ей не удобно пользоваться, оставьте в ней только данные о типе рРНК одной короткой строкой (16S, 23S, 5S).\n"
   ]
  },
  {
   "cell_type": "code",
   "execution_count": 142,
   "id": "63105c66",
   "metadata": {},
   "outputs": [],
   "source": [
    "gff_df['attributes'] = gff_df['attributes'].str.replace(r'(?<=[0-9]S).*', '', regex=True)\n",
    "gff_df['attributes'] = gff_df['attributes'].str.replace(r'.*=(?=[0-9]{1,2}S)', '', regex=True)"
   ]
  },
  {
   "cell_type": "code",
   "execution_count": 152,
   "id": "425c408a",
   "metadata": {},
   "outputs": [
    {
     "data": {
      "text/html": [
       "<div>\n",
       "<style scoped>\n",
       "    .dataframe tbody tr th:only-of-type {\n",
       "        vertical-align: middle;\n",
       "    }\n",
       "\n",
       "    .dataframe tbody tr th {\n",
       "        vertical-align: top;\n",
       "    }\n",
       "\n",
       "    .dataframe thead th {\n",
       "        text-align: right;\n",
       "    }\n",
       "</style>\n",
       "<table border=\"1\" class=\"dataframe\">\n",
       "  <thead>\n",
       "    <tr style=\"text-align: right;\">\n",
       "      <th></th>\n",
       "      <th>chromosome</th>\n",
       "      <th>source</th>\n",
       "      <th>type</th>\n",
       "      <th>start</th>\n",
       "      <th>end</th>\n",
       "      <th>score</th>\n",
       "      <th>strand</th>\n",
       "      <th>phase</th>\n",
       "      <th>attributes</th>\n",
       "    </tr>\n",
       "  </thead>\n",
       "  <tbody>\n",
       "    <tr>\n",
       "      <th>0</th>\n",
       "      <td>Reference_10</td>\n",
       "      <td>barrnap:0.9</td>\n",
       "      <td>rRNA</td>\n",
       "      <td>67122</td>\n",
       "      <td>68652</td>\n",
       "      <td>0.0</td>\n",
       "      <td>+</td>\n",
       "      <td>.</td>\n",
       "      <td>16S</td>\n",
       "    </tr>\n",
       "    <tr>\n",
       "      <th>1</th>\n",
       "      <td>Reference_10</td>\n",
       "      <td>barrnap:0.9</td>\n",
       "      <td>rRNA</td>\n",
       "      <td>469298</td>\n",
       "      <td>470826</td>\n",
       "      <td>0.0</td>\n",
       "      <td>+</td>\n",
       "      <td>.</td>\n",
       "      <td>16S</td>\n",
       "    </tr>\n",
       "    <tr>\n",
       "      <th>2</th>\n",
       "      <td>Reference_10</td>\n",
       "      <td>barrnap:0.9</td>\n",
       "      <td>rRNA</td>\n",
       "      <td>3629599</td>\n",
       "      <td>3632680</td>\n",
       "      <td>0.0</td>\n",
       "      <td>-</td>\n",
       "      <td>.</td>\n",
       "      <td>23S</td>\n",
       "    </tr>\n",
       "    <tr>\n",
       "      <th>3</th>\n",
       "      <td>Reference_10</td>\n",
       "      <td>barrnap:0.9</td>\n",
       "      <td>rRNA</td>\n",
       "      <td>6168837</td>\n",
       "      <td>6170367</td>\n",
       "      <td>0.0</td>\n",
       "      <td>+</td>\n",
       "      <td>.</td>\n",
       "      <td>16S</td>\n",
       "    </tr>\n",
       "    <tr>\n",
       "      <th>4</th>\n",
       "      <td>Reference_10</td>\n",
       "      <td>barrnap:0.9</td>\n",
       "      <td>rRNA</td>\n",
       "      <td>6283193</td>\n",
       "      <td>6284716</td>\n",
       "      <td>0.0</td>\n",
       "      <td>+</td>\n",
       "      <td>.</td>\n",
       "      <td>16S</td>\n",
       "    </tr>\n",
       "  </tbody>\n",
       "</table>\n",
       "</div>"
      ],
      "text/plain": [
       "     chromosome       source  type    start      end score strand phase  \\\n",
       "0  Reference_10  barrnap:0.9  rRNA    67122    68652   0.0      +     .   \n",
       "1  Reference_10  barrnap:0.9  rRNA   469298   470826   0.0      +     .   \n",
       "2  Reference_10  barrnap:0.9  rRNA  3629599  3632680   0.0      -     .   \n",
       "3  Reference_10  barrnap:0.9  rRNA  6168837  6170367   0.0      +     .   \n",
       "4  Reference_10  barrnap:0.9  rRNA  6283193  6284716   0.0      +     .   \n",
       "\n",
       "  attributes  \n",
       "0        16S  \n",
       "1        16S  \n",
       "2        23S  \n",
       "3        16S  \n",
       "4        16S  "
      ]
     },
     "execution_count": 152,
     "metadata": {},
     "output_type": "execute_result"
    }
   ],
   "source": [
    "gff_df.head()"
   ]
  },
  {
   "cell_type": "markdown",
   "id": "65259973",
   "metadata": {},
   "source": [
    "## 4.3 Count RNA types for each chr\n",
    "\n",
    "Сделайте таблицу, где для каждой хромосомы (на самом деле это не хромосомы, а референсные геномы) показано количество рРНК каждого типа. Можно построить barplot, отображающий эти данные"
   ]
  },
  {
   "cell_type": "code",
   "execution_count": 186,
   "id": "9a39f3c2",
   "metadata": {},
   "outputs": [
    {
     "data": {
      "text/plain": [
       "chromosome    attributes\n",
       "Reference_1   16S           1\n",
       "              23S           1\n",
       "              5S            1\n",
       "Reference_10  16S           4\n",
       "              23S           1\n",
       "                           ..\n",
       "Reference_7   5S            3\n",
       "Reference_8   23S           2\n",
       "Reference_9   16S           3\n",
       "              23S           3\n",
       "              5S            3\n",
       "Name: attributes, Length: 71, dtype: int64"
      ]
     },
     "execution_count": 186,
     "metadata": {},
     "output_type": "execute_result"
    }
   ],
   "source": [
    "gff_df.groupby('chromosome').attributes.value_counts()"
   ]
  },
  {
   "cell_type": "code",
   "execution_count": 184,
   "id": "b3365c7a",
   "metadata": {},
   "outputs": [
    {
     "data": {
      "text/plain": [
       "<AxesSubplot:ylabel='chromosome'>"
      ]
     },
     "execution_count": 184,
     "metadata": {},
     "output_type": "execute_result"
    },
    {
     "data": {
      "image/png": "[encoded data removed]",
      "text/plain": [
       "<Figure size 1080x1080 with 1 Axes>"
      ]
     },
     "metadata": {
      "needs_background": "light"
     },
     "output_type": "display_data"
    }
   ],
   "source": [
    "gff_df.groupby('attributes').chromosome.value_counts().unstack(0).plot.barh()"
   ]
  },
  {
   "cell_type": "code",
   "execution_count": null,
   "id": "cff2266e",
   "metadata": {},
   "outputs": [],
   "source": []
  }
 ],
 "metadata": {
  "kernelspec": {
   "display_name": "Python 3 (ipykernel)",
   "language": "python",
   "name": "python3"
  },
  "language_info": {
   "codemirror_mode": {
    "name": "ipython",
    "version": 3
   },
   "file_extension": ".py",
   "mimetype": "text/x-python",
   "name": "python",
   "nbconvert_exporter": "python",
   "pygments_lexer": "ipython3",
   "version": "3.10.2"
  }
 },
 "nbformat": 4,
 "nbformat_minor": 5
}
